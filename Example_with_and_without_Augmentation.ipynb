{
  "nbformat": 4,
  "nbformat_minor": 0,
  "metadata": {
    "colab": {
      "name": "Example_with_and_without_Augmentation.ipynb",
      "provenance": [],
      "collapsed_sections": [],
      "authorship_tag": "ABX9TyPi9WbuQtYHovRJgjEoyq4i",
      "include_colab_link": true
    },
    "kernelspec": {
      "display_name": "Python 3",
      "name": "python3"
    }
  },
  "cells": [
    {
      "cell_type": "markdown",
      "metadata": {
        "id": "view-in-github",
        "colab_type": "text"
      },
      "source": [
        "<a href=\"https://colab.research.google.com/github/kjcoursera/TensorFlow/blob/main/Example_with_and_without_Augmentation.ipynb\" target=\"_parent\"><img src=\"https://colab.research.google.com/assets/colab-badge.svg\" alt=\"Open In Colab\"/></a>"
      ]
    },
    {
      "cell_type": "code",
      "metadata": {
        "id": "7DFcFCJzl2rj",
        "outputId": "f5c241f0-de40-4d57-a959-d4bcb817e2ae",
        "colab": {
          "base_uri": "https://localhost:8080/"
        }
      },
      "source": [
        "!wget --no-check-certificate \\\n",
        "    https://storage.googleapis.com/mledu-datasets/cats_and_dogs_filtered.zip \\\n",
        "    -O /tmp/cats_and_dogs_filtered.zip"
      ],
      "execution_count": null,
      "outputs": [
        {
          "output_type": "stream",
          "text": [
            "--2020-11-11 14:13:14--  https://storage.googleapis.com/mledu-datasets/cats_and_dogs_filtered.zip\n",
            "Resolving storage.googleapis.com (storage.googleapis.com)... 173.194.214.128, 173.194.216.128, 173.194.217.128, ...\n",
            "Connecting to storage.googleapis.com (storage.googleapis.com)|173.194.214.128|:443... connected.\n",
            "HTTP request sent, awaiting response... 200 OK\n",
            "Length: 68606236 (65M) [application/zip]\n",
            "Saving to: ‘/tmp/cats_and_dogs_filtered.zip’\n",
            "\n",
            "/tmp/cats_and_dogs_ 100%[===================>]  65.43M   143MB/s    in 0.5s    \n",
            "\n",
            "2020-11-11 14:13:14 (143 MB/s) - ‘/tmp/cats_and_dogs_filtered.zip’ saved [68606236/68606236]\n",
            "\n"
          ],
          "name": "stdout"
        }
      ]
    },
    {
      "cell_type": "code",
      "metadata": {
        "id": "-OLj-h9NpzXr"
      },
      "source": [
        "import os\n",
        "import zipfile\n",
        "import tensorflow as tf\n",
        "from tensorflow.keras.optimizers import RMSprop\n",
        "from tensorflow.keras.preprocessing.image import ImageDataGenerator"
      ],
      "execution_count": null,
      "outputs": []
    },
    {
      "cell_type": "code",
      "metadata": {
        "id": "DoSfI2FKqMxR"
      },
      "source": [
        "local_zip = '/tmp/cats_and_dogs_filtered.zip'\n",
        "zip_ref = zipfile.ZipFile(local_zip,'r')\n",
        "zip_ref.extractall('/tmp')\n",
        "zip_ref.close()"
      ],
      "execution_count": null,
      "outputs": []
    },
    {
      "cell_type": "code",
      "metadata": {
        "id": "c_zYBfcCq1bz"
      },
      "source": [
        "base_dir = '/tmp/cats_and_dogs_filtered'\n",
        "train_dir = os.path.join(base_dir,'train')\n",
        "validation_dir = os.path.join(base_dir,'validation')"
      ],
      "execution_count": null,
      "outputs": []
    },
    {
      "cell_type": "code",
      "metadata": {
        "id": "5D0VPVwyrPG1",
        "outputId": "79b564bb-606f-40c7-a2ae-9084e3bd1d9c",
        "colab": {
          "base_uri": "https://localhost:8080/"
        }
      },
      "source": [
        "os.listdir('/tmp/cats_and_dogs_filtered/train')"
      ],
      "execution_count": null,
      "outputs": [
        {
          "output_type": "execute_result",
          "data": {
            "text/plain": [
              "['cats', 'dogs']"
            ]
          },
          "metadata": {
            "tags": []
          },
          "execution_count": 12
        }
      ]
    },
    {
      "cell_type": "code",
      "metadata": {
        "id": "0sjio3yOrYPW"
      },
      "source": [
        "train_cats_dir = os.path.join(train_dir,'cats')\n",
        "train_dogs_dir = os.path.join(train_dir,'dogs')"
      ],
      "execution_count": null,
      "outputs": []
    },
    {
      "cell_type": "code",
      "metadata": {
        "id": "ib06_gMRruDm"
      },
      "source": [
        "validation_cats_dir = os.path.join(validation_dir,'cats')\n",
        "validation_dogs_dir = os.path.join(validation_dir,'dogs')"
      ],
      "execution_count": null,
      "outputs": []
    },
    {
      "cell_type": "code",
      "metadata": {
        "id": "AfUc7Iu0sj9t"
      },
      "source": [
        "model = tf.keras.models.Sequential([\n",
        "                                    tf.keras.layers.Conv2D(32,(3,3),activation='relu', input_shape=(150,150,3)),\n",
        "                                    tf.keras.layers.MaxPooling2D(2,2),\n",
        "                                    tf.keras.layers.Conv2D(64,(3,3),activation='relu'),\n",
        "                                    tf.keras.layers.MaxPooling2D(2,2),\n",
        "                                    tf.keras.layers.Conv2D(128,(3,3),activation='relu'),\n",
        "                                    tf.keras.layers.MaxPooling2D(2,2),\n",
        "                                    tf.keras.layers.Conv2D(128,(3,3),activation='relu'),\n",
        "                                    tf.keras.layers.MaxPooling2D(2,2),\n",
        "                                    tf.keras.layers.Flatten(),\n",
        "                                    tf.keras.layers.Dense(512,activation='relu'),\n",
        "                                    tf.keras.layers.Dense(1,activation='sigmoid')\n",
        "])\n",
        "model.compile(loss='binary_crossentropy',\n",
        "              optimizer = RMSprop(lr=1e-4),\n",
        "              metrics =['accuracy'])"
      ],
      "execution_count": null,
      "outputs": []
    },
    {
      "cell_type": "code",
      "metadata": {
        "id": "LECV7l993akv"
      },
      "source": [
        "train_datagen = ImageDataGenerator(rescale = 1./255)\n",
        "test_datagen = ImageDataGenerator(rescale = 1./255)"
      ],
      "execution_count": null,
      "outputs": []
    },
    {
      "cell_type": "code",
      "metadata": {
        "id": "jx234AOa3lwI",
        "outputId": "5ead92e0-8111-4024-ae9f-a5dd4ef1f588",
        "colab": {
          "base_uri": "https://localhost:8080/"
        }
      },
      "source": [
        "train_generator =  train_datagen.flow_from_directory(\n",
        "    train_dir,\n",
        "    target_size = (150,150),\n",
        "    batch_size = 20,\n",
        "    class_mode = 'binary'\n",
        ")"
      ],
      "execution_count": null,
      "outputs": [
        {
          "output_type": "stream",
          "text": [
            "Found 2000 images belonging to 2 classes.\n"
          ],
          "name": "stdout"
        }
      ]
    },
    {
      "cell_type": "code",
      "metadata": {
        "id": "uMIxACL135MZ",
        "outputId": "51a094a3-5b88-491d-a35f-10bf990f4d50",
        "colab": {
          "base_uri": "https://localhost:8080/"
        }
      },
      "source": [
        "validation_generator =  test_datagen.flow_from_directory(\n",
        "    validation_dir,\n",
        "    target_size = (150,150),\n",
        "    batch_size = 20,\n",
        "    class_mode = 'binary'\n",
        ")"
      ],
      "execution_count": null,
      "outputs": [
        {
          "output_type": "stream",
          "text": [
            "Found 1000 images belonging to 2 classes.\n"
          ],
          "name": "stdout"
        }
      ]
    },
    {
      "cell_type": "code",
      "metadata": {
        "id": "T5WJF2GO2634",
        "outputId": "30864dfc-2061-4c17-e9be-0ddc38b31203",
        "colab": {
          "base_uri": "https://localhost:8080/"
        }
      },
      "source": [
        "history = model.fit(\n",
        "    train_generator,\n",
        "    steps_per_epoch = 100,\n",
        "    epochs=100,\n",
        "    validation_data=validation_generator,\n",
        "    validation_steps = 50,\n",
        "    verbose =2\n",
        ")"
      ],
      "execution_count": null,
      "outputs": [
        {
          "output_type": "stream",
          "text": [
            "Epoch 1/100\n",
            "100/100 - 104s - loss: 0.6903 - accuracy: 0.5295 - val_loss: 0.6743 - val_accuracy: 0.5320\n",
            "Epoch 2/100\n",
            "100/100 - 104s - loss: 0.6576 - accuracy: 0.6050 - val_loss: 0.6387 - val_accuracy: 0.6490\n",
            "Epoch 3/100\n",
            "100/100 - 108s - loss: 0.6194 - accuracy: 0.6730 - val_loss: 0.6294 - val_accuracy: 0.6560\n",
            "Epoch 4/100\n",
            "100/100 - 104s - loss: 0.5714 - accuracy: 0.7025 - val_loss: 0.5747 - val_accuracy: 0.6950\n",
            "Epoch 5/100\n",
            "100/100 - 104s - loss: 0.5340 - accuracy: 0.7300 - val_loss: 0.5569 - val_accuracy: 0.7290\n",
            "Epoch 6/100\n",
            "100/100 - 103s - loss: 0.4977 - accuracy: 0.7555 - val_loss: 0.6347 - val_accuracy: 0.6480\n",
            "Epoch 7/100\n",
            "100/100 - 103s - loss: 0.4631 - accuracy: 0.7825 - val_loss: 0.5420 - val_accuracy: 0.7410\n",
            "Epoch 8/100\n",
            "100/100 - 104s - loss: 0.4240 - accuracy: 0.8005 - val_loss: 0.5368 - val_accuracy: 0.7330\n",
            "Epoch 9/100\n",
            "100/100 - 104s - loss: 0.4088 - accuracy: 0.8175 - val_loss: 0.5331 - val_accuracy: 0.7460\n",
            "Epoch 10/100\n",
            "100/100 - 104s - loss: 0.3857 - accuracy: 0.8255 - val_loss: 0.5471 - val_accuracy: 0.7290\n",
            "Epoch 11/100\n",
            "100/100 - 109s - loss: 0.3599 - accuracy: 0.8495 - val_loss: 0.5865 - val_accuracy: 0.7190\n",
            "Epoch 12/100\n",
            "100/100 - 104s - loss: 0.3170 - accuracy: 0.8625 - val_loss: 0.5444 - val_accuracy: 0.7450\n",
            "Epoch 13/100\n",
            "100/100 - 104s - loss: 0.3067 - accuracy: 0.8745 - val_loss: 0.6334 - val_accuracy: 0.7200\n",
            "Epoch 14/100\n",
            "100/100 - 104s - loss: 0.2829 - accuracy: 0.8870 - val_loss: 0.5719 - val_accuracy: 0.7400\n",
            "Epoch 15/100\n",
            "100/100 - 104s - loss: 0.2540 - accuracy: 0.8960 - val_loss: 0.5663 - val_accuracy: 0.7310\n",
            "Epoch 16/100\n",
            "100/100 - 104s - loss: 0.2306 - accuracy: 0.9150 - val_loss: 0.5735 - val_accuracy: 0.7420\n",
            "Epoch 17/100\n",
            "100/100 - 105s - loss: 0.2031 - accuracy: 0.9285 - val_loss: 0.5922 - val_accuracy: 0.7380\n",
            "Epoch 18/100\n",
            "100/100 - 104s - loss: 0.1794 - accuracy: 0.9360 - val_loss: 0.7081 - val_accuracy: 0.7300\n",
            "Epoch 19/100\n",
            "100/100 - 108s - loss: 0.1537 - accuracy: 0.9490 - val_loss: 0.6546 - val_accuracy: 0.7390\n",
            "Epoch 20/100\n",
            "100/100 - 104s - loss: 0.1440 - accuracy: 0.9485 - val_loss: 0.7986 - val_accuracy: 0.7150\n",
            "Epoch 21/100\n",
            "100/100 - 103s - loss: 0.1234 - accuracy: 0.9590 - val_loss: 0.7728 - val_accuracy: 0.7230\n",
            "Epoch 22/100\n",
            "100/100 - 104s - loss: 0.0992 - accuracy: 0.9680 - val_loss: 0.8220 - val_accuracy: 0.7400\n",
            "Epoch 23/100\n",
            "100/100 - 104s - loss: 0.0959 - accuracy: 0.9695 - val_loss: 0.8140 - val_accuracy: 0.7340\n",
            "Epoch 24/100\n",
            "100/100 - 104s - loss: 0.0835 - accuracy: 0.9755 - val_loss: 0.7733 - val_accuracy: 0.7510\n",
            "Epoch 25/100\n",
            "100/100 - 104s - loss: 0.0689 - accuracy: 0.9810 - val_loss: 0.7854 - val_accuracy: 0.7370\n",
            "Epoch 26/100\n",
            "100/100 - 104s - loss: 0.0547 - accuracy: 0.9840 - val_loss: 0.9162 - val_accuracy: 0.7290\n",
            "Epoch 27/100\n",
            "100/100 - 104s - loss: 0.0410 - accuracy: 0.9930 - val_loss: 0.8822 - val_accuracy: 0.7400\n",
            "Epoch 28/100\n",
            "100/100 - 108s - loss: 0.0398 - accuracy: 0.9895 - val_loss: 0.9687 - val_accuracy: 0.7360\n",
            "Epoch 29/100\n",
            "100/100 - 104s - loss: 0.0303 - accuracy: 0.9940 - val_loss: 1.0176 - val_accuracy: 0.7440\n",
            "Epoch 30/100\n",
            "100/100 - 103s - loss: 0.0299 - accuracy: 0.9930 - val_loss: 1.0328 - val_accuracy: 0.7390\n",
            "Epoch 31/100\n",
            "100/100 - 104s - loss: 0.0292 - accuracy: 0.9910 - val_loss: 1.2009 - val_accuracy: 0.7270\n",
            "Epoch 32/100\n",
            "100/100 - 104s - loss: 0.0205 - accuracy: 0.9955 - val_loss: 1.1402 - val_accuracy: 0.7440\n",
            "Epoch 33/100\n",
            "100/100 - 104s - loss: 0.0188 - accuracy: 0.9965 - val_loss: 1.2052 - val_accuracy: 0.7410\n",
            "Epoch 34/100\n",
            "100/100 - 109s - loss: 0.0207 - accuracy: 0.9950 - val_loss: 1.1946 - val_accuracy: 0.7300\n",
            "Epoch 35/100\n",
            "100/100 - 105s - loss: 0.0165 - accuracy: 0.9965 - val_loss: 1.2334 - val_accuracy: 0.7290\n",
            "Epoch 36/100\n",
            "100/100 - 104s - loss: 0.0206 - accuracy: 0.9930 - val_loss: 1.2269 - val_accuracy: 0.7360\n",
            "Epoch 37/100\n",
            "100/100 - 104s - loss: 0.0087 - accuracy: 0.9995 - val_loss: 1.3433 - val_accuracy: 0.7470\n",
            "Epoch 38/100\n",
            "100/100 - 104s - loss: 0.0123 - accuracy: 0.9955 - val_loss: 1.3243 - val_accuracy: 0.7320\n",
            "Epoch 39/100\n",
            "100/100 - 103s - loss: 0.0102 - accuracy: 0.9970 - val_loss: 1.4300 - val_accuracy: 0.7310\n",
            "Epoch 40/100\n",
            "100/100 - 109s - loss: 0.0085 - accuracy: 0.9975 - val_loss: 1.4553 - val_accuracy: 0.7440\n",
            "Epoch 41/100\n",
            "100/100 - 104s - loss: 0.0147 - accuracy: 0.9960 - val_loss: 1.5048 - val_accuracy: 0.7430\n",
            "Epoch 42/100\n",
            "100/100 - 104s - loss: 0.0118 - accuracy: 0.9960 - val_loss: 1.4619 - val_accuracy: 0.7470\n",
            "Epoch 43/100\n",
            "100/100 - 104s - loss: 0.0126 - accuracy: 0.9965 - val_loss: 1.4571 - val_accuracy: 0.7310\n",
            "Epoch 44/100\n",
            "100/100 - 104s - loss: 0.0071 - accuracy: 0.9980 - val_loss: 1.9400 - val_accuracy: 0.7120\n",
            "Epoch 45/100\n",
            "100/100 - 108s - loss: 0.0047 - accuracy: 0.9990 - val_loss: 1.5488 - val_accuracy: 0.7370\n",
            "Epoch 46/100\n",
            "100/100 - 104s - loss: 0.0110 - accuracy: 0.9955 - val_loss: 1.3956 - val_accuracy: 0.7540\n",
            "Epoch 47/100\n",
            "100/100 - 104s - loss: 0.0127 - accuracy: 0.9965 - val_loss: 1.5352 - val_accuracy: 0.7460\n",
            "Epoch 48/100\n",
            "100/100 - 103s - loss: 0.0043 - accuracy: 0.9980 - val_loss: 1.6189 - val_accuracy: 0.7320\n",
            "Epoch 49/100\n",
            "100/100 - 104s - loss: 0.0059 - accuracy: 0.9980 - val_loss: 1.6738 - val_accuracy: 0.7340\n",
            "Epoch 50/100\n",
            "100/100 - 104s - loss: 0.0048 - accuracy: 0.9985 - val_loss: 1.6789 - val_accuracy: 0.7450\n",
            "Epoch 51/100\n",
            "100/100 - 108s - loss: 0.0073 - accuracy: 0.9975 - val_loss: 1.8071 - val_accuracy: 0.7460\n",
            "Epoch 52/100\n",
            "100/100 - 104s - loss: 0.0039 - accuracy: 0.9980 - val_loss: 2.2852 - val_accuracy: 0.7100\n",
            "Epoch 53/100\n",
            "100/100 - 105s - loss: 0.0048 - accuracy: 0.9985 - val_loss: 1.8399 - val_accuracy: 0.7380\n",
            "Epoch 54/100\n",
            "100/100 - 104s - loss: 0.0155 - accuracy: 0.9955 - val_loss: 1.8292 - val_accuracy: 0.7330\n",
            "Epoch 55/100\n",
            "100/100 - 104s - loss: 0.0044 - accuracy: 0.9980 - val_loss: 1.8176 - val_accuracy: 0.7350\n",
            "Epoch 56/100\n",
            "100/100 - 104s - loss: 0.0133 - accuracy: 0.9950 - val_loss: 1.7258 - val_accuracy: 0.7340\n",
            "Epoch 57/100\n",
            "100/100 - 109s - loss: 0.0093 - accuracy: 0.9980 - val_loss: 1.8782 - val_accuracy: 0.7390\n",
            "Epoch 58/100\n",
            "100/100 - 104s - loss: 0.0054 - accuracy: 0.9990 - val_loss: 1.7228 - val_accuracy: 0.7340\n",
            "Epoch 59/100\n",
            "100/100 - 104s - loss: 3.8158e-04 - accuracy: 1.0000 - val_loss: 2.0883 - val_accuracy: 0.7470\n",
            "Epoch 60/100\n",
            "100/100 - 104s - loss: 0.0028 - accuracy: 0.9990 - val_loss: 2.0924 - val_accuracy: 0.7300\n",
            "Epoch 61/100\n",
            "100/100 - 104s - loss: 0.0059 - accuracy: 0.9980 - val_loss: 1.9930 - val_accuracy: 0.7300\n",
            "Epoch 62/100\n",
            "100/100 - 105s - loss: 0.0087 - accuracy: 0.9965 - val_loss: 1.9834 - val_accuracy: 0.7370\n",
            "Epoch 63/100\n",
            "100/100 - 104s - loss: 9.9719e-04 - accuracy: 0.9995 - val_loss: 1.9512 - val_accuracy: 0.7440\n",
            "Epoch 64/100\n",
            "100/100 - 104s - loss: 0.0026 - accuracy: 0.9990 - val_loss: 2.0709 - val_accuracy: 0.7270\n",
            "Epoch 65/100\n",
            "100/100 - 109s - loss: 0.0070 - accuracy: 0.9980 - val_loss: 1.9908 - val_accuracy: 0.7450\n",
            "Epoch 66/100\n",
            "100/100 - 104s - loss: 0.0033 - accuracy: 0.9985 - val_loss: 2.0624 - val_accuracy: 0.7440\n",
            "Epoch 67/100\n",
            "100/100 - 104s - loss: 0.0051 - accuracy: 0.9980 - val_loss: 2.0946 - val_accuracy: 0.7460\n",
            "Epoch 68/100\n",
            "100/100 - 104s - loss: 0.0095 - accuracy: 0.9980 - val_loss: 2.0779 - val_accuracy: 0.7410\n",
            "Epoch 69/100\n",
            "100/100 - 104s - loss: 0.0011 - accuracy: 0.9995 - val_loss: 2.2094 - val_accuracy: 0.7420\n",
            "Epoch 70/100\n",
            "100/100 - 104s - loss: 0.0011 - accuracy: 1.0000 - val_loss: 2.1455 - val_accuracy: 0.7330\n",
            "Epoch 71/100\n",
            "100/100 - 110s - loss: 0.0041 - accuracy: 0.9990 - val_loss: 2.2833 - val_accuracy: 0.7520\n",
            "Epoch 72/100\n",
            "100/100 - 105s - loss: 0.0029 - accuracy: 0.9985 - val_loss: 2.2675 - val_accuracy: 0.7450\n",
            "Epoch 73/100\n",
            "100/100 - 105s - loss: 0.0063 - accuracy: 0.9985 - val_loss: 2.2674 - val_accuracy: 0.7270\n",
            "Epoch 74/100\n",
            "100/100 - 105s - loss: 1.4370e-04 - accuracy: 1.0000 - val_loss: 2.2175 - val_accuracy: 0.7390\n",
            "Epoch 75/100\n",
            "100/100 - 105s - loss: 0.0063 - accuracy: 0.9980 - val_loss: 2.3445 - val_accuracy: 0.7350\n",
            "Epoch 76/100\n",
            "100/100 - 108s - loss: 0.0060 - accuracy: 0.9985 - val_loss: 2.8273 - val_accuracy: 0.7190\n",
            "Epoch 77/100\n",
            "100/100 - 105s - loss: 0.0024 - accuracy: 0.9990 - val_loss: 2.3304 - val_accuracy: 0.7240\n",
            "Epoch 78/100\n",
            "100/100 - 105s - loss: 0.0011 - accuracy: 0.9995 - val_loss: 2.4648 - val_accuracy: 0.7320\n",
            "Epoch 79/100\n",
            "100/100 - 105s - loss: 0.0021 - accuracy: 0.9990 - val_loss: 2.3269 - val_accuracy: 0.7330\n",
            "Epoch 80/100\n",
            "100/100 - 105s - loss: 0.0040 - accuracy: 0.9990 - val_loss: 2.4584 - val_accuracy: 0.7320\n",
            "Epoch 81/100\n",
            "100/100 - 105s - loss: 0.0065 - accuracy: 0.9985 - val_loss: 2.3012 - val_accuracy: 0.7260\n",
            "Epoch 82/100\n",
            "100/100 - 109s - loss: 5.1830e-04 - accuracy: 0.9995 - val_loss: 2.3414 - val_accuracy: 0.7270\n",
            "Epoch 83/100\n",
            "100/100 - 107s - loss: 0.0083 - accuracy: 0.9980 - val_loss: 2.4528 - val_accuracy: 0.7320\n",
            "Epoch 84/100\n",
            "100/100 - 105s - loss: 0.0036 - accuracy: 0.9995 - val_loss: 2.3717 - val_accuracy: 0.7360\n",
            "Epoch 85/100\n",
            "100/100 - 104s - loss: 1.8583e-05 - accuracy: 1.0000 - val_loss: 2.4635 - val_accuracy: 0.7360\n",
            "Epoch 86/100\n",
            "100/100 - 106s - loss: 0.0027 - accuracy: 0.9995 - val_loss: 2.4820 - val_accuracy: 0.7320\n",
            "Epoch 87/100\n",
            "100/100 - 105s - loss: 0.0211 - accuracy: 0.9965 - val_loss: 2.5655 - val_accuracy: 0.7340\n",
            "Epoch 88/100\n",
            "100/100 - 110s - loss: 6.3750e-05 - accuracy: 1.0000 - val_loss: 2.6073 - val_accuracy: 0.7310\n",
            "Epoch 89/100\n",
            "100/100 - 106s - loss: 0.0035 - accuracy: 0.9990 - val_loss: 2.4272 - val_accuracy: 0.7360\n",
            "Epoch 90/100\n",
            "100/100 - 105s - loss: 0.0064 - accuracy: 0.9985 - val_loss: 2.4946 - val_accuracy: 0.7390\n",
            "Epoch 91/100\n",
            "100/100 - 104s - loss: 4.5702e-05 - accuracy: 1.0000 - val_loss: 2.4888 - val_accuracy: 0.7360\n",
            "Epoch 92/100\n",
            "100/100 - 105s - loss: 9.9391e-04 - accuracy: 1.0000 - val_loss: 2.5533 - val_accuracy: 0.7370\n",
            "Epoch 93/100\n",
            "100/100 - 104s - loss: 3.7592e-05 - accuracy: 1.0000 - val_loss: 2.7818 - val_accuracy: 0.7350\n",
            "Epoch 94/100\n",
            "100/100 - 109s - loss: 0.0044 - accuracy: 0.9975 - val_loss: 2.7452 - val_accuracy: 0.7340\n",
            "Epoch 95/100\n",
            "100/100 - 105s - loss: 0.0012 - accuracy: 0.9995 - val_loss: 2.7875 - val_accuracy: 0.7270\n",
            "Epoch 96/100\n",
            "100/100 - 105s - loss: 0.0062 - accuracy: 0.9980 - val_loss: 2.5759 - val_accuracy: 0.7430\n",
            "Epoch 97/100\n",
            "100/100 - 105s - loss: 0.0022 - accuracy: 0.9990 - val_loss: 2.6909 - val_accuracy: 0.7270\n",
            "Epoch 98/100\n",
            "100/100 - 104s - loss: 0.0198 - accuracy: 0.9965 - val_loss: 2.6977 - val_accuracy: 0.7430\n",
            "Epoch 99/100\n",
            "100/100 - 109s - loss: 5.4370e-05 - accuracy: 1.0000 - val_loss: 2.6406 - val_accuracy: 0.7490\n",
            "Epoch 100/100\n",
            "100/100 - 104s - loss: 0.0011 - accuracy: 0.9995 - val_loss: 2.8392 - val_accuracy: 0.7390\n"
          ],
          "name": "stdout"
        }
      ]
    },
    {
      "cell_type": "code",
      "metadata": {
        "id": "iI8KamwC3Uef"
      },
      "source": [
        "import matplotlib.pyplot as plt\n",
        "acc = history.history['accuracy']\n",
        "val_acc = history.history['val_accuracy']\n",
        "loss = history.history['loss']\n",
        "val_loss = history.history['val_loss']"
      ],
      "execution_count": null,
      "outputs": []
    },
    {
      "cell_type": "code",
      "metadata": {
        "id": "yaKutWry-ntJ"
      },
      "source": [
        "epochs = range(len(acc))"
      ],
      "execution_count": null,
      "outputs": []
    },
    {
      "cell_type": "code",
      "metadata": {
        "id": "JYgnuy675vJh",
        "outputId": "6774362b-a1ce-4793-e28b-6953663dfb1c",
        "colab": {
          "base_uri": "https://localhost:8080/",
          "height": 298
        }
      },
      "source": [
        "plt.plot(epochs, acc, 'bo', label = 'Training accuracy')\n",
        "plt.plot(epochs, val_acc, 'b', label = 'Validation accuracy')\n",
        "plt.title('Training and validation accuracy')"
      ],
      "execution_count": null,
      "outputs": [
        {
          "output_type": "execute_result",
          "data": {
            "text/plain": [
              "Text(0.5, 1.0, 'Training and validation accuracy')"
            ]
          },
          "metadata": {
            "tags": []
          },
          "execution_count": 32
        },
        {
          "output_type": "display_data",
          "data": {
            "image/png": "[encoded data removed]",
            "text/plain": [
              "<Figure size 432x288 with 1 Axes>"
            ]
          },
          "metadata": {
            "tags": []
          }
        }
      ]
    },
    {
      "cell_type": "code",
      "metadata": {
        "id": "x9XqORZl6EFq",
        "outputId": "34f125dc-fe10-42c6-e7c4-66ec9a131b65",
        "colab": {
          "base_uri": "https://localhost:8080/",
          "height": 52
        }
      },
      "source": [
        "plt.figure()"
      ],
      "execution_count": null,
      "outputs": [
        {
          "output_type": "execute_result",
          "data": {
            "text/plain": [
              "<Figure size 432x288 with 0 Axes>"
            ]
          },
          "metadata": {
            "tags": []
          },
          "execution_count": 33
        },
        {
          "output_type": "display_data",
          "data": {
            "text/plain": [
              "<Figure size 432x288 with 0 Axes>"
            ]
          },
          "metadata": {
            "tags": []
          }
        }
      ]
    },
    {
      "cell_type": "code",
      "metadata": {
        "id": "4XWJKJUT-sMp",
        "outputId": "7e17b441-8f9e-48e2-826c-fc3657f2f901",
        "colab": {
          "base_uri": "https://localhost:8080/",
          "height": 281
        }
      },
      "source": [
        "plt.plot(epochs, loss, 'bo', label = 'Training Loss')\n",
        "plt.plot(epochs, val_loss, 'b', label = 'validation Loss')\n",
        "plt.title('Training and validation loss')\n",
        "plt.legend()\n",
        "\n",
        "plt. show()"
      ],
      "execution_count": null,
      "outputs": [
        {
          "output_type": "display_data",
          "data": {
            "image/png": "[encoded data removed]",
            "text/plain": [
              "<Figure size 432x288 with 1 Axes>"
            ]
          },
          "metadata": {
            "tags": []
          }
        }
      ]
    },
    {
      "cell_type": "markdown",
      "metadata": {
        "id": "XEcTSQ30AQt4"
      },
      "source": [
        "Augmentation"
      ]
    },
    {
      "cell_type": "code",
      "metadata": {
        "id": "5KelLGwnASeR",
        "outputId": "e0a01a2f-d772-463b-9f8c-168a7e60d424",
        "colab": {
          "base_uri": "https://localhost:8080/"
        }
      },
      "source": [
        "!wget --no-check-certificate \\\n",
        "    https://storage.googleapis.com/mledu-datasets/cats_and_dogs_filtered.zip \\\n",
        "    -O /tmp/cats_and_dogs_filtered.zip\n",
        "  \n",
        "import os\n",
        "import zipfile\n",
        "import tensorflow as tf\n",
        "from tensorflow.keras.optimizers import RMSprop\n",
        "from tensorflow.keras.preprocessing.image import ImageDataGenerator\n",
        "\n",
        "local_zip = '/tmp/cats_and_dogs_filtered.zip'\n",
        "zip_ref = zipfile.ZipFile(local_zip, 'r')\n",
        "zip_ref.extractall('/tmp')\n",
        "zip_ref.close()\n",
        "\n",
        "base_dir = '/tmp/cats_and_dogs_filtered'\n",
        "train_dir = os.path.join(base_dir, 'train')\n",
        "validation_dir = os.path.join(base_dir, 'validation')\n",
        "\n",
        "# Directory with our training cat pictures\n",
        "train_cats_dir = os.path.join(train_dir, 'cats')\n",
        "\n",
        "# Directory with our training dog pictures\n",
        "train_dogs_dir = os.path.join(train_dir, 'dogs')\n",
        "\n",
        "# Directory with our validation cat pictures\n",
        "validation_cats_dir = os.path.join(validation_dir, 'cats')\n",
        "\n",
        "# Directory with our validation dog pictures\n",
        "validation_dogs_dir = os.path.join(validation_dir, 'dogs')\n",
        "\n",
        "model = tf.keras.models.Sequential([\n",
        "    tf.keras.layers.Conv2D(32, (3,3), activation='relu', input_shape=(150, 150, 3)),\n",
        "    tf.keras.layers.MaxPooling2D(2, 2),\n",
        "    tf.keras.layers.Conv2D(64, (3,3), activation='relu'),\n",
        "    tf.keras.layers.MaxPooling2D(2,2),\n",
        "    tf.keras.layers.Conv2D(128, (3,3), activation='relu'),\n",
        "    tf.keras.layers.MaxPooling2D(2,2),\n",
        "    tf.keras.layers.Conv2D(128, (3,3), activation='relu'),\n",
        "    tf.keras.layers.MaxPooling2D(2,2),\n",
        "    tf.keras.layers.Flatten(),\n",
        "    tf.keras.layers.Dense(512, activation='relu'),\n",
        "    tf.keras.layers.Dense(1, activation='sigmoid')\n",
        "])\n",
        "\n",
        "model.compile(loss='binary_crossentropy',\n",
        "              optimizer=RMSprop(lr=1e-4),\n",
        "              metrics=['accuracy'])\n",
        "\n"
      ],
      "execution_count": null,
      "outputs": [
        {
          "output_type": "stream",
          "text": [
            "--2020-11-11 18:25:32--  https://storage.googleapis.com/mledu-datasets/cats_and_dogs_filtered.zip\n",
            "Resolving storage.googleapis.com (storage.googleapis.com)... 172.217.193.128, 172.217.204.128, 172.217.203.128, ...\n",
            "Connecting to storage.googleapis.com (storage.googleapis.com)|172.217.193.128|:443... connected.\n",
            "HTTP request sent, awaiting response... 200 OK\n",
            "Length: 68606236 (65M) [application/zip]\n",
            "Saving to: ‘/tmp/cats_and_dogs_filtered.zip’\n",
            "\n",
            "/tmp/cats_and_dogs_ 100%[===================>]  65.43M   141MB/s    in 0.5s    \n",
            "\n",
            "2020-11-11 18:25:32 (141 MB/s) - ‘/tmp/cats_and_dogs_filtered.zip’ saved [68606236/68606236]\n",
            "\n"
          ],
          "name": "stdout"
        }
      ]
    },
    {
      "cell_type": "code",
      "metadata": {
        "id": "jiTNn8E3A0KQ"
      },
      "source": [
        "# This code has changed. Now instead of the ImageGenerator just rescaling\n",
        "# the image, we also rotate and do other operations\n",
        "# Updated to do image augmentation\n",
        "train_datagen = ImageDataGenerator(\n",
        "      rescale=1./255,\n",
        "      rotation_range=40,\n",
        "      width_shift_range=0.2,\n",
        "      height_shift_range=0.2,\n",
        "      shear_range=0.2,\n",
        "      zoom_range=0.2,\n",
        "      horizontal_flip=True,\n",
        "      fill_mode='nearest')\n",
        "\n"
      ],
      "execution_count": null,
      "outputs": []
    },
    {
      "cell_type": "code",
      "metadata": {
        "id": "SovXIkzdA5N-"
      },
      "source": [
        "test_datagen = ImageDataGenerator(rescale=1./255)\n",
        "\n"
      ],
      "execution_count": null,
      "outputs": []
    },
    {
      "cell_type": "code",
      "metadata": {
        "id": "GV06PBWjBANO",
        "outputId": "e2d33f31-dc75-494c-a8a5-cefa8b0230e5",
        "colab": {
          "base_uri": "https://localhost:8080/"
        }
      },
      "source": [
        "# Flow training images in batches of 20 using train_datagen generator\n",
        "train_generator = train_datagen.flow_from_directory(\n",
        "        train_dir,  # This is the source directory for training images\n",
        "        target_size=(150, 150),  # All images will be resized to 150x150\n",
        "        batch_size=20,\n",
        "        # Since we use binary_crossentropy loss, we need binary labels\n",
        "        class_mode='binary')\n",
        "\n",
        "# Flow validation images in batches of 20 using test_datagen generator\n",
        "validation_generator = test_datagen.flow_from_directory(\n",
        "        validation_dir,\n",
        "        target_size=(150, 150),\n",
        "        batch_size=20,\n",
        "        class_mode='binary')\n",
        "\n"
      ],
      "execution_count": null,
      "outputs": [
        {
          "output_type": "stream",
          "text": [
            "Found 2000 images belonging to 2 classes.\n",
            "Found 1000 images belonging to 2 classes.\n"
          ],
          "name": "stdout"
        }
      ]
    },
    {
      "cell_type": "code",
      "metadata": {
        "id": "wPFksY4WA-Vm",
        "outputId": "439be038-e2c7-4653-9607-4ffc444f5bd3",
        "colab": {
          "base_uri": "https://localhost:8080/"
        }
      },
      "source": [
        "history = model.fit(\n",
        "      train_generator,\n",
        "      steps_per_epoch=100,  # 2000 images = batch_size * steps\n",
        "      epochs=100,\n",
        "      validation_data=validation_generator,\n",
        "      validation_steps=50,  # 1000 images = batch_size * steps\n",
        "      verbose=2)"
      ],
      "execution_count": null,
      "outputs": [
        {
          "output_type": "stream",
          "text": [
            "Epoch 1/100\n",
            "100/100 - 113s - loss: 0.6902 - accuracy: 0.5355 - val_loss: 0.6759 - val_accuracy: 0.5350\n",
            "Epoch 2/100\n",
            "100/100 - 118s - loss: 0.6788 - accuracy: 0.5655 - val_loss: 0.6460 - val_accuracy: 0.6350\n",
            "Epoch 3/100\n",
            "100/100 - 113s - loss: 0.6575 - accuracy: 0.6080 - val_loss: 0.6158 - val_accuracy: 0.6690\n",
            "Epoch 4/100\n",
            "100/100 - 113s - loss: 0.6364 - accuracy: 0.6450 - val_loss: 0.5959 - val_accuracy: 0.6690\n",
            "Epoch 5/100\n",
            "100/100 - 114s - loss: 0.6165 - accuracy: 0.6540 - val_loss: 0.5885 - val_accuracy: 0.6790\n",
            "Epoch 6/100\n",
            "100/100 - 113s - loss: 0.6126 - accuracy: 0.6585 - val_loss: 0.5824 - val_accuracy: 0.6770\n",
            "Epoch 7/100\n",
            "100/100 - 118s - loss: 0.6051 - accuracy: 0.6705 - val_loss: 0.5638 - val_accuracy: 0.7000\n",
            "Epoch 8/100\n",
            "100/100 - 113s - loss: 0.5770 - accuracy: 0.6930 - val_loss: 0.5573 - val_accuracy: 0.7120\n",
            "Epoch 9/100\n",
            "100/100 - 113s - loss: 0.5825 - accuracy: 0.6900 - val_loss: 0.5585 - val_accuracy: 0.6930\n",
            "Epoch 10/100\n",
            "100/100 - 113s - loss: 0.5760 - accuracy: 0.6985 - val_loss: 0.5319 - val_accuracy: 0.7290\n",
            "Epoch 11/100\n",
            "100/100 - 113s - loss: 0.5670 - accuracy: 0.7100 - val_loss: 0.5842 - val_accuracy: 0.6770\n",
            "Epoch 12/100\n",
            "100/100 - 113s - loss: 0.5668 - accuracy: 0.6920 - val_loss: 0.5668 - val_accuracy: 0.6900\n",
            "Epoch 13/100\n",
            "100/100 - 118s - loss: 0.5525 - accuracy: 0.7165 - val_loss: 0.5346 - val_accuracy: 0.7150\n",
            "Epoch 14/100\n",
            "100/100 - 113s - loss: 0.5652 - accuracy: 0.7090 - val_loss: 0.5370 - val_accuracy: 0.7170\n",
            "Epoch 15/100\n",
            "100/100 - 112s - loss: 0.5582 - accuracy: 0.7125 - val_loss: 0.5073 - val_accuracy: 0.7510\n",
            "Epoch 16/100\n",
            "100/100 - 113s - loss: 0.5508 - accuracy: 0.7180 - val_loss: 0.5248 - val_accuracy: 0.7350\n",
            "Epoch 17/100\n",
            "100/100 - 113s - loss: 0.5389 - accuracy: 0.7290 - val_loss: 0.4982 - val_accuracy: 0.7580\n",
            "Epoch 18/100\n",
            "100/100 - 118s - loss: 0.5540 - accuracy: 0.7125 - val_loss: 0.5093 - val_accuracy: 0.7390\n",
            "Epoch 19/100\n",
            "100/100 - 114s - loss: 0.5270 - accuracy: 0.7370 - val_loss: 0.4962 - val_accuracy: 0.7590\n",
            "Epoch 20/100\n",
            "100/100 - 112s - loss: 0.5350 - accuracy: 0.7245 - val_loss: 0.5162 - val_accuracy: 0.7450\n",
            "Epoch 21/100\n",
            "100/100 - 112s - loss: 0.5237 - accuracy: 0.7370 - val_loss: 0.5029 - val_accuracy: 0.7470\n",
            "Epoch 22/100\n",
            "100/100 - 113s - loss: 0.5177 - accuracy: 0.7425 - val_loss: 0.4879 - val_accuracy: 0.7530\n",
            "Epoch 23/100\n",
            "100/100 - 117s - loss: 0.5164 - accuracy: 0.7375 - val_loss: 0.4782 - val_accuracy: 0.7700\n",
            "Epoch 24/100\n",
            "100/100 - 114s - loss: 0.5284 - accuracy: 0.7440 - val_loss: 0.4939 - val_accuracy: 0.7570\n",
            "Epoch 25/100\n",
            "100/100 - 113s - loss: 0.5018 - accuracy: 0.7515 - val_loss: 0.5871 - val_accuracy: 0.7230\n",
            "Epoch 26/100\n",
            "100/100 - 113s - loss: 0.5121 - accuracy: 0.7510 - val_loss: 0.4791 - val_accuracy: 0.7620\n",
            "Epoch 27/100\n",
            "100/100 - 113s - loss: 0.4939 - accuracy: 0.7590 - val_loss: 0.4869 - val_accuracy: 0.7580\n",
            "Epoch 28/100\n",
            "100/100 - 112s - loss: 0.5048 - accuracy: 0.7515 - val_loss: 0.4937 - val_accuracy: 0.7440\n",
            "Epoch 29/100\n",
            "100/100 - 112s - loss: 0.4956 - accuracy: 0.7460 - val_loss: 0.4684 - val_accuracy: 0.7830\n",
            "Epoch 30/100\n",
            "100/100 - 113s - loss: 0.4972 - accuracy: 0.7600 - val_loss: 0.4632 - val_accuracy: 0.7750\n",
            "Epoch 31/100\n",
            "100/100 - 113s - loss: 0.4939 - accuracy: 0.7515 - val_loss: 0.4550 - val_accuracy: 0.7810\n",
            "Epoch 32/100\n",
            "100/100 - 113s - loss: 0.4829 - accuracy: 0.7610 - val_loss: 0.4619 - val_accuracy: 0.7750\n",
            "Epoch 33/100\n",
            "100/100 - 113s - loss: 0.4707 - accuracy: 0.7700 - val_loss: 0.4673 - val_accuracy: 0.7650\n",
            "Epoch 34/100\n",
            "100/100 - 113s - loss: 0.4935 - accuracy: 0.7615 - val_loss: 0.4576 - val_accuracy: 0.7760\n",
            "Epoch 35/100\n",
            "100/100 - 113s - loss: 0.4802 - accuracy: 0.7670 - val_loss: 0.4772 - val_accuracy: 0.7620\n",
            "Epoch 36/100\n",
            "100/100 - 113s - loss: 0.4758 - accuracy: 0.7725 - val_loss: 0.4922 - val_accuracy: 0.7680\n",
            "Epoch 37/100\n",
            "100/100 - 113s - loss: 0.4862 - accuracy: 0.7595 - val_loss: 0.4547 - val_accuracy: 0.7850\n",
            "Epoch 38/100\n",
            "100/100 - 113s - loss: 0.4626 - accuracy: 0.7770 - val_loss: 0.4664 - val_accuracy: 0.7770\n",
            "Epoch 39/100\n",
            "100/100 - 113s - loss: 0.4738 - accuracy: 0.7690 - val_loss: 0.4419 - val_accuracy: 0.7980\n",
            "Epoch 40/100\n",
            "100/100 - 112s - loss: 0.4752 - accuracy: 0.7730 - val_loss: 0.4629 - val_accuracy: 0.7740\n",
            "Epoch 41/100\n",
            "100/100 - 113s - loss: 0.4647 - accuracy: 0.7770 - val_loss: 0.4829 - val_accuracy: 0.7670\n",
            "Epoch 42/100\n",
            "100/100 - 112s - loss: 0.4643 - accuracy: 0.7870 - val_loss: 0.4409 - val_accuracy: 0.7890\n",
            "Epoch 43/100\n",
            "100/100 - 112s - loss: 0.4502 - accuracy: 0.7855 - val_loss: 0.4293 - val_accuracy: 0.7970\n",
            "Epoch 44/100\n",
            "100/100 - 114s - loss: 0.4481 - accuracy: 0.7880 - val_loss: 0.4290 - val_accuracy: 0.8040\n",
            "Epoch 45/100\n",
            "100/100 - 113s - loss: 0.4395 - accuracy: 0.7945 - val_loss: 0.4278 - val_accuracy: 0.7960\n",
            "Epoch 46/100\n",
            "100/100 - 113s - loss: 0.4668 - accuracy: 0.7780 - val_loss: 0.4380 - val_accuracy: 0.8010\n",
            "Epoch 47/100\n",
            "100/100 - 113s - loss: 0.4406 - accuracy: 0.7860 - val_loss: 0.4453 - val_accuracy: 0.7830\n",
            "Epoch 48/100\n",
            "100/100 - 112s - loss: 0.4472 - accuracy: 0.7865 - val_loss: 0.4564 - val_accuracy: 0.7780\n",
            "Epoch 49/100\n",
            "100/100 - 113s - loss: 0.4365 - accuracy: 0.7955 - val_loss: 0.4323 - val_accuracy: 0.7960\n",
            "Epoch 50/100\n",
            "100/100 - 113s - loss: 0.4342 - accuracy: 0.8025 - val_loss: 0.4246 - val_accuracy: 0.7950\n",
            "Epoch 51/100\n",
            "100/100 - 113s - loss: 0.4401 - accuracy: 0.7915 - val_loss: 0.5129 - val_accuracy: 0.7490\n",
            "Epoch 52/100\n",
            "100/100 - 118s - loss: 0.4300 - accuracy: 0.8030 - val_loss: 0.4633 - val_accuracy: 0.7670\n",
            "Epoch 53/100\n",
            "100/100 - 113s - loss: 0.4268 - accuracy: 0.8030 - val_loss: 0.4467 - val_accuracy: 0.7760\n",
            "Epoch 54/100\n",
            "100/100 - 112s - loss: 0.4309 - accuracy: 0.7890 - val_loss: 0.4304 - val_accuracy: 0.8020\n",
            "Epoch 55/100\n",
            "100/100 - 113s - loss: 0.4351 - accuracy: 0.8000 - val_loss: 0.4333 - val_accuracy: 0.8010\n",
            "Epoch 56/100\n",
            "100/100 - 113s - loss: 0.4253 - accuracy: 0.8090 - val_loss: 0.4218 - val_accuracy: 0.8080\n",
            "Epoch 57/100\n",
            "100/100 - 113s - loss: 0.4161 - accuracy: 0.8050 - val_loss: 0.4326 - val_accuracy: 0.7920\n",
            "Epoch 58/100\n",
            "100/100 - 114s - loss: 0.4193 - accuracy: 0.8120 - val_loss: 0.4212 - val_accuracy: 0.8010\n",
            "Epoch 59/100\n",
            "100/100 - 113s - loss: 0.4129 - accuracy: 0.8145 - val_loss: 0.5170 - val_accuracy: 0.7580\n",
            "Epoch 60/100\n",
            "100/100 - 113s - loss: 0.4163 - accuracy: 0.8105 - val_loss: 0.4293 - val_accuracy: 0.7910\n",
            "Epoch 61/100\n",
            "100/100 - 113s - loss: 0.4285 - accuracy: 0.8065 - val_loss: 0.4216 - val_accuracy: 0.8040\n",
            "Epoch 62/100\n",
            "100/100 - 113s - loss: 0.4137 - accuracy: 0.8050 - val_loss: 0.4682 - val_accuracy: 0.7860\n",
            "Epoch 63/100\n",
            "100/100 - 113s - loss: 0.4123 - accuracy: 0.8150 - val_loss: 0.6869 - val_accuracy: 0.7040\n",
            "Epoch 64/100\n",
            "100/100 - 117s - loss: 0.4092 - accuracy: 0.8220 - val_loss: 0.4277 - val_accuracy: 0.8100\n",
            "Epoch 65/100\n",
            "100/100 - 113s - loss: 0.4192 - accuracy: 0.8115 - val_loss: 0.4101 - val_accuracy: 0.8100\n",
            "Epoch 66/100\n",
            "100/100 - 113s - loss: 0.4034 - accuracy: 0.8205 - val_loss: 0.4211 - val_accuracy: 0.7950\n",
            "Epoch 67/100\n",
            "100/100 - 113s - loss: 0.4024 - accuracy: 0.8110 - val_loss: 0.4152 - val_accuracy: 0.7960\n",
            "Epoch 68/100\n",
            "100/100 - 113s - loss: 0.4010 - accuracy: 0.8170 - val_loss: 0.4585 - val_accuracy: 0.7860\n",
            "Epoch 69/100\n",
            "100/100 - 115s - loss: 0.3957 - accuracy: 0.8290 - val_loss: 0.6001 - val_accuracy: 0.7520\n",
            "Epoch 70/100\n",
            "100/100 - 115s - loss: 0.4060 - accuracy: 0.8220 - val_loss: 0.4765 - val_accuracy: 0.7860\n",
            "Epoch 71/100\n",
            "100/100 - 112s - loss: 0.3996 - accuracy: 0.8210 - val_loss: 0.4688 - val_accuracy: 0.7920\n",
            "Epoch 72/100\n",
            "100/100 - 114s - loss: 0.3830 - accuracy: 0.8285 - val_loss: 0.4226 - val_accuracy: 0.7970\n",
            "Epoch 73/100\n",
            "100/100 - 113s - loss: 0.3893 - accuracy: 0.8235 - val_loss: 0.4270 - val_accuracy: 0.7980\n",
            "Epoch 74/100\n",
            "100/100 - 112s - loss: 0.4000 - accuracy: 0.8150 - val_loss: 0.4053 - val_accuracy: 0.8160\n",
            "Epoch 75/100\n",
            "100/100 - 117s - loss: 0.3891 - accuracy: 0.8190 - val_loss: 0.4368 - val_accuracy: 0.8000\n",
            "Epoch 76/100\n",
            "100/100 - 112s - loss: 0.3762 - accuracy: 0.8245 - val_loss: 0.4113 - val_accuracy: 0.8110\n",
            "Epoch 77/100\n",
            "100/100 - 112s - loss: 0.3946 - accuracy: 0.8265 - val_loss: 0.3986 - val_accuracy: 0.8170\n",
            "Epoch 78/100\n",
            "100/100 - 113s - loss: 0.3796 - accuracy: 0.8205 - val_loss: 0.4190 - val_accuracy: 0.8050\n",
            "Epoch 79/100\n",
            "100/100 - 112s - loss: 0.3851 - accuracy: 0.8270 - val_loss: 0.4834 - val_accuracy: 0.7760\n",
            "Epoch 80/100\n",
            "100/100 - 117s - loss: 0.3858 - accuracy: 0.8275 - val_loss: 0.3991 - val_accuracy: 0.8180\n",
            "Epoch 81/100\n",
            "100/100 - 112s - loss: 0.3826 - accuracy: 0.8280 - val_loss: 0.3931 - val_accuracy: 0.8230\n",
            "Epoch 82/100\n",
            "100/100 - 113s - loss: 0.3846 - accuracy: 0.8260 - val_loss: 0.4264 - val_accuracy: 0.8000\n",
            "Epoch 83/100\n",
            "100/100 - 113s - loss: 0.3755 - accuracy: 0.8350 - val_loss: 0.4242 - val_accuracy: 0.8040\n",
            "Epoch 84/100\n",
            "100/100 - 113s - loss: 0.3680 - accuracy: 0.8400 - val_loss: 0.4965 - val_accuracy: 0.7820\n",
            "Epoch 85/100\n",
            "100/100 - 115s - loss: 0.3556 - accuracy: 0.8400 - val_loss: 0.4671 - val_accuracy: 0.7880\n",
            "Epoch 86/100\n",
            "100/100 - 115s - loss: 0.3708 - accuracy: 0.8315 - val_loss: 0.4266 - val_accuracy: 0.8080\n",
            "Epoch 87/100\n",
            "100/100 - 112s - loss: 0.3630 - accuracy: 0.8400 - val_loss: 0.4116 - val_accuracy: 0.8130\n",
            "Epoch 88/100\n",
            "100/100 - 112s - loss: 0.3652 - accuracy: 0.8355 - val_loss: 0.4240 - val_accuracy: 0.8130\n",
            "Epoch 89/100\n",
            "100/100 - 113s - loss: 0.3708 - accuracy: 0.8345 - val_loss: 0.4536 - val_accuracy: 0.7920\n",
            "Epoch 90/100\n",
            "100/100 - 114s - loss: 0.3524 - accuracy: 0.8440 - val_loss: 0.3875 - val_accuracy: 0.8230\n",
            "Epoch 91/100\n",
            "100/100 - 118s - loss: 0.3526 - accuracy: 0.8370 - val_loss: 0.3896 - val_accuracy: 0.8220\n",
            "Epoch 92/100\n",
            "100/100 - 114s - loss: 0.3409 - accuracy: 0.8530 - val_loss: 0.4497 - val_accuracy: 0.8060\n",
            "Epoch 93/100\n",
            "100/100 - 112s - loss: 0.3661 - accuracy: 0.8385 - val_loss: 0.4955 - val_accuracy: 0.7660\n",
            "Epoch 94/100\n",
            "100/100 - 113s - loss: 0.3601 - accuracy: 0.8445 - val_loss: 0.3970 - val_accuracy: 0.8210\n",
            "Epoch 95/100\n",
            "100/100 - 113s - loss: 0.3550 - accuracy: 0.8355 - val_loss: 0.4059 - val_accuracy: 0.8150\n",
            "Epoch 96/100\n",
            "100/100 - 112s - loss: 0.3650 - accuracy: 0.8390 - val_loss: 0.3756 - val_accuracy: 0.8200\n",
            "Epoch 97/100\n",
            "100/100 - 113s - loss: 0.3384 - accuracy: 0.8550 - val_loss: 0.4609 - val_accuracy: 0.8040\n",
            "Epoch 98/100\n",
            "100/100 - 113s - loss: 0.3366 - accuracy: 0.8500 - val_loss: 0.4355 - val_accuracy: 0.8140\n",
            "Epoch 99/100\n",
            "100/100 - 113s - loss: 0.3401 - accuracy: 0.8540 - val_loss: 0.5176 - val_accuracy: 0.7820\n",
            "Epoch 100/100\n",
            "100/100 - 113s - loss: 0.3257 - accuracy: 0.8585 - val_loss: 0.4106 - val_accuracy: 0.8110\n"
          ],
          "name": "stdout"
        }
      ]
    },
    {
      "cell_type": "code",
      "metadata": {
        "id": "XYT2ZdwQBCEq",
        "outputId": "f75ed4ce-4cba-4f92-b2f6-626d54f1c400",
        "colab": {
          "base_uri": "https://localhost:8080/",
          "height": 545
        }
      },
      "source": [
        "import matplotlib.pyplot as plt\n",
        "acc = history.history['accuracy']\n",
        "val_acc = history.history['val_accuracy']\n",
        "loss = history.history['loss']\n",
        "val_loss = history.history['val_loss']\n",
        "\n",
        "epochs = range(len(acc))\n",
        "\n",
        "plt.plot(epochs, acc, 'bo', label='Training accuracy')\n",
        "plt.plot(epochs, val_acc, 'b', label='Validation accuracy')\n",
        "plt.title('Training and validation accuracy')\n",
        "\n",
        "plt.figure()\n",
        "\n",
        "plt.plot(epochs, loss, 'bo', label='Training Loss')\n",
        "plt.plot(epochs, val_loss, 'b', label='Validation Loss')\n",
        "plt.title('Training and validation loss')\n",
        "plt.legend()\n",
        "\n",
        "plt.show()"
      ],
      "execution_count": null,
      "outputs": [
        {
          "output_type": "display_data",
          "data": {
            "image/png": "[encoded data removed]",
            "text/plain": [
              "<Figure size 432x288 with 1 Axes>"
            ]
          },
          "metadata": {
            "tags": []
          }
        },
        {
          "output_type": "display_data",
          "data": {
            "image/png": "[encoded data removed]",
            "text/plain": [
              "<Figure size 432x288 with 1 Axes>"
            ]
          },
          "metadata": {
            "tags": []
          }
        }
      ]
    },
    {
      "cell_type": "markdown",
      "metadata": {
        "id": "YtX8UtNQBehz"
      },
      "source": [
        "Augmentation + Drop Out"
      ]
    },
    {
      "cell_type": "code",
      "metadata": {
        "id": "0yHC3LlhBdz6",
        "outputId": "4629ce09-d71a-4b0b-ab94-0d88e70ba760",
        "colab": {
          "base_uri": "https://localhost:8080/"
        }
      },
      "source": [
        "!wget --no-check-certificate \\\n",
        "    https://storage.googleapis.com/mledu-datasets/cats_and_dogs_filtered.zip \\\n",
        "    -O /tmp/cats_and_dogs_filtered.zip\n",
        "  \n",
        "import os\n",
        "import zipfile\n",
        "import tensorflow as tf\n",
        "from tensorflow.keras.optimizers import RMSprop\n",
        "from tensorflow.keras.preprocessing.image import ImageDataGenerator\n",
        "\n",
        "local_zip = '/tmp/cats_and_dogs_filtered.zip'\n",
        "zip_ref = zipfile.ZipFile(local_zip, 'r')\n",
        "zip_ref.extractall('/tmp')\n",
        "zip_ref.close()\n",
        "\n",
        "base_dir = '/tmp/cats_and_dogs_filtered'\n",
        "train_dir = os.path.join(base_dir, 'train')\n",
        "validation_dir = os.path.join(base_dir, 'validation')\n",
        "\n",
        "# Directory with our training cat pictures\n",
        "train_cats_dir = os.path.join(train_dir, 'cats')\n",
        "\n",
        "# Directory with our training dog pictures\n",
        "train_dogs_dir = os.path.join(train_dir, 'dogs')\n",
        "\n",
        "# Directory with our validation cat pictures\n",
        "validation_cats_dir = os.path.join(validation_dir, 'cats')\n",
        "\n",
        "# Directory with our validation dog pictures\n",
        "validation_dogs_dir = os.path.join(validation_dir, 'dogs')\n",
        "\n",
        "model = tf.keras.models.Sequential([\n",
        "    tf.keras.layers.Conv2D(32, (3,3), activation='relu', input_shape=(150, 150, 3)),\n",
        "    tf.keras.layers.MaxPooling2D(2, 2),\n",
        "    tf.keras.layers.Conv2D(64, (3,3), activation='relu'),\n",
        "    tf.keras.layers.MaxPooling2D(2,2),\n",
        "    tf.keras.layers.Conv2D(128, (3,3), activation='relu'),\n",
        "    tf.keras.layers.MaxPooling2D(2,2),\n",
        "    tf.keras.layers.Conv2D(128, (3,3), activation='relu'),\n",
        "    tf.keras.layers.MaxPooling2D(2,2),\n",
        "    tf.keras.layers.Dropout(0.5),\n",
        "    tf.keras.layers.Flatten(),\n",
        "    tf.keras.layers.Dense(512, activation='relu'),\n",
        "    tf.keras.layers.Dense(1, activation='sigmoid')\n",
        "])\n",
        "\n",
        "model.compile(loss='binary_crossentropy',\n",
        "              optimizer=RMSprop(lr=1e-4),\n",
        "              metrics=['accuracy'])\n",
        "\n",
        "# This code has changed. Now instead of the ImageGenerator just rescaling\n",
        "# the image, we also rotate and do other operations\n",
        "# Updated to do image augmentation\n",
        "train_datagen = ImageDataGenerator(\n",
        "      rescale=1./255,\n",
        "      rotation_range=40,\n",
        "      width_shift_range=0.2,\n",
        "      height_shift_range=0.2,\n",
        "      shear_range=0.2,\n",
        "      zoom_range=0.2,\n",
        "      horizontal_flip=True,\n",
        "      fill_mode='nearest')\n",
        "\n",
        "test_datagen = ImageDataGenerator(rescale=1./255)\n",
        "\n",
        "# Flow training images in batches of 20 using train_datagen generator\n",
        "train_generator = train_datagen.flow_from_directory(\n",
        "        train_dir,  # This is the source directory for training images\n",
        "        target_size=(150, 150),  # All images will be resized to 150x150\n",
        "        batch_size=20,\n",
        "        # Since we use binary_crossentropy loss, we need binary labels\n",
        "        class_mode='binary')\n",
        "\n",
        "# Flow validation images in batches of 20 using test_datagen generator\n",
        "validation_generator = test_datagen.flow_from_directory(\n",
        "        validation_dir,\n",
        "        target_size=(150, 150),\n",
        "        batch_size=20,\n",
        "        class_mode='binary')\n",
        "\n",
        "history = model.fit(\n",
        "      train_generator,\n",
        "      steps_per_epoch=100,  # 2000 images = batch_size * steps\n",
        "      epochs=100,\n",
        "      validation_data=validation_generator,\n",
        "      validation_steps=50,  # 1000 images = batch_size * steps\n",
        "      verbose=2)"
      ],
      "execution_count": 2,
      "outputs": [
        {
          "output_type": "stream",
          "text": [
            "--2020-11-12 20:43:15--  https://storage.googleapis.com/mledu-datasets/cats_and_dogs_filtered.zip\n",
            "Resolving storage.googleapis.com (storage.googleapis.com)... 74.125.195.128, 74.125.142.128, 74.125.20.128, ...\n",
            "Connecting to storage.googleapis.com (storage.googleapis.com)|74.125.195.128|:443... connected.\n",
            "HTTP request sent, awaiting response... 200 OK\n",
            "Length: 68606236 (65M) [application/zip]\n",
            "Saving to: ‘/tmp/cats_and_dogs_filtered.zip’\n",
            "\n",
            "/tmp/cats_and_dogs_ 100%[===================>]  65.43M  61.1MB/s    in 1.1s    \n",
            "\n",
            "2020-11-12 20:43:16 (61.1 MB/s) - ‘/tmp/cats_and_dogs_filtered.zip’ saved [68606236/68606236]\n",
            "\n",
            "Found 2000 images belonging to 2 classes.\n",
            "Found 1000 images belonging to 2 classes.\n",
            "Epoch 1/100\n",
            "100/100 - 108s - loss: 0.6966 - accuracy: 0.5075 - val_loss: 0.6927 - val_accuracy: 0.5000\n",
            "Epoch 2/100\n",
            "100/100 - 108s - loss: 0.6874 - accuracy: 0.5535 - val_loss: 0.6728 - val_accuracy: 0.5380\n",
            "Epoch 3/100\n",
            "100/100 - 108s - loss: 0.6777 - accuracy: 0.5690 - val_loss: 0.6826 - val_accuracy: 0.5280\n",
            "Epoch 4/100\n",
            "100/100 - 108s - loss: 0.6676 - accuracy: 0.6035 - val_loss: 0.6356 - val_accuracy: 0.6440\n",
            "Epoch 5/100\n",
            "100/100 - 108s - loss: 0.6560 - accuracy: 0.6010 - val_loss: 0.6309 - val_accuracy: 0.6350\n",
            "Epoch 6/100\n",
            "100/100 - 108s - loss: 0.6434 - accuracy: 0.6335 - val_loss: 0.5956 - val_accuracy: 0.6870\n",
            "Epoch 7/100\n",
            "100/100 - 108s - loss: 0.6268 - accuracy: 0.6585 - val_loss: 0.5951 - val_accuracy: 0.6580\n",
            "Epoch 8/100\n",
            "100/100 - 108s - loss: 0.6154 - accuracy: 0.6570 - val_loss: 0.5618 - val_accuracy: 0.7020\n",
            "Epoch 9/100\n",
            "100/100 - 108s - loss: 0.6098 - accuracy: 0.6610 - val_loss: 0.5546 - val_accuracy: 0.7110\n",
            "Epoch 10/100\n",
            "100/100 - 108s - loss: 0.5975 - accuracy: 0.6850 - val_loss: 0.5349 - val_accuracy: 0.7320\n",
            "Epoch 11/100\n",
            "100/100 - 108s - loss: 0.6053 - accuracy: 0.6610 - val_loss: 0.5501 - val_accuracy: 0.7250\n",
            "Epoch 12/100\n",
            "100/100 - 108s - loss: 0.5886 - accuracy: 0.6760 - val_loss: 0.5336 - val_accuracy: 0.7300\n",
            "Epoch 13/100\n",
            "100/100 - 107s - loss: 0.5802 - accuracy: 0.6900 - val_loss: 0.5285 - val_accuracy: 0.7270\n",
            "Epoch 14/100\n",
            "100/100 - 108s - loss: 0.5813 - accuracy: 0.6870 - val_loss: 0.5780 - val_accuracy: 0.6850\n",
            "Epoch 15/100\n",
            "100/100 - 110s - loss: 0.5742 - accuracy: 0.6920 - val_loss: 0.5186 - val_accuracy: 0.7490\n",
            "Epoch 16/100\n",
            "100/100 - 109s - loss: 0.5765 - accuracy: 0.6895 - val_loss: 0.5254 - val_accuracy: 0.7240\n",
            "Epoch 17/100\n",
            "100/100 - 108s - loss: 0.5782 - accuracy: 0.6955 - val_loss: 0.5169 - val_accuracy: 0.7480\n",
            "Epoch 18/100\n",
            "100/100 - 109s - loss: 0.5542 - accuracy: 0.7020 - val_loss: 0.5201 - val_accuracy: 0.7340\n",
            "Epoch 19/100\n",
            "100/100 - 109s - loss: 0.5608 - accuracy: 0.7100 - val_loss: 0.5337 - val_accuracy: 0.7370\n",
            "Epoch 20/100\n",
            "100/100 - 110s - loss: 0.5514 - accuracy: 0.7145 - val_loss: 0.5260 - val_accuracy: 0.7320\n",
            "Epoch 21/100\n",
            "100/100 - 110s - loss: 0.5586 - accuracy: 0.7000 - val_loss: 0.4957 - val_accuracy: 0.7570\n",
            "Epoch 22/100\n",
            "100/100 - 110s - loss: 0.5439 - accuracy: 0.7270 - val_loss: 0.4958 - val_accuracy: 0.7620\n",
            "Epoch 23/100\n",
            "100/100 - 109s - loss: 0.5403 - accuracy: 0.7285 - val_loss: 0.5064 - val_accuracy: 0.7400\n",
            "Epoch 24/100\n",
            "100/100 - 110s - loss: 0.5388 - accuracy: 0.7305 - val_loss: 0.5010 - val_accuracy: 0.7540\n",
            "Epoch 25/100\n",
            "100/100 - 110s - loss: 0.5437 - accuracy: 0.7160 - val_loss: 0.5148 - val_accuracy: 0.7350\n",
            "Epoch 26/100\n",
            "100/100 - 110s - loss: 0.5374 - accuracy: 0.7285 - val_loss: 0.4906 - val_accuracy: 0.7520\n",
            "Epoch 27/100\n",
            "100/100 - 109s - loss: 0.5288 - accuracy: 0.7325 - val_loss: 0.4964 - val_accuracy: 0.7620\n",
            "Epoch 28/100\n",
            "100/100 - 109s - loss: 0.5200 - accuracy: 0.7415 - val_loss: 0.4726 - val_accuracy: 0.7670\n",
            "Epoch 29/100\n",
            "100/100 - 109s - loss: 0.5261 - accuracy: 0.7370 - val_loss: 0.4788 - val_accuracy: 0.7630\n",
            "Epoch 30/100\n",
            "100/100 - 109s - loss: 0.5228 - accuracy: 0.7330 - val_loss: 0.4704 - val_accuracy: 0.7730\n",
            "Epoch 31/100\n",
            "100/100 - 109s - loss: 0.5275 - accuracy: 0.7285 - val_loss: 0.4883 - val_accuracy: 0.7510\n",
            "Epoch 32/100\n",
            "100/100 - 109s - loss: 0.5097 - accuracy: 0.7570 - val_loss: 0.5264 - val_accuracy: 0.7400\n",
            "Epoch 33/100\n",
            "100/100 - 109s - loss: 0.5107 - accuracy: 0.7555 - val_loss: 0.4658 - val_accuracy: 0.7700\n",
            "Epoch 34/100\n",
            "100/100 - 109s - loss: 0.5091 - accuracy: 0.7475 - val_loss: 0.5098 - val_accuracy: 0.7500\n",
            "Epoch 35/100\n",
            "100/100 - 109s - loss: 0.4937 - accuracy: 0.7605 - val_loss: 0.5153 - val_accuracy: 0.7240\n",
            "Epoch 36/100\n",
            "100/100 - 109s - loss: 0.5052 - accuracy: 0.7515 - val_loss: 0.4634 - val_accuracy: 0.7800\n",
            "Epoch 37/100\n",
            "100/100 - 110s - loss: 0.5073 - accuracy: 0.7550 - val_loss: 0.4953 - val_accuracy: 0.7490\n",
            "Epoch 38/100\n",
            "100/100 - 110s - loss: 0.4823 - accuracy: 0.7700 - val_loss: 0.4682 - val_accuracy: 0.7760\n",
            "Epoch 39/100\n",
            "100/100 - 109s - loss: 0.4842 - accuracy: 0.7665 - val_loss: 0.5119 - val_accuracy: 0.7300\n",
            "Epoch 40/100\n",
            "100/100 - 109s - loss: 0.4864 - accuracy: 0.7625 - val_loss: 0.4534 - val_accuracy: 0.7780\n",
            "Epoch 41/100\n",
            "100/100 - 109s - loss: 0.4911 - accuracy: 0.7685 - val_loss: 0.4744 - val_accuracy: 0.7720\n",
            "Epoch 42/100\n",
            "100/100 - 110s - loss: 0.4914 - accuracy: 0.7610 - val_loss: 0.4605 - val_accuracy: 0.7730\n",
            "Epoch 43/100\n",
            "100/100 - 111s - loss: 0.4819 - accuracy: 0.7740 - val_loss: 0.4401 - val_accuracy: 0.7900\n",
            "Epoch 44/100\n",
            "100/100 - 109s - loss: 0.4916 - accuracy: 0.7665 - val_loss: 0.4391 - val_accuracy: 0.7880\n",
            "Epoch 45/100\n",
            "100/100 - 110s - loss: 0.4902 - accuracy: 0.7665 - val_loss: 0.4617 - val_accuracy: 0.7750\n",
            "Epoch 46/100\n",
            "100/100 - 110s - loss: 0.4692 - accuracy: 0.7665 - val_loss: 0.4865 - val_accuracy: 0.7650\n",
            "Epoch 47/100\n",
            "100/100 - 108s - loss: 0.4807 - accuracy: 0.7685 - val_loss: 0.4691 - val_accuracy: 0.7810\n",
            "Epoch 48/100\n",
            "100/100 - 108s - loss: 0.4781 - accuracy: 0.7685 - val_loss: 0.4560 - val_accuracy: 0.7810\n",
            "Epoch 49/100\n",
            "100/100 - 109s - loss: 0.4538 - accuracy: 0.7775 - val_loss: 0.4400 - val_accuracy: 0.7950\n",
            "Epoch 50/100\n",
            "100/100 - 109s - loss: 0.4789 - accuracy: 0.7710 - val_loss: 0.4839 - val_accuracy: 0.7480\n",
            "Epoch 51/100\n",
            "100/100 - 109s - loss: 0.4803 - accuracy: 0.7710 - val_loss: 0.4387 - val_accuracy: 0.7890\n",
            "Epoch 52/100\n",
            "100/100 - 108s - loss: 0.4641 - accuracy: 0.7900 - val_loss: 0.4531 - val_accuracy: 0.7700\n",
            "Epoch 53/100\n",
            "100/100 - 109s - loss: 0.4625 - accuracy: 0.7780 - val_loss: 0.4461 - val_accuracy: 0.7800\n",
            "Epoch 54/100\n",
            "100/100 - 109s - loss: 0.4545 - accuracy: 0.7860 - val_loss: 0.4395 - val_accuracy: 0.7770\n",
            "Epoch 55/100\n",
            "100/100 - 108s - loss: 0.4538 - accuracy: 0.7865 - val_loss: 0.5645 - val_accuracy: 0.7280\n",
            "Epoch 56/100\n",
            "100/100 - 109s - loss: 0.4637 - accuracy: 0.7785 - val_loss: 0.4354 - val_accuracy: 0.7870\n",
            "Epoch 57/100\n",
            "100/100 - 108s - loss: 0.4562 - accuracy: 0.7810 - val_loss: 0.4536 - val_accuracy: 0.7780\n",
            "Epoch 58/100\n",
            "100/100 - 108s - loss: 0.4527 - accuracy: 0.7895 - val_loss: 0.4203 - val_accuracy: 0.8070\n",
            "Epoch 59/100\n",
            "100/100 - 109s - loss: 0.4593 - accuracy: 0.7915 - val_loss: 0.4628 - val_accuracy: 0.7770\n",
            "Epoch 60/100\n",
            "100/100 - 110s - loss: 0.4447 - accuracy: 0.7960 - val_loss: 0.4568 - val_accuracy: 0.7770\n",
            "Epoch 61/100\n",
            "100/100 - 110s - loss: 0.4400 - accuracy: 0.7895 - val_loss: 0.4485 - val_accuracy: 0.7820\n",
            "Epoch 62/100\n",
            "100/100 - 110s - loss: 0.4487 - accuracy: 0.7925 - val_loss: 0.4082 - val_accuracy: 0.8180\n",
            "Epoch 63/100\n",
            "100/100 - 110s - loss: 0.4332 - accuracy: 0.7945 - val_loss: 0.4136 - val_accuracy: 0.8020\n",
            "Epoch 64/100\n",
            "100/100 - 109s - loss: 0.4325 - accuracy: 0.8005 - val_loss: 0.4087 - val_accuracy: 0.8150\n",
            "Epoch 65/100\n",
            "100/100 - 109s - loss: 0.4340 - accuracy: 0.8015 - val_loss: 0.4095 - val_accuracy: 0.8040\n",
            "Epoch 66/100\n",
            "100/100 - 110s - loss: 0.4428 - accuracy: 0.7950 - val_loss: 0.4236 - val_accuracy: 0.7840\n",
            "Epoch 67/100\n",
            "100/100 - 110s - loss: 0.4471 - accuracy: 0.7835 - val_loss: 0.4291 - val_accuracy: 0.8020\n",
            "Epoch 68/100\n",
            "100/100 - 109s - loss: 0.4527 - accuracy: 0.7880 - val_loss: 0.4096 - val_accuracy: 0.8190\n",
            "Epoch 69/100\n",
            "100/100 - 110s - loss: 0.4341 - accuracy: 0.7965 - val_loss: 0.4407 - val_accuracy: 0.7940\n",
            "Epoch 70/100\n",
            "100/100 - 109s - loss: 0.4118 - accuracy: 0.8140 - val_loss: 0.4230 - val_accuracy: 0.8130\n",
            "Epoch 71/100\n",
            "100/100 - 109s - loss: 0.4275 - accuracy: 0.7965 - val_loss: 0.4120 - val_accuracy: 0.8080\n",
            "Epoch 72/100\n",
            "100/100 - 110s - loss: 0.4500 - accuracy: 0.7895 - val_loss: 0.3921 - val_accuracy: 0.8230\n",
            "Epoch 73/100\n",
            "100/100 - 110s - loss: 0.4327 - accuracy: 0.8025 - val_loss: 0.4234 - val_accuracy: 0.8030\n",
            "Epoch 74/100\n",
            "100/100 - 110s - loss: 0.4413 - accuracy: 0.8010 - val_loss: 0.4619 - val_accuracy: 0.7690\n",
            "Epoch 75/100\n",
            "100/100 - 110s - loss: 0.4290 - accuracy: 0.8060 - val_loss: 0.4036 - val_accuracy: 0.8130\n",
            "Epoch 76/100\n",
            "100/100 - 110s - loss: 0.4251 - accuracy: 0.8030 - val_loss: 0.4175 - val_accuracy: 0.8030\n",
            "Epoch 77/100\n",
            "100/100 - 110s - loss: 0.4158 - accuracy: 0.8070 - val_loss: 0.4246 - val_accuracy: 0.7960\n",
            "Epoch 78/100\n",
            "100/100 - 110s - loss: 0.4181 - accuracy: 0.8040 - val_loss: 0.4185 - val_accuracy: 0.8010\n",
            "Epoch 79/100\n",
            "100/100 - 110s - loss: 0.4080 - accuracy: 0.8120 - val_loss: 0.4179 - val_accuracy: 0.8130\n",
            "Epoch 80/100\n",
            "100/100 - 110s - loss: 0.3909 - accuracy: 0.8265 - val_loss: 0.4352 - val_accuracy: 0.7870\n",
            "Epoch 81/100\n",
            "100/100 - 110s - loss: 0.4101 - accuracy: 0.8175 - val_loss: 0.4363 - val_accuracy: 0.8010\n",
            "Epoch 82/100\n",
            "100/100 - 110s - loss: 0.4088 - accuracy: 0.8215 - val_loss: 0.4897 - val_accuracy: 0.7760\n",
            "Epoch 83/100\n",
            "100/100 - 110s - loss: 0.4156 - accuracy: 0.8150 - val_loss: 0.4183 - val_accuracy: 0.8110\n",
            "Epoch 84/100\n",
            "100/100 - 110s - loss: 0.4073 - accuracy: 0.8160 - val_loss: 0.4105 - val_accuracy: 0.8080\n",
            "Epoch 85/100\n",
            "100/100 - 110s - loss: 0.3929 - accuracy: 0.8225 - val_loss: 0.4139 - val_accuracy: 0.8070\n",
            "Epoch 86/100\n",
            "100/100 - 110s - loss: 0.3998 - accuracy: 0.8240 - val_loss: 0.3877 - val_accuracy: 0.8180\n",
            "Epoch 87/100\n",
            "100/100 - 110s - loss: 0.4029 - accuracy: 0.8185 - val_loss: 0.4820 - val_accuracy: 0.7760\n",
            "Epoch 88/100\n",
            "100/100 - 109s - loss: 0.3975 - accuracy: 0.8155 - val_loss: 0.4590 - val_accuracy: 0.7860\n",
            "Epoch 89/100\n",
            "100/100 - 110s - loss: 0.3980 - accuracy: 0.8130 - val_loss: 0.3862 - val_accuracy: 0.8200\n",
            "Epoch 90/100\n",
            "100/100 - 109s - loss: 0.3890 - accuracy: 0.8275 - val_loss: 0.3901 - val_accuracy: 0.8090\n",
            "Epoch 91/100\n",
            "100/100 - 110s - loss: 0.3953 - accuracy: 0.8270 - val_loss: 0.3808 - val_accuracy: 0.8200\n",
            "Epoch 92/100\n",
            "100/100 - 110s - loss: 0.3905 - accuracy: 0.8305 - val_loss: 0.3891 - val_accuracy: 0.8120\n",
            "Epoch 93/100\n",
            "100/100 - 110s - loss: 0.3919 - accuracy: 0.8265 - val_loss: 0.4138 - val_accuracy: 0.8020\n",
            "Epoch 94/100\n",
            "100/100 - 110s - loss: 0.3985 - accuracy: 0.8230 - val_loss: 0.3683 - val_accuracy: 0.8250\n",
            "Epoch 95/100\n",
            "100/100 - 109s - loss: 0.3835 - accuracy: 0.8260 - val_loss: 0.4739 - val_accuracy: 0.8080\n",
            "Epoch 96/100\n",
            "100/100 - 109s - loss: 0.3825 - accuracy: 0.8315 - val_loss: 0.3981 - val_accuracy: 0.8180\n",
            "Epoch 97/100\n",
            "100/100 - 109s - loss: 0.3851 - accuracy: 0.8195 - val_loss: 0.3807 - val_accuracy: 0.8200\n",
            "Epoch 98/100\n",
            "100/100 - 109s - loss: 0.3751 - accuracy: 0.8285 - val_loss: 0.3906 - val_accuracy: 0.8190\n",
            "Epoch 99/100\n",
            "100/100 - 109s - loss: 0.3914 - accuracy: 0.8290 - val_loss: 0.3837 - val_accuracy: 0.8250\n",
            "Epoch 100/100\n",
            "100/100 - 109s - loss: 0.3726 - accuracy: 0.8310 - val_loss: 0.4044 - val_accuracy: 0.8150\n"
          ],
          "name": "stdout"
        }
      ]
    },
    {
      "cell_type": "code",
      "metadata": {
        "id": "t0ywvbItBk4I",
        "outputId": "7fad4f72-69ad-4b89-9644-4aeb74798b34",
        "colab": {
          "base_uri": "https://localhost:8080/",
          "height": 545
        }
      },
      "source": [
        "import matplotlib.pyplot as plt\n",
        "acc = history.history['accuracy']\n",
        "val_acc = history.history['val_accuracy']\n",
        "loss = history.history['loss']\n",
        "val_loss = history.history['val_loss']\n",
        "\n",
        "epochs = range(len(acc))\n",
        "\n",
        "plt.plot(epochs, acc, 'bo', label='Training accuracy')\n",
        "plt.plot(epochs, val_acc, 'b', label='Validation accuracy')\n",
        "plt.title('Training and validation accuracy')\n",
        "\n",
        "plt.figure()\n",
        "\n",
        "plt.plot(epochs, loss, 'bo', label='Training Loss')\n",
        "plt.plot(epochs, val_loss, 'b', label='Validation Loss')\n",
        "plt.title('Training and validation loss')\n",
        "plt.legend()\n",
        "\n",
        "plt.show()"
      ],
      "execution_count": 3,
      "outputs": [
        {
          "output_type": "display_data",
          "data": {
            "image/png": "[encoded data removed]",
            "text/plain": [
              "<Figure size 432x288 with 1 Axes>"
            ]
          },
          "metadata": {
            "tags": [],
            "needs_background": "light"
          }
        },
        {
          "output_type": "display_data",
          "data": {
            "image/png": "[encoded data removed]",
            "text/plain": [
              "<Figure size 432x288 with 1 Axes>"
            ]
          },
          "metadata": {
            "tags": [],
            "needs_background": "light"
          }
        }
      ]
    }
  ]
}
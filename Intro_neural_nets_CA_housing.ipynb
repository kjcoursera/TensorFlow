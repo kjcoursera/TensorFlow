{
  "nbformat": 4,
  "nbformat_minor": 0,
  "metadata": {
    "colab": {
      "name": "Intro_neural_nets_CA_housing.ipynb",
      "provenance": [],
      "authorship_tag": "ABX9TyM23mPtbQFE0lCR1V0wrYVx",
      "include_colab_link": true
    },
    "kernelspec": {
      "name": "python3",
      "display_name": "Python 3"
    }
  },
  "cells": [
    {
      "cell_type": "markdown",
      "metadata": {
        "id": "view-in-github",
        "colab_type": "text"
      },
      "source": [
        "<a href=\"https://colab.research.google.com/github/kjcoursera/TensorFlow/blob/main/Intro_neural_nets_CA_housing.ipynb\" target=\"_parent\"><img src=\"https://colab.research.google.com/assets/colab-badge.svg\" alt=\"Open In Colab\"/></a>"
      ]
    },
    {
      "cell_type": "code",
      "metadata": {
        "id": "hoBes0KOCQaZ",
        "outputId": "131d84d6-5cd0-4c40-8b82-2ba072706579",
        "colab": {
          "base_uri": "https://localhost:8080/",
          "height": 34
        }
      },
      "source": [
        "# TensorFlow and tf.keras\n",
        "import tensorflow as tf\n",
        "\n",
        "# Helper libraries\n",
        "import numpy as np\n",
        "import pandas as pd\n",
        "import matplotlib.pyplot as plt\n",
        "\n",
        "print(tf.__version__)"
      ],
      "execution_count": 1,
      "outputs": [
        {
          "output_type": "stream",
          "text": [
            "2.3.0\n"
          ],
          "name": "stdout"
        }
      ]
    },
    {
      "cell_type": "code",
      "metadata": {
        "id": "k4MGSofYCaI0"
      },
      "source": [
        "train_df = pd.read_csv(\"https://download.mlcc.google.com/mledu-datasets/california_housing_train.csv\")\n",
        "#shuffle the training dataset\n",
        "train_df = train_df.reindex(np.random.permutation(train_df.index))\n",
        "\n",
        "test_df = pd.read_csv(\"https://download.mlcc.google.com/mledu-datasets/california_housing_test.csv\")\n"
      ],
      "execution_count": 2,
      "outputs": []
    },
    {
      "cell_type": "code",
      "metadata": {
        "id": "GkDQgbS3CsLo",
        "outputId": "86ac78a2-0c35-4914-9722-937e57d3dd27",
        "colab": {
          "base_uri": "https://localhost:8080/",
          "height": 206
        }
      },
      "source": [
        "#Normalize the train_df\n",
        "train_df_mean = train_df.mean()\n",
        "train_df_std = train_df.std()\n",
        "\n",
        "train_df_norm = (train_df-train_df_mean)/train_df_std\n",
        "\n",
        "train_df_norm.head()"
      ],
      "execution_count": 3,
      "outputs": [
        {
          "output_type": "execute_result",
          "data": {
            "text/html": [
              "<div>\n",
              "<style scoped>\n",
              "    .dataframe tbody tr th:only-of-type {\n",
              "        vertical-align: middle;\n",
              "    }\n",
              "\n",
              "    .dataframe tbody tr th {\n",
              "        vertical-align: top;\n",
              "    }\n",
              "\n",
              "    .dataframe thead th {\n",
              "        text-align: right;\n",
              "    }\n",
              "</style>\n",
              "<table border=\"1\" class=\"dataframe\">\n",
              "  <thead>\n",
              "    <tr style=\"text-align: right;\">\n",
              "      <th></th>\n",
              "      <th>longitude</th>\n",
              "      <th>latitude</th>\n",
              "      <th>housing_median_age</th>\n",
              "      <th>total_rooms</th>\n",
              "      <th>total_bedrooms</th>\n",
              "      <th>population</th>\n",
              "      <th>households</th>\n",
              "      <th>median_income</th>\n",
              "      <th>median_house_value</th>\n",
              "    </tr>\n",
              "  </thead>\n",
              "  <tbody>\n",
              "    <tr>\n",
              "      <th>12943</th>\n",
              "      <td>-1.136011</td>\n",
              "      <td>0.825688</td>\n",
              "      <td>0.191520</td>\n",
              "      <td>1.321287</td>\n",
              "      <td>0.888706</td>\n",
              "      <td>1.235721</td>\n",
              "      <td>0.982464</td>\n",
              "      <td>0.878137</td>\n",
              "      <td>0.194847</td>\n",
              "    </tr>\n",
              "    <tr>\n",
              "      <th>3677</th>\n",
              "      <td>0.818939</td>\n",
              "      <td>-0.891400</td>\n",
              "      <td>-0.920744</td>\n",
              "      <td>0.309336</td>\n",
              "      <td>-0.088757</td>\n",
              "      <td>0.078778</td>\n",
              "      <td>-0.008379</td>\n",
              "      <td>0.873368</td>\n",
              "      <td>0.576797</td>\n",
              "    </tr>\n",
              "    <tr>\n",
              "      <th>5556</th>\n",
              "      <td>0.694261</td>\n",
              "      <td>-0.779111</td>\n",
              "      <td>-0.285165</td>\n",
              "      <td>-0.181043</td>\n",
              "      <td>0.335918</td>\n",
              "      <td>1.037961</td>\n",
              "      <td>0.329704</td>\n",
              "      <td>-0.829899</td>\n",
              "      <td>-0.371612</td>\n",
              "    </tr>\n",
              "    <tr>\n",
              "      <th>3963</th>\n",
              "      <td>0.798990</td>\n",
              "      <td>-0.849292</td>\n",
              "      <td>0.509310</td>\n",
              "      <td>-0.683808</td>\n",
              "      <td>-0.824226</td>\n",
              "      <td>-0.475300</td>\n",
              "      <td>-0.762564</td>\n",
              "      <td>0.710016</td>\n",
              "      <td>-0.257803</td>\n",
              "    </tr>\n",
              "    <tr>\n",
              "      <th>1620</th>\n",
              "      <td>1.163050</td>\n",
              "      <td>-1.134693</td>\n",
              "      <td>0.032625</td>\n",
              "      <td>0.334107</td>\n",
              "      <td>0.428445</td>\n",
              "      <td>0.296576</td>\n",
              "      <td>0.498746</td>\n",
              "      <td>-0.195308</td>\n",
              "      <td>-0.356092</td>\n",
              "    </tr>\n",
              "  </tbody>\n",
              "</table>\n",
              "</div>"
            ],
            "text/plain": [
              "       longitude  latitude  ...  median_income  median_house_value\n",
              "12943  -1.136011  0.825688  ...       0.878137            0.194847\n",
              "3677    0.818939 -0.891400  ...       0.873368            0.576797\n",
              "5556    0.694261 -0.779111  ...      -0.829899           -0.371612\n",
              "3963    0.798990 -0.849292  ...       0.710016           -0.257803\n",
              "1620    1.163050 -1.134693  ...      -0.195308           -0.356092\n",
              "\n",
              "[5 rows x 9 columns]"
            ]
          },
          "metadata": {
            "tags": []
          },
          "execution_count": 3
        }
      ]
    },
    {
      "cell_type": "code",
      "metadata": {
        "id": "IPvlr2m4Cvu6"
      },
      "source": [
        "#normalize test_df\n",
        "test_df_mean = test_df.mean()\n",
        "test_df_std = test_df.std()\n",
        "\n",
        "test_df_norm = (test_df-test_df_mean)/test_df_std"
      ],
      "execution_count": 4,
      "outputs": []
    },
    {
      "cell_type": "code",
      "metadata": {
        "id": "JdBwJ6L2CzhB"
      },
      "source": [
        "# Create an empty list that will hold all feature columns\n",
        "feature_columns = []\n",
        "resolution_in_Zs = 0.3 # 3/10\n",
        "# Create a bucket feature column for latitude.\n",
        "latitude_as_a_numeric_column = tf.feature_column.numeric_column(\"latitude\")\n",
        "latitude_boundaries = list(np.arange(int(min(train_df_norm['latitude'])), \n",
        "                                     int(max(train_df_norm['latitude'])), \n",
        "                                     resolution_in_Zs))\n",
        "latitude = tf.feature_column.bucketized_column(latitude_as_a_numeric_column, latitude_boundaries)\n",
        "\n",
        "\n",
        "# Create a bucket feature column for longitude\n",
        "longitude_as_a_numeric_column = tf.feature_column.numeric_column(\"longitude\")\n",
        "longitude_boundaries = list(np.arange(int(min(train_df_norm[\"longitude\"])),\n",
        "                                     int(max(train_df_norm[\"longitude\"])),\n",
        "                                     resolution_in_Zs))\n",
        "longitude = tf.feature_column.bucketized_column(longitude_as_a_numeric_column,longitude_boundaries)\n",
        "\n",
        "#Create a feature cross of latitude and longitude\n",
        "latitude_X_longitude = tf.feature_column.crossed_column([latitude,longitude], hash_bucket_size = 100)\n",
        "crossed_feature = tf.feature_column.indicator_column(latitude_X_longitude)\n",
        "feature_columns.append(crossed_feature)\n",
        "\n",
        "# Represent median_income as a floating-point value.\n",
        "median_income = tf.feature_column.numeric_column(\"median_income\")\n",
        "feature_columns.append(median_income)\n",
        "\n",
        "# Represent population as a floating-point value.\n",
        "population = tf.feature_column.numeric_column(\"population\")\n",
        "feature_columns.append(population)\n",
        "\n",
        "# Convert the list of feature columns into a layer that will later be fed into\n",
        "# the model.\n",
        "my_feature_layer = tf.keras.layers.DenseFeatures(feature_columns)"
      ],
      "execution_count": 5,
      "outputs": []
    },
    {
      "cell_type": "code",
      "metadata": {
        "id": "GBXkf1X1C3xm"
      },
      "source": [
        "def create_model(my_learning_rate, my_feature_layer):\n",
        "  model = tf.keras.models.Sequential()\n",
        "  model.add(my_feature_layer)\n",
        "  # Define the first hidden layer with 20 nodes.   \n",
        "  model.add(tf.keras.layers.Dense(units=20, \n",
        "                                  activation='relu', \n",
        "                                  name='Hidden1'))\n",
        "   # Define the second hidden layer with 12 nodes.\n",
        "  model.add(tf.keras.layers.Dense(units=12, \n",
        "                                  activation='relu', \n",
        "                                  name='Hidden2'))\n",
        "   # Define the output layer.\n",
        "  model.add(tf.keras.layers.Dense(units=1, name='Output'))\n",
        "\n",
        "  model.compile(optimizer=tf.keras.optimizers.Adam(learning_rate=my_learning_rate),\n",
        "                 loss=\"mean_squared_error\",\n",
        "                 metrics=[tf.keras.metrics.MeanSquaredError()])\n",
        "  return model\n",
        "\n",
        "   "
      ],
      "execution_count": 11,
      "outputs": []
    },
    {
      "cell_type": "code",
      "metadata": {
        "id": "7TnFa1vHCHsG"
      },
      "source": [
        "def train_model(model, dataset, epochs, label_name, batch_size=None):\n",
        "  # Split the dataset into features and label.\n",
        "  features = {name:np.array(value) for name, value in dataset.items()}\n",
        "  label = np.array(features.pop(label_name))\n",
        "  history = model.fit(x=features, y=labels, batch_size=batch_size,\n",
        "                      epochs=epochs, shuffle = True)\n",
        "  # The list of epochs is stored separately from the rest of history.\n",
        "  epochs = history.epoch\n",
        "  # To track the progression of training, gather a snapshot\n",
        "  # of the model's mean squared error at each epoch. \n",
        "  hist = pd.DataFrame(history.history)\n",
        "  mse =  hist(\"mean_squared_error\")\n",
        "\n",
        "  return epochs, mse\n"
      ],
      "execution_count": 14,
      "outputs": []
    },
    {
      "cell_type": "code",
      "metadata": {
        "id": "CH5ze9FdD_jy"
      },
      "source": [
        ""
      ],
      "execution_count": null,
      "outputs": []
    }
  ]
}
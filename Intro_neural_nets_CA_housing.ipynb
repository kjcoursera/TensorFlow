{
  "nbformat": 4,
  "nbformat_minor": 0,
  "metadata": {
    "colab": {
      "name": "Intro_neural_nets_CA_housing.ipynb",
      "provenance": [],
      "collapsed_sections": [],
      "authorship_tag": "ABX9TyO6puJkBg2gpxi6RoKWHIvW",
      "include_colab_link": true
    },
    "kernelspec": {
      "name": "python3",
      "display_name": "Python 3"
    }
  },
  "cells": [
    {
      "cell_type": "markdown",
      "metadata": {
        "id": "view-in-github",
        "colab_type": "text"
      },
      "source": [
        "<a href=\"https://colab.research.google.com/github/kjcoursera/TensorFlow/blob/main/Intro_neural_nets_CA_housing.ipynb\" target=\"_parent\"><img src=\"https://colab.research.google.com/assets/colab-badge.svg\" alt=\"Open In Colab\"/></a>"
      ]
    },
    {
      "cell_type": "markdown",
      "metadata": {
        "id": "cRasipIEqUke"
      },
      "source": [
        "**Importing Tensor Flow and helper libraries**"
      ]
    },
    {
      "cell_type": "code",
      "metadata": {
        "id": "hoBes0KOCQaZ",
        "outputId": "6d784d38-7383-48b8-e3ae-6a7b96b74850",
        "colab": {
          "base_uri": "https://localhost:8080/",
          "height": 34
        }
      },
      "source": [
        "# TensorFlow and tf.keras\n",
        "import tensorflow as tf\n",
        "\n",
        "# Helper libraries\n",
        "import numpy as np\n",
        "import pandas as pd\n",
        "import matplotlib.pyplot as plt\n",
        "\n",
        "print(tf.__version__)"
      ],
      "execution_count": 2,
      "outputs": [
        {
          "output_type": "stream",
          "text": [
            "2.3.0\n"
          ],
          "name": "stdout"
        }
      ]
    },
    {
      "cell_type": "markdown",
      "metadata": {
        "id": "7LiZAsBmqd2j"
      },
      "source": [
        "**Training and Test Dataset**"
      ]
    },
    {
      "cell_type": "code",
      "metadata": {
        "id": "k4MGSofYCaI0"
      },
      "source": [
        "train_df = pd.read_csv(\"https://download.mlcc.google.com/mledu-datasets/california_housing_train.csv\")\n",
        "#shuffle the training dataset\n",
        "train_df = train_df.reindex(np.random.permutation(train_df.index))\n",
        "\n",
        "test_df = pd.read_csv(\"https://download.mlcc.google.com/mledu-datasets/california_housing_test.csv\")\n"
      ],
      "execution_count": 3,
      "outputs": []
    },
    {
      "cell_type": "markdown",
      "metadata": {
        "id": "o0Sy-qa5qjzK"
      },
      "source": [
        "**Normalize Values**"
      ]
    },
    {
      "cell_type": "code",
      "metadata": {
        "id": "GkDQgbS3CsLo",
        "outputId": "a5428a61-71c0-48a6-9e13-c0465c01e995",
        "colab": {
          "base_uri": "https://localhost:8080/",
          "height": 206
        }
      },
      "source": [
        "#Normalize the train_df\n",
        "train_df_mean = train_df.mean()\n",
        "train_df_std = train_df.std()\n",
        "\n",
        "train_df_norm = (train_df-train_df_mean)/train_df_std\n",
        "\n",
        "train_df_norm.head()"
      ],
      "execution_count": 4,
      "outputs": [
        {
          "output_type": "execute_result",
          "data": {
            "text/html": [
              "<div>\n",
              "<style scoped>\n",
              "    .dataframe tbody tr th:only-of-type {\n",
              "        vertical-align: middle;\n",
              "    }\n",
              "\n",
              "    .dataframe tbody tr th {\n",
              "        vertical-align: top;\n",
              "    }\n",
              "\n",
              "    .dataframe thead th {\n",
              "        text-align: right;\n",
              "    }\n",
              "</style>\n",
              "<table border=\"1\" class=\"dataframe\">\n",
              "  <thead>\n",
              "    <tr style=\"text-align: right;\">\n",
              "      <th></th>\n",
              "      <th>longitude</th>\n",
              "      <th>latitude</th>\n",
              "      <th>housing_median_age</th>\n",
              "      <th>total_rooms</th>\n",
              "      <th>total_bedrooms</th>\n",
              "      <th>population</th>\n",
              "      <th>households</th>\n",
              "      <th>median_income</th>\n",
              "      <th>median_house_value</th>\n",
              "    </tr>\n",
              "  </thead>\n",
              "  <tbody>\n",
              "    <tr>\n",
              "      <th>15032</th>\n",
              "      <td>-1.340483</td>\n",
              "      <td>1.059623</td>\n",
              "      <td>1.065442</td>\n",
              "      <td>0.100615</td>\n",
              "      <td>-0.188401</td>\n",
              "      <td>-0.347234</td>\n",
              "      <td>-0.138411</td>\n",
              "      <td>1.483223</td>\n",
              "      <td>1.390704</td>\n",
              "    </tr>\n",
              "    <tr>\n",
              "      <th>10733</th>\n",
              "      <td>-0.537557</td>\n",
              "      <td>-0.222344</td>\n",
              "      <td>-1.715219</td>\n",
              "      <td>2.421314</td>\n",
              "      <td>2.141377</td>\n",
              "      <td>1.248789</td>\n",
              "      <td>1.809468</td>\n",
              "      <td>0.505945</td>\n",
              "      <td>0.583695</td>\n",
              "    </tr>\n",
              "    <tr>\n",
              "      <th>4905</th>\n",
              "      <td>0.729171</td>\n",
              "      <td>-0.802504</td>\n",
              "      <td>0.906547</td>\n",
              "      <td>-0.977393</td>\n",
              "      <td>-1.042494</td>\n",
              "      <td>-0.897827</td>\n",
              "      <td>-1.046034</td>\n",
              "      <td>0.519571</td>\n",
              "      <td>-0.342297</td>\n",
              "    </tr>\n",
              "    <tr>\n",
              "      <th>2720</th>\n",
              "      <td>0.933642</td>\n",
              "      <td>-0.737002</td>\n",
              "      <td>-1.476877</td>\n",
              "      <td>-0.352607</td>\n",
              "      <td>-0.411414</td>\n",
              "      <td>-0.326326</td>\n",
              "      <td>-0.359465</td>\n",
              "      <td>0.232068</td>\n",
              "      <td>-0.675965</td>\n",
              "    </tr>\n",
              "    <tr>\n",
              "      <th>3880</th>\n",
              "      <td>0.803977</td>\n",
              "      <td>-0.849292</td>\n",
              "      <td>0.350415</td>\n",
              "      <td>-0.421875</td>\n",
              "      <td>-0.589350</td>\n",
              "      <td>-0.423899</td>\n",
              "      <td>-0.562315</td>\n",
              "      <td>0.646919</td>\n",
              "      <td>-0.104333</td>\n",
              "    </tr>\n",
              "  </tbody>\n",
              "</table>\n",
              "</div>"
            ],
            "text/plain": [
              "       longitude  latitude  ...  median_income  median_house_value\n",
              "15032  -1.340483  1.059623  ...       1.483223            1.390704\n",
              "10733  -0.537557 -0.222344  ...       0.505945            0.583695\n",
              "4905    0.729171 -0.802504  ...       0.519571           -0.342297\n",
              "2720    0.933642 -0.737002  ...       0.232068           -0.675965\n",
              "3880    0.803977 -0.849292  ...       0.646919           -0.104333\n",
              "\n",
              "[5 rows x 9 columns]"
            ]
          },
          "metadata": {
            "tags": []
          },
          "execution_count": 4
        }
      ]
    },
    {
      "cell_type": "code",
      "metadata": {
        "id": "IPvlr2m4Cvu6"
      },
      "source": [
        "#normalize test_df\n",
        "test_df_mean = test_df.mean()\n",
        "test_df_std = test_df.std()\n",
        "\n",
        "test_df_norm = (test_df-test_df_mean)/test_df_std"
      ],
      "execution_count": 5,
      "outputs": []
    },
    {
      "cell_type": "markdown",
      "metadata": {
        "id": "arI6nXqFqsFe"
      },
      "source": [
        "**Represent Data**"
      ]
    },
    {
      "cell_type": "code",
      "metadata": {
        "id": "JdBwJ6L2CzhB"
      },
      "source": [
        "# Create an empty list that will hold all feature columns\n",
        "feature_columns = []\n",
        "resolution_in_Zs = 0.3 # 3/10\n",
        "# Create a bucket feature column for latitude.\n",
        "latitude_as_a_numeric_column = tf.feature_column.numeric_column(\"latitude\")\n",
        "latitude_boundaries = list(np.arange(int(min(train_df_norm['latitude'])), \n",
        "                                     int(max(train_df_norm['latitude'])), \n",
        "                                     resolution_in_Zs))\n",
        "latitude = tf.feature_column.bucketized_column(latitude_as_a_numeric_column, latitude_boundaries)\n",
        "\n",
        "\n",
        "# Create a bucket feature column for longitude\n",
        "longitude_as_a_numeric_column = tf.feature_column.numeric_column(\"longitude\")\n",
        "longitude_boundaries = list(np.arange(int(min(train_df_norm[\"longitude\"])),\n",
        "                                     int(max(train_df_norm[\"longitude\"])),\n",
        "                                     resolution_in_Zs))\n",
        "longitude = tf.feature_column.bucketized_column(longitude_as_a_numeric_column,longitude_boundaries)\n",
        "\n",
        "#Create a feature cross of latitude and longitude\n",
        "latitude_X_longitude = tf.feature_column.crossed_column([latitude,longitude], hash_bucket_size = 100)\n",
        "crossed_feature = tf.feature_column.indicator_column(latitude_X_longitude)\n",
        "feature_columns.append(crossed_feature)\n",
        "\n",
        "# Represent median_income as a floating-point value.\n",
        "median_income = tf.feature_column.numeric_column(\"median_income\")\n",
        "feature_columns.append(median_income)\n",
        "\n",
        "# Represent population as a floating-point value.\n",
        "population = tf.feature_column.numeric_column(\"population\")\n",
        "feature_columns.append(population)\n",
        "\n",
        "# Convert the list of feature columns into a layer that will later be fed into\n",
        "# the model.\n",
        "my_feature_layer = tf.keras.layers.DenseFeatures(feature_columns)"
      ],
      "execution_count": 8,
      "outputs": []
    },
    {
      "cell_type": "markdown",
      "metadata": {
        "id": "Hprwtnv-rLaE"
      },
      "source": [
        "**Plotting**"
      ]
    },
    {
      "cell_type": "code",
      "metadata": {
        "id": "Ykaypbl5PQ7I"
      },
      "source": [
        "def plot_the_loss_curve(epochs, mse):\n",
        "  plt.figure()\n",
        "  plt.xlabel(\"Epoch\")\n",
        "  plt.ylabel(\"Mean Squared Error\")\n",
        "  plt.plot(epochs,mse, label=\"Loss\")\n",
        "  plt.legend()\n",
        "  \n",
        "  plt.show()\n",
        "  return"
      ],
      "execution_count": 9,
      "outputs": []
    },
    {
      "cell_type": "markdown",
      "metadata": {
        "id": "1MResDypqMt1"
      },
      "source": [
        "***Linear Model***"
      ]
    },
    {
      "cell_type": "code",
      "metadata": {
        "id": "mKpzc5qbYK8P"
      },
      "source": [
        "# Linear model\n",
        "def create_model(my_learning_rate, feature_layer):\n",
        "  \"\"\"Create and compile a simple linear regression model.\"\"\"\n",
        "  # Most simple tf.keras models are sequential.\n",
        "  model = tf.keras.models.Sequential()\n",
        "\n",
        "  # Add the layer containing the feature columns to the model.\n",
        "  model.add(feature_layer)\n",
        "\n",
        "  # Add one linear layer to the model to yield a simple linear regressor.\n",
        "  model.add(tf.keras.layers.Dense(units=1, input_shape=(1,)))\n",
        "\n",
        "  # Construct the layers into a model that TensorFlow can execute.\n",
        "  model.compile(optimizer=tf.keras.optimizers.RMSprop(lr=my_learning_rate),\n",
        "                loss=\"mean_squared_error\",\n",
        "                metrics=[tf.keras.metrics.MeanSquaredError()])\n",
        "\n",
        "  return model           \n",
        "\n",
        "\n",
        "def train_model(model, dataset, epochs, batch_size, label_name):\n",
        "  \"\"\"Feed a dataset into the model in order to train it.\"\"\"\n",
        "\n",
        "  # Split the dataset into features and label.\n",
        "  features = {name:np.array(value) for name, value in dataset.items()}\n",
        "  label = np.array(features.pop(label_name))\n",
        "  history = model.fit(x=features, y=label, batch_size=batch_size,\n",
        "                      epochs=epochs, shuffle=True)\n",
        "\n",
        "  # Get details that will be useful for plotting the loss curve.\n",
        "  epochs = history.epoch\n",
        "  hist = pd.DataFrame(history.history)\n",
        "  rmse = hist[\"mean_squared_error\"]\n",
        "\n",
        "  return epochs, rmse   \n",
        "\n",
        "#print(\"Defined the create_model and train_model functions.\")"
      ],
      "execution_count": 10,
      "outputs": []
    },
    {
      "cell_type": "code",
      "metadata": {
        "id": "LbxTcHFaokXn",
        "outputId": "ea4538be-8d36-4a8e-909a-e34d2a52d697",
        "colab": {
          "base_uri": "https://localhost:8080/",
          "height": 994
        }
      },
      "source": [
        "# The following variables are the hyperparameters.\n",
        "learning_rate = 0.01\n",
        "epochs = 15\n",
        "batch_size = 1000\n",
        "label_name = \"median_house_value\"\n",
        "\n",
        "# Establish the model's topography.\n",
        "my_model = create_model(learning_rate, my_feature_layer)\n",
        "\n",
        "# Train the model on the normalized training set. We're passing the entire\n",
        "# normalized training set, but the model will only use the features\n",
        "# defined by the feature_layer.\n",
        "\n",
        "epochs, mse = train_model(my_model, train_df_norm, epochs, batch_size, label_name)\n",
        "plot_the_loss_curve(epochs, mse)\n",
        "test_features = {name:np.array(value) for name, value in test_df_norm.items()}\n",
        "test_label = np.array(test_features.pop(label_name)) # isolate the label\n",
        "print(\"\\n Evaluate the linear regression model against the test set:\")\n",
        "linear_mse = my_model.evaluate(x = test_features, y = test_label, batch_size=batch_size)\n",
        "print(linear_mse)"
      ],
      "execution_count": 14,
      "outputs": [
        {
          "output_type": "stream",
          "text": [
            "Epoch 1/15\n",
            "WARNING:tensorflow:Layers in a Sequential model should only have a single input tensor, but we receive a <class 'dict'> input: {'longitude': <tf.Tensor 'ExpandDims_3:0' shape=(1000, 1) dtype=float32>, 'latitude': <tf.Tensor 'ExpandDims_2:0' shape=(1000, 1) dtype=float32>, 'housing_median_age': <tf.Tensor 'ExpandDims_1:0' shape=(1000, 1) dtype=float32>, 'total_rooms': <tf.Tensor 'ExpandDims_7:0' shape=(1000, 1) dtype=float32>, 'total_bedrooms': <tf.Tensor 'ExpandDims_6:0' shape=(1000, 1) dtype=float32>, 'population': <tf.Tensor 'ExpandDims_5:0' shape=(1000, 1) dtype=float32>, 'households': <tf.Tensor 'ExpandDims:0' shape=(1000, 1) dtype=float32>, 'median_income': <tf.Tensor 'ExpandDims_4:0' shape=(1000, 1) dtype=float32>}\n",
            "Consider rewriting this model with the Functional API.\n",
            "WARNING:tensorflow:Layers in a Sequential model should only have a single input tensor, but we receive a <class 'dict'> input: {'longitude': <tf.Tensor 'ExpandDims_3:0' shape=(1000, 1) dtype=float32>, 'latitude': <tf.Tensor 'ExpandDims_2:0' shape=(1000, 1) dtype=float32>, 'housing_median_age': <tf.Tensor 'ExpandDims_1:0' shape=(1000, 1) dtype=float32>, 'total_rooms': <tf.Tensor 'ExpandDims_7:0' shape=(1000, 1) dtype=float32>, 'total_bedrooms': <tf.Tensor 'ExpandDims_6:0' shape=(1000, 1) dtype=float32>, 'population': <tf.Tensor 'ExpandDims_5:0' shape=(1000, 1) dtype=float32>, 'households': <tf.Tensor 'ExpandDims:0' shape=(1000, 1) dtype=float32>, 'median_income': <tf.Tensor 'ExpandDims_4:0' shape=(1000, 1) dtype=float32>}\n",
            "Consider rewriting this model with the Functional API.\n",
            "17/17 [==============================] - 0s 2ms/step - loss: 1.0013 - mean_squared_error: 1.0013\n",
            "Epoch 2/15\n",
            "17/17 [==============================] - 0s 2ms/step - loss: 0.6798 - mean_squared_error: 0.6798\n",
            "Epoch 3/15\n",
            "17/17 [==============================] - 0s 2ms/step - loss: 0.5129 - mean_squared_error: 0.5129\n",
            "Epoch 4/15\n",
            "17/17 [==============================] - 0s 2ms/step - loss: 0.4202 - mean_squared_error: 0.4202\n",
            "Epoch 5/15\n",
            "17/17 [==============================] - 0s 2ms/step - loss: 0.3771 - mean_squared_error: 0.3771\n",
            "Epoch 6/15\n",
            "17/17 [==============================] - 0s 2ms/step - loss: 0.3630 - mean_squared_error: 0.3630\n",
            "Epoch 7/15\n",
            "17/17 [==============================] - 0s 2ms/step - loss: 0.3606 - mean_squared_error: 0.3606\n",
            "Epoch 8/15\n",
            "17/17 [==============================] - 0s 2ms/step - loss: 0.3603 - mean_squared_error: 0.3603\n",
            "Epoch 9/15\n",
            "17/17 [==============================] - 0s 2ms/step - loss: 0.3603 - mean_squared_error: 0.3603\n",
            "Epoch 10/15\n",
            "17/17 [==============================] - 0s 2ms/step - loss: 0.3601 - mean_squared_error: 0.3601\n",
            "Epoch 11/15\n",
            "17/17 [==============================] - 0s 2ms/step - loss: 0.3597 - mean_squared_error: 0.3597\n",
            "Epoch 12/15\n",
            "17/17 [==============================] - 0s 2ms/step - loss: 0.3599 - mean_squared_error: 0.3599\n",
            "Epoch 13/15\n",
            "17/17 [==============================] - 0s 2ms/step - loss: 0.3599 - mean_squared_error: 0.3599\n",
            "Epoch 14/15\n",
            "17/17 [==============================] - 0s 2ms/step - loss: 0.3600 - mean_squared_error: 0.3600\n",
            "Epoch 15/15\n",
            "17/17 [==============================] - 0s 2ms/step - loss: 0.3597 - mean_squared_error: 0.3597\n"
          ],
          "name": "stdout"
        },
        {
          "output_type": "display_data",
          "data": {
            "image/png": "[encoded data removed]",
            "text/plain": [
              "<Figure size 432x288 with 1 Axes>"
            ]
          },
          "metadata": {
            "tags": [],
            "needs_background": "light"
          }
        },
        {
          "output_type": "stream",
          "text": [
            "\n",
            " Evaluate the linear regression model against the test set:\n",
            "WARNING:tensorflow:Layers in a Sequential model should only have a single input tensor, but we receive a <class 'dict'> input: {'longitude': <tf.Tensor 'ExpandDims_3:0' shape=(1000, 1) dtype=float32>, 'latitude': <tf.Tensor 'ExpandDims_2:0' shape=(1000, 1) dtype=float32>, 'housing_median_age': <tf.Tensor 'ExpandDims_1:0' shape=(1000, 1) dtype=float32>, 'total_rooms': <tf.Tensor 'ExpandDims_7:0' shape=(1000, 1) dtype=float32>, 'total_bedrooms': <tf.Tensor 'ExpandDims_6:0' shape=(1000, 1) dtype=float32>, 'population': <tf.Tensor 'ExpandDims_5:0' shape=(1000, 1) dtype=float32>, 'households': <tf.Tensor 'ExpandDims:0' shape=(1000, 1) dtype=float32>, 'median_income': <tf.Tensor 'ExpandDims_4:0' shape=(1000, 1) dtype=float32>}\n",
            "Consider rewriting this model with the Functional API.\n",
            "3/3 [==============================] - 0s 5ms/step - loss: 0.3955 - mean_squared_error: 0.3955\n",
            "[0.39549970626831055, 0.39549970626831055]\n"
          ],
          "name": "stdout"
        }
      ]
    },
    {
      "cell_type": "markdown",
      "metadata": {
        "id": "lWqNzgYQsDaQ"
      },
      "source": [
        "**Deep neural net model**"
      ]
    },
    {
      "cell_type": "code",
      "metadata": {
        "id": "GBXkf1X1C3xm"
      },
      "source": [
        "def create_model(my_learning_rate, my_feature_layer):\n",
        "  model = tf.keras.models.Sequential()\n",
        "  model.add(my_feature_layer)\n",
        "  # Define the first hidden layer with 20 nodes.   \n",
        "  model.add(tf.keras.layers.Dense(units=20, \n",
        "                                  activation='relu', \n",
        "                                  name='Hidden1'))\n",
        "   # Define the second hidden layer with 12 nodes.\n",
        "  model.add(tf.keras.layers.Dense(units=12, \n",
        "                                  activation='relu', \n",
        "                                  name='Hidden2'))\n",
        "   # Define the output layer.\n",
        "  model.add(tf.keras.layers.Dense(units=1, name='Output'))\n",
        "\n",
        "  model.compile(optimizer=tf.keras.optimizers.Adam(learning_rate=my_learning_rate),\n",
        "                 loss=\"mean_squared_error\",\n",
        "                 metrics=[tf.keras.metrics.MeanSquaredError()])\n",
        "  return model\n",
        "\n",
        "   "
      ],
      "execution_count": 15,
      "outputs": []
    },
    {
      "cell_type": "code",
      "metadata": {
        "id": "7TnFa1vHCHsG"
      },
      "source": [
        "def train_model(model, dataset, epochs, label_name, batch_size=None):\n",
        "  # Split the dataset into features and label.\n",
        "  features = {name:np.array(value) for name, value in dataset.items()}\n",
        "  label = np.array(features.pop(label_name))\n",
        "  history = model.fit(x=features, y=label, batch_size=batch_size,\n",
        "                      epochs=epochs, shuffle = True)\n",
        "  # The list of epochs is stored separately from the rest of history.\n",
        "  epochs = history.epoch\n",
        "  # To track the progression of training, gather a snapshot\n",
        "  # of the model's mean squared error at each epoch. \n",
        "  hist = pd.DataFrame(history.history)\n",
        "  \n",
        "  mse = hist[\"mean_squared_error\"]\n",
        "\n",
        "  return epochs, mse\n",
        "\n",
        "  \n"
      ],
      "execution_count": 16,
      "outputs": []
    },
    {
      "cell_type": "code",
      "metadata": {
        "id": "CH5ze9FdD_jy",
        "outputId": "28c86113-950f-49e9-c7c3-112633088e09",
        "colab": {
          "base_uri": "https://localhost:8080/",
          "height": 1000
        }
      },
      "source": [
        "# The following variables are the hyperparameters.\n",
        "learning_rate = 0.01\n",
        "epochs = 20\n",
        "batch_size = 1000\n",
        "# Specify the label\n",
        "label_name = \"median_house_value\"\n",
        "\n",
        "# Establish the model's topography.\n",
        "my_model = create_model(learning_rate, my_feature_layer)\n",
        "\n",
        "# Train the model on the normalized training set. We're passing the entire\n",
        "# normalized training set, but the model will only use the features\n",
        "# defined by the feature_layer.\n",
        "epochs, mse  = train_model(my_model, train_df_norm, epochs, \n",
        "                          label_name, batch_size)\n",
        "plot_the_loss_curve(epochs, mse)\n",
        "\n",
        "# After building a model against the training set, test that model\n",
        "# against the test set.\n",
        "test_features = {name:np.array(value) for name, value in test_df_norm.items()}\n",
        "test_label = np.array(test_features.pop(label_name)) # isolate the label\n",
        "print(\"\\n Evaluate the new model against the test set:\")\n",
        "nn_mse = my_model.evaluate(x = test_features, y = test_label, batch_size=batch_size)\n",
        "print(\"linear mse:\" ,linear_mse)\n",
        "print(\"neural net mse:\", nn_mse)\n"
      ],
      "execution_count": 18,
      "outputs": [
        {
          "output_type": "stream",
          "text": [
            "Epoch 1/20\n",
            "WARNING:tensorflow:Layers in a Sequential model should only have a single input tensor, but we receive a <class 'dict'> input: {'longitude': <tf.Tensor 'ExpandDims_3:0' shape=(1000, 1) dtype=float32>, 'latitude': <tf.Tensor 'ExpandDims_2:0' shape=(1000, 1) dtype=float32>, 'housing_median_age': <tf.Tensor 'ExpandDims_1:0' shape=(1000, 1) dtype=float32>, 'total_rooms': <tf.Tensor 'ExpandDims_7:0' shape=(1000, 1) dtype=float32>, 'total_bedrooms': <tf.Tensor 'ExpandDims_6:0' shape=(1000, 1) dtype=float32>, 'population': <tf.Tensor 'ExpandDims_5:0' shape=(1000, 1) dtype=float32>, 'households': <tf.Tensor 'ExpandDims:0' shape=(1000, 1) dtype=float32>, 'median_income': <tf.Tensor 'ExpandDims_4:0' shape=(1000, 1) dtype=float32>}\n",
            "Consider rewriting this model with the Functional API.\n",
            "WARNING:tensorflow:Layers in a Sequential model should only have a single input tensor, but we receive a <class 'dict'> input: {'longitude': <tf.Tensor 'ExpandDims_3:0' shape=(1000, 1) dtype=float32>, 'latitude': <tf.Tensor 'ExpandDims_2:0' shape=(1000, 1) dtype=float32>, 'housing_median_age': <tf.Tensor 'ExpandDims_1:0' shape=(1000, 1) dtype=float32>, 'total_rooms': <tf.Tensor 'ExpandDims_7:0' shape=(1000, 1) dtype=float32>, 'total_bedrooms': <tf.Tensor 'ExpandDims_6:0' shape=(1000, 1) dtype=float32>, 'population': <tf.Tensor 'ExpandDims_5:0' shape=(1000, 1) dtype=float32>, 'households': <tf.Tensor 'ExpandDims:0' shape=(1000, 1) dtype=float32>, 'median_income': <tf.Tensor 'ExpandDims_4:0' shape=(1000, 1) dtype=float32>}\n",
            "Consider rewriting this model with the Functional API.\n",
            "17/17 [==============================] - 0s 3ms/step - loss: 0.6086 - mean_squared_error: 0.6086\n",
            "Epoch 2/20\n",
            "17/17 [==============================] - 0s 3ms/step - loss: 0.3671 - mean_squared_error: 0.3671\n",
            "Epoch 3/20\n",
            "17/17 [==============================] - 0s 3ms/step - loss: 0.3440 - mean_squared_error: 0.3440\n",
            "Epoch 4/20\n",
            "17/17 [==============================] - 0s 3ms/step - loss: 0.3379 - mean_squared_error: 0.3379\n",
            "Epoch 5/20\n",
            "17/17 [==============================] - 0s 3ms/step - loss: 0.3345 - mean_squared_error: 0.3345\n",
            "Epoch 6/20\n",
            "17/17 [==============================] - 0s 3ms/step - loss: 0.3317 - mean_squared_error: 0.3317\n",
            "Epoch 7/20\n",
            "17/17 [==============================] - 0s 3ms/step - loss: 0.3318 - mean_squared_error: 0.3318\n",
            "Epoch 8/20\n",
            "17/17 [==============================] - 0s 3ms/step - loss: 0.3300 - mean_squared_error: 0.3300\n",
            "Epoch 9/20\n",
            "17/17 [==============================] - 0s 3ms/step - loss: 0.3274 - mean_squared_error: 0.3274\n",
            "Epoch 10/20\n",
            "17/17 [==============================] - 0s 3ms/step - loss: 0.3264 - mean_squared_error: 0.3264\n",
            "Epoch 11/20\n",
            "17/17 [==============================] - 0s 3ms/step - loss: 0.3261 - mean_squared_error: 0.3261\n",
            "Epoch 12/20\n",
            "17/17 [==============================] - 0s 3ms/step - loss: 0.3252 - mean_squared_error: 0.3252\n",
            "Epoch 13/20\n",
            "17/17 [==============================] - 0s 3ms/step - loss: 0.3252 - mean_squared_error: 0.3252\n",
            "Epoch 14/20\n",
            "17/17 [==============================] - 0s 3ms/step - loss: 0.3248 - mean_squared_error: 0.3248\n",
            "Epoch 15/20\n",
            "17/17 [==============================] - 0s 3ms/step - loss: 0.3232 - mean_squared_error: 0.3232\n",
            "Epoch 16/20\n",
            "17/17 [==============================] - 0s 3ms/step - loss: 0.3243 - mean_squared_error: 0.3243\n",
            "Epoch 17/20\n",
            "17/17 [==============================] - 0s 3ms/step - loss: 0.3241 - mean_squared_error: 0.3241\n",
            "Epoch 18/20\n",
            "17/17 [==============================] - 0s 3ms/step - loss: 0.3235 - mean_squared_error: 0.3235\n",
            "Epoch 19/20\n",
            "17/17 [==============================] - 0s 3ms/step - loss: 0.3221 - mean_squared_error: 0.3221\n",
            "Epoch 20/20\n",
            "17/17 [==============================] - 0s 3ms/step - loss: 0.3234 - mean_squared_error: 0.3234\n"
          ],
          "name": "stdout"
        },
        {
          "output_type": "display_data",
          "data": {
            "image/png": "[encoded data removed]",
            "text/plain": [
              "<Figure size 432x288 with 1 Axes>"
            ]
          },
          "metadata": {
            "tags": [],
            "needs_background": "light"
          }
        },
        {
          "output_type": "stream",
          "text": [
            "\n",
            " Evaluate the new model against the test set:\n",
            "WARNING:tensorflow:Layers in a Sequential model should only have a single input tensor, but we receive a <class 'dict'> input: {'longitude': <tf.Tensor 'ExpandDims_3:0' shape=(1000, 1) dtype=float32>, 'latitude': <tf.Tensor 'ExpandDims_2:0' shape=(1000, 1) dtype=float32>, 'housing_median_age': <tf.Tensor 'ExpandDims_1:0' shape=(1000, 1) dtype=float32>, 'total_rooms': <tf.Tensor 'ExpandDims_7:0' shape=(1000, 1) dtype=float32>, 'total_bedrooms': <tf.Tensor 'ExpandDims_6:0' shape=(1000, 1) dtype=float32>, 'population': <tf.Tensor 'ExpandDims_5:0' shape=(1000, 1) dtype=float32>, 'households': <tf.Tensor 'ExpandDims:0' shape=(1000, 1) dtype=float32>, 'median_income': <tf.Tensor 'ExpandDims_4:0' shape=(1000, 1) dtype=float32>}\n",
            "Consider rewriting this model with the Functional API.\n",
            "WARNING:tensorflow:5 out of the last 13 calls to <function Model.make_test_function.<locals>.test_function at 0x7f3f463659d8> triggered tf.function retracing. Tracing is expensive and the excessive number of tracings could be due to (1) creating @tf.function repeatedly in a loop, (2) passing tensors with different shapes, (3) passing Python objects instead of tensors. For (1), please define your @tf.function outside of the loop. For (2), @tf.function has experimental_relax_shapes=True option that relaxes argument shapes that can avoid unnecessary retracing. For (3), please refer to https://www.tensorflow.org/tutorials/customization/performance#python_or_tensor_args and https://www.tensorflow.org/api_docs/python/tf/function for  more details.\n",
            "3/3 [==============================] - 0s 3ms/step - loss: 0.3662 - mean_squared_error: 0.3662\n",
            "linear mse: [0.39549970626831055, 0.39549970626831055]\n",
            "neural net mse: [0.36623239517211914, 0.36623239517211914]\n"
          ],
          "name": "stdout"
        }
      ]
    },
    {
      "cell_type": "markdown",
      "metadata": {
        "id": "FKqkKWdLw-Zo"
      },
      "source": [
        "***Optimize the deep neural network's topography***"
      ]
    },
    {
      "cell_type": "code",
      "metadata": {
        "id": "i7UkXKqbMXDD"
      },
      "source": [
        "def create_model(my_learning_rate, my_feature_layer):\n",
        "  model = tf.keras.models.Sequential()\n",
        "  model.add(my_feature_layer)\n",
        "  # Define the first hidden layer with 20 nodes.   \n",
        "  model.add(tf.keras.layers.Dense(units=20, \n",
        "                                  activation='relu', \n",
        "                                  name='Hidden1'))\n",
        "   # Define the second hidden layer with 10 nodes.\n",
        "  model.add(tf.keras.layers.Dense(units=10, \n",
        "                                  activation='relu', \n",
        "                                  name='Hidden2'))\n",
        "   # Define the output layer.\n",
        "  model.add(tf.keras.layers.Dense(units=1, name='Output'))\n",
        "\n",
        "  model.compile(optimizer=tf.keras.optimizers.Adam(learning_rate=my_learning_rate),\n",
        "                 loss=\"mean_squared_error\",\n",
        "                 metrics=[tf.keras.metrics.MeanSquaredError()])\n",
        "  return model\n"
      ],
      "execution_count": 66,
      "outputs": []
    },
    {
      "cell_type": "code",
      "metadata": {
        "id": "LstEbykoMw2C",
        "outputId": "975a0275-6184-479c-aa7a-3b37a5f0bbcc",
        "colab": {
          "base_uri": "https://localhost:8080/",
          "height": 1000
        }
      },
      "source": [
        "# The following variables are the hyperparameters.\n",
        "learning_rate = 0.01\n",
        "epochs = 20\n",
        "batch_size = 1000\n",
        "# Specify the label\n",
        "label_name = \"median_house_value\"\n",
        "\n",
        "# Establish the model's topography.\n",
        "my_model = create_model(learning_rate, my_feature_layer)\n",
        "\n",
        "# Train the model on the normalized training set. We're passing the entire\n",
        "# normalized training set, but the model will only use the features\n",
        "# defined by the feature_layer.\n",
        "epochs, mse  = train_model(my_model, train_df_norm, epochs, \n",
        "                          label_name, batch_size)\n",
        "plot_the_loss_curve(epochs, mse)\n",
        "\n",
        "# After building a model against the training set, test that model\n",
        "# against the test set.\n",
        "test_features = {name:np.array(value) for name, value in test_df_norm.items()}\n",
        "test_label = np.array(test_features.pop(label_name)) # isolate the label\n",
        "print(\"\\n Evaluate the new model against the test set:\")\n",
        "op_nn_mse = my_model.evaluate(x = test_features, y = test_label, batch_size=batch_size)\n",
        "print(\"linear mse:\" ,linear_mse)\n",
        "print(\"neural net mse:\", nn_mse)\n",
        "print(\"Optimize neural net mse:\", op_nn_mse)\n"
      ],
      "execution_count": 67,
      "outputs": [
        {
          "output_type": "stream",
          "text": [
            "Epoch 1/20\n",
            "WARNING:tensorflow:Layers in a Sequential model should only have a single input tensor, but we receive a <class 'dict'> input: {'longitude': <tf.Tensor 'ExpandDims_3:0' shape=(1000, 1) dtype=float32>, 'latitude': <tf.Tensor 'ExpandDims_2:0' shape=(1000, 1) dtype=float32>, 'housing_median_age': <tf.Tensor 'ExpandDims_1:0' shape=(1000, 1) dtype=float32>, 'total_rooms': <tf.Tensor 'ExpandDims_7:0' shape=(1000, 1) dtype=float32>, 'total_bedrooms': <tf.Tensor 'ExpandDims_6:0' shape=(1000, 1) dtype=float32>, 'population': <tf.Tensor 'ExpandDims_5:0' shape=(1000, 1) dtype=float32>, 'households': <tf.Tensor 'ExpandDims:0' shape=(1000, 1) dtype=float32>, 'median_income': <tf.Tensor 'ExpandDims_4:0' shape=(1000, 1) dtype=float32>}\n",
            "Consider rewriting this model with the Functional API.\n",
            "WARNING:tensorflow:Layers in a Sequential model should only have a single input tensor, but we receive a <class 'dict'> input: {'longitude': <tf.Tensor 'ExpandDims_3:0' shape=(1000, 1) dtype=float32>, 'latitude': <tf.Tensor 'ExpandDims_2:0' shape=(1000, 1) dtype=float32>, 'housing_median_age': <tf.Tensor 'ExpandDims_1:0' shape=(1000, 1) dtype=float32>, 'total_rooms': <tf.Tensor 'ExpandDims_7:0' shape=(1000, 1) dtype=float32>, 'total_bedrooms': <tf.Tensor 'ExpandDims_6:0' shape=(1000, 1) dtype=float32>, 'population': <tf.Tensor 'ExpandDims_5:0' shape=(1000, 1) dtype=float32>, 'households': <tf.Tensor 'ExpandDims:0' shape=(1000, 1) dtype=float32>, 'median_income': <tf.Tensor 'ExpandDims_4:0' shape=(1000, 1) dtype=float32>}\n",
            "Consider rewriting this model with the Functional API.\n",
            "17/17 [==============================] - 0s 4ms/step - loss: 0.6177 - mean_squared_error: 0.6177\n",
            "Epoch 2/20\n",
            "17/17 [==============================] - 0s 3ms/step - loss: 0.3747 - mean_squared_error: 0.3747\n",
            "Epoch 3/20\n",
            "17/17 [==============================] - 0s 3ms/step - loss: 0.3465 - mean_squared_error: 0.3465\n",
            "Epoch 4/20\n",
            "17/17 [==============================] - 0s 3ms/step - loss: 0.3391 - mean_squared_error: 0.3391\n",
            "Epoch 5/20\n",
            "17/17 [==============================] - 0s 3ms/step - loss: 0.3372 - mean_squared_error: 0.3372\n",
            "Epoch 6/20\n",
            "17/17 [==============================] - 0s 3ms/step - loss: 0.3344 - mean_squared_error: 0.3344\n",
            "Epoch 7/20\n",
            "17/17 [==============================] - 0s 3ms/step - loss: 0.3346 - mean_squared_error: 0.3346\n",
            "Epoch 8/20\n",
            "17/17 [==============================] - 0s 3ms/step - loss: 0.3333 - mean_squared_error: 0.3333\n",
            "Epoch 9/20\n",
            "17/17 [==============================] - 0s 3ms/step - loss: 0.3323 - mean_squared_error: 0.3323\n",
            "Epoch 10/20\n",
            "17/17 [==============================] - 0s 3ms/step - loss: 0.3339 - mean_squared_error: 0.3339\n",
            "Epoch 11/20\n",
            "17/17 [==============================] - 0s 3ms/step - loss: 0.3318 - mean_squared_error: 0.3318\n",
            "Epoch 12/20\n",
            "17/17 [==============================] - 0s 3ms/step - loss: 0.3300 - mean_squared_error: 0.3300\n",
            "Epoch 13/20\n",
            "17/17 [==============================] - 0s 3ms/step - loss: 0.3286 - mean_squared_error: 0.3286\n",
            "Epoch 14/20\n",
            "17/17 [==============================] - 0s 3ms/step - loss: 0.3286 - mean_squared_error: 0.3286\n",
            "Epoch 15/20\n",
            "17/17 [==============================] - 0s 3ms/step - loss: 0.3300 - mean_squared_error: 0.3300\n",
            "Epoch 16/20\n",
            "17/17 [==============================] - 0s 4ms/step - loss: 0.3277 - mean_squared_error: 0.3277\n",
            "Epoch 17/20\n",
            "17/17 [==============================] - 0s 4ms/step - loss: 0.3280 - mean_squared_error: 0.3280\n",
            "Epoch 18/20\n",
            "17/17 [==============================] - 0s 3ms/step - loss: 0.3275 - mean_squared_error: 0.3275\n",
            "Epoch 19/20\n",
            "17/17 [==============================] - 0s 3ms/step - loss: 0.3273 - mean_squared_error: 0.3273\n",
            "Epoch 20/20\n",
            "17/17 [==============================] - 0s 3ms/step - loss: 0.3251 - mean_squared_error: 0.3251\n"
          ],
          "name": "stdout"
        },
        {
          "output_type": "display_data",
          "data": {
            "image/png": "[encoded data removed]",
            "text/plain": [
              "<Figure size 432x288 with 1 Axes>"
            ]
          },
          "metadata": {
            "tags": [],
            "needs_background": "light"
          }
        },
        {
          "output_type": "stream",
          "text": [
            "\n",
            " Evaluate the new model against the test set:\n",
            "WARNING:tensorflow:Layers in a Sequential model should only have a single input tensor, but we receive a <class 'dict'> input: {'longitude': <tf.Tensor 'ExpandDims_3:0' shape=(1000, 1) dtype=float32>, 'latitude': <tf.Tensor 'ExpandDims_2:0' shape=(1000, 1) dtype=float32>, 'housing_median_age': <tf.Tensor 'ExpandDims_1:0' shape=(1000, 1) dtype=float32>, 'total_rooms': <tf.Tensor 'ExpandDims_7:0' shape=(1000, 1) dtype=float32>, 'total_bedrooms': <tf.Tensor 'ExpandDims_6:0' shape=(1000, 1) dtype=float32>, 'population': <tf.Tensor 'ExpandDims_5:0' shape=(1000, 1) dtype=float32>, 'households': <tf.Tensor 'ExpandDims:0' shape=(1000, 1) dtype=float32>, 'median_income': <tf.Tensor 'ExpandDims_4:0' shape=(1000, 1) dtype=float32>}\n",
            "Consider rewriting this model with the Functional API.\n",
            "WARNING:tensorflow:5 out of the last 16 calls to <function Model.make_test_function.<locals>.test_function at 0x7f3f3f134d08> triggered tf.function retracing. Tracing is expensive and the excessive number of tracings could be due to (1) creating @tf.function repeatedly in a loop, (2) passing tensors with different shapes, (3) passing Python objects instead of tensors. For (1), please define your @tf.function outside of the loop. For (2), @tf.function has experimental_relax_shapes=True option that relaxes argument shapes that can avoid unnecessary retracing. For (3), please refer to https://www.tensorflow.org/tutorials/customization/performance#python_or_tensor_args and https://www.tensorflow.org/api_docs/python/tf/function for  more details.\n",
            "3/3 [==============================] - 0s 3ms/step - loss: 0.3659 - mean_squared_error: 0.3659\n",
            "linear mse: [0.39549970626831055, 0.39549970626831055]\n",
            "neural net mse: [0.36623239517211914, 0.36623239517211914]\n",
            "Optimize neural net mse: [0.36585304141044617, 0.36585304141044617]\n"
          ],
          "name": "stdout"
        }
      ]
    },
    {
      "cell_type": "markdown",
      "metadata": {
        "id": "dNilVkjH3ssV"
      },
      "source": [
        "**L2 regularization**"
      ]
    },
    {
      "cell_type": "code",
      "metadata": {
        "id": "eCf9_jDFMjYc"
      },
      "source": [
        "def create_model(my_learning_rate, my_feature_layer):\n",
        "  model = tf.keras.models.Sequential()\n",
        "  model.add(my_feature_layer)\n",
        "  # Define the first hidden layer with 20 nodes.   \n",
        "  model.add(tf.keras.layers.Dense(units=20, \n",
        "                                  activation='relu', \n",
        "                                  kernel_regularizer=tf.keras.regularizers.L2(l=0),\n",
        "                                  name='Hidden1'))\n",
        "\n",
        "   # Define the second hidden layer with 10 nodes.\n",
        "  model.add(tf.keras.layers.Dense(units=10, \n",
        "                                  activation='relu', \n",
        "                                  kernel_regularizer=tf.keras.regularizers.L2(l=0.1),\n",
        "                                  name='Hidden2'))\n",
        "   # Define the output layer.\n",
        "  model.add(tf.keras.layers.Dense(units=1, name='Output'))\n",
        "\n",
        "  model.compile(optimizer=tf.keras.optimizers.Adam(learning_rate=my_learning_rate),\n",
        "                 loss=\"mean_squared_error\",\n",
        "                 metrics=[tf.keras.metrics.MeanSquaredError()])\n",
        "  return model\n"
      ],
      "execution_count": 96,
      "outputs": []
    },
    {
      "cell_type": "code",
      "metadata": {
        "id": "Q0yUe19l4J02",
        "outputId": "1dab48da-ff5f-4751-8125-7e155310e066",
        "colab": {
          "base_uri": "https://localhost:8080/",
          "height": 1000
        }
      },
      "source": [
        "# The following variables are the hyperparameters.\n",
        "learning_rate = 0.01\n",
        "epochs = 20\n",
        "batch_size = 1000\n",
        "# Specify the label\n",
        "label_name = \"median_house_value\"\n",
        "\n",
        "# Establish the model's topography.\n",
        "my_model = create_model(learning_rate, my_feature_layer)\n",
        "\n",
        "# Train the model on the normalized training set. We're passing the entire\n",
        "# normalized training set, but the model will only use the features\n",
        "# defined by the feature_layer.\n",
        "epochs, mse  = train_model(my_model, train_df_norm, epochs, \n",
        "                          label_name, batch_size)\n",
        "plot_the_loss_curve(epochs, mse)\n",
        "\n",
        "# After building a model against the training set, test that model\n",
        "# against the test set.\n",
        "test_features = {name:np.array(value) for name, value in test_df_norm.items()}\n",
        "test_label = np.array(test_features.pop(label_name)) # isolate the label\n",
        "print(\"\\n Evaluate the new model against the test set:\")\n",
        "op_L2_nn_mse = my_model.evaluate(x = test_features, y = test_label, batch_size=batch_size)\n",
        "print(\"linear mse:\" ,linear_mse)\n",
        "print(\"neural net mse:\", nn_mse)\n",
        "print(\"Optimize neural net mse:\", op_nn_mse)\n",
        "print(\"L2:Optimize neural net mse:\", op_L2_nn_mse)"
      ],
      "execution_count": 97,
      "outputs": [
        {
          "output_type": "stream",
          "text": [
            "Epoch 1/20\n",
            "WARNING:tensorflow:Layers in a Sequential model should only have a single input tensor, but we receive a <class 'dict'> input: {'longitude': <tf.Tensor 'ExpandDims_3:0' shape=(1000, 1) dtype=float32>, 'latitude': <tf.Tensor 'ExpandDims_2:0' shape=(1000, 1) dtype=float32>, 'housing_median_age': <tf.Tensor 'ExpandDims_1:0' shape=(1000, 1) dtype=float32>, 'total_rooms': <tf.Tensor 'ExpandDims_7:0' shape=(1000, 1) dtype=float32>, 'total_bedrooms': <tf.Tensor 'ExpandDims_6:0' shape=(1000, 1) dtype=float32>, 'population': <tf.Tensor 'ExpandDims_5:0' shape=(1000, 1) dtype=float32>, 'households': <tf.Tensor 'ExpandDims:0' shape=(1000, 1) dtype=float32>, 'median_income': <tf.Tensor 'ExpandDims_4:0' shape=(1000, 1) dtype=float32>}\n",
            "Consider rewriting this model with the Functional API.\n",
            "WARNING:tensorflow:Layers in a Sequential model should only have a single input tensor, but we receive a <class 'dict'> input: {'longitude': <tf.Tensor 'ExpandDims_3:0' shape=(1000, 1) dtype=float32>, 'latitude': <tf.Tensor 'ExpandDims_2:0' shape=(1000, 1) dtype=float32>, 'housing_median_age': <tf.Tensor 'ExpandDims_1:0' shape=(1000, 1) dtype=float32>, 'total_rooms': <tf.Tensor 'ExpandDims_7:0' shape=(1000, 1) dtype=float32>, 'total_bedrooms': <tf.Tensor 'ExpandDims_6:0' shape=(1000, 1) dtype=float32>, 'population': <tf.Tensor 'ExpandDims_5:0' shape=(1000, 1) dtype=float32>, 'households': <tf.Tensor 'ExpandDims:0' shape=(1000, 1) dtype=float32>, 'median_income': <tf.Tensor 'ExpandDims_4:0' shape=(1000, 1) dtype=float32>}\n",
            "Consider rewriting this model with the Functional API.\n",
            "17/17 [==============================] - 0s 3ms/step - loss: 1.4150 - mean_squared_error: 0.5907\n",
            "Epoch 2/20\n",
            "17/17 [==============================] - 0s 3ms/step - loss: 0.5950 - mean_squared_error: 0.3767\n",
            "Epoch 3/20\n",
            "17/17 [==============================] - 0s 3ms/step - loss: 0.4061 - mean_squared_error: 0.3522\n",
            "Epoch 4/20\n",
            "17/17 [==============================] - 0s 3ms/step - loss: 0.3689 - mean_squared_error: 0.3445\n",
            "Epoch 5/20\n",
            "17/17 [==============================] - 0s 3ms/step - loss: 0.3582 - mean_squared_error: 0.3401\n",
            "Epoch 6/20\n",
            "17/17 [==============================] - 0s 3ms/step - loss: 0.3553 - mean_squared_error: 0.3408\n",
            "Epoch 7/20\n",
            "17/17 [==============================] - 0s 3ms/step - loss: 0.3507 - mean_squared_error: 0.3380\n",
            "Epoch 8/20\n",
            "17/17 [==============================] - 0s 3ms/step - loss: 0.3535 - mean_squared_error: 0.3423\n",
            "Epoch 9/20\n",
            "17/17 [==============================] - 0s 3ms/step - loss: 0.3484 - mean_squared_error: 0.3380\n",
            "Epoch 10/20\n",
            "17/17 [==============================] - 0s 3ms/step - loss: 0.3467 - mean_squared_error: 0.3370\n",
            "Epoch 11/20\n",
            "17/17 [==============================] - 0s 3ms/step - loss: 0.3459 - mean_squared_error: 0.3367\n",
            "Epoch 12/20\n",
            "17/17 [==============================] - 0s 3ms/step - loss: 0.3473 - mean_squared_error: 0.3386\n",
            "Epoch 13/20\n",
            "17/17 [==============================] - 0s 3ms/step - loss: 0.3448 - mean_squared_error: 0.3364\n",
            "Epoch 14/20\n",
            "17/17 [==============================] - 0s 3ms/step - loss: 0.3420 - mean_squared_error: 0.3339\n",
            "Epoch 15/20\n",
            "17/17 [==============================] - 0s 4ms/step - loss: 0.3426 - mean_squared_error: 0.3348\n",
            "Epoch 16/20\n",
            "17/17 [==============================] - 0s 3ms/step - loss: 0.3417 - mean_squared_error: 0.3343\n",
            "Epoch 17/20\n",
            "17/17 [==============================] - 0s 3ms/step - loss: 0.3407 - mean_squared_error: 0.3333\n",
            "Epoch 18/20\n",
            "17/17 [==============================] - 0s 3ms/step - loss: 0.3424 - mean_squared_error: 0.3352\n",
            "Epoch 19/20\n",
            "17/17 [==============================] - 0s 3ms/step - loss: 0.3427 - mean_squared_error: 0.3358\n",
            "Epoch 20/20\n",
            "17/17 [==============================] - 0s 3ms/step - loss: 0.3374 - mean_squared_error: 0.3305\n"
          ],
          "name": "stdout"
        },
        {
          "output_type": "display_data",
          "data": {
            "image/png": "[encoded data removed]",
            "text/plain": [
              "<Figure size 432x288 with 1 Axes>"
            ]
          },
          "metadata": {
            "tags": [],
            "needs_background": "light"
          }
        },
        {
          "output_type": "stream",
          "text": [
            "\n",
            " Evaluate the new model against the test set:\n",
            "WARNING:tensorflow:Layers in a Sequential model should only have a single input tensor, but we receive a <class 'dict'> input: {'longitude': <tf.Tensor 'ExpandDims_3:0' shape=(1000, 1) dtype=float32>, 'latitude': <tf.Tensor 'ExpandDims_2:0' shape=(1000, 1) dtype=float32>, 'housing_median_age': <tf.Tensor 'ExpandDims_1:0' shape=(1000, 1) dtype=float32>, 'total_rooms': <tf.Tensor 'ExpandDims_7:0' shape=(1000, 1) dtype=float32>, 'total_bedrooms': <tf.Tensor 'ExpandDims_6:0' shape=(1000, 1) dtype=float32>, 'population': <tf.Tensor 'ExpandDims_5:0' shape=(1000, 1) dtype=float32>, 'households': <tf.Tensor 'ExpandDims:0' shape=(1000, 1) dtype=float32>, 'median_income': <tf.Tensor 'ExpandDims_4:0' shape=(1000, 1) dtype=float32>}\n",
            "Consider rewriting this model with the Functional API.\n",
            "WARNING:tensorflow:5 out of the last 13 calls to <function Model.make_test_function.<locals>.test_function at 0x7f3f3849b7b8> triggered tf.function retracing. Tracing is expensive and the excessive number of tracings could be due to (1) creating @tf.function repeatedly in a loop, (2) passing tensors with different shapes, (3) passing Python objects instead of tensors. For (1), please define your @tf.function outside of the loop. For (2), @tf.function has experimental_relax_shapes=True option that relaxes argument shapes that can avoid unnecessary retracing. For (3), please refer to https://www.tensorflow.org/tutorials/customization/performance#python_or_tensor_args and https://www.tensorflow.org/api_docs/python/tf/function for  more details.\n",
            "3/3 [==============================] - 0s 4ms/step - loss: 0.3768 - mean_squared_error: 0.3697\n",
            "linear mse: [0.39549970626831055, 0.39549970626831055]\n",
            "neural net mse: [0.36623239517211914, 0.36623239517211914]\n",
            "Optimize neural net mse: [0.36585304141044617, 0.36585304141044617]\n",
            "L2:Optimize neural net mse: [0.3768382966518402, 0.36966273188591003]\n"
          ],
          "name": "stdout"
        }
      ]
    },
    {
      "cell_type": "markdown",
      "metadata": {
        "id": "GfmdqKzr8Dq5"
      },
      "source": [
        "**L1 Regularization**"
      ]
    },
    {
      "cell_type": "code",
      "metadata": {
        "id": "cDggmee08IUP"
      },
      "source": [
        "def create_model(my_learning_rate, my_feature_layer):\n",
        "  model = tf.keras.models.Sequential()\n",
        "  model.add(my_feature_layer)\n",
        "  # Define the first hidden layer with 20 nodes.   \n",
        "  model.add(tf.keras.layers.Dense(units=20, \n",
        "                                  activation= 'relu', \n",
        "                                  kernel_regularizer=tf.keras.regularizers.L1(l=0),\n",
        "                                  name='Hidden1'))\n",
        "\n",
        "   # Define the second hidden layer with 10 nodes.\n",
        "  model.add(tf.keras.layers.Dense(units=10, \n",
        "                                  activation='relu', \n",
        "                                  kernel_regularizer=tf.keras.regularizers.L1(l=0),\n",
        "                                  name='Hidden2'))\n",
        "   # Define the output layer.\n",
        "  model.add(tf.keras.layers.Dense(units=1, name='Output'))\n",
        "\n",
        "  model.compile(optimizer=tf.keras.optimizers.Adam(learning_rate=my_learning_rate),\n",
        "                 loss=\"mean_squared_error\",\n",
        "                 metrics=[tf.keras.metrics.MeanSquaredError()])\n",
        "  return model\n"
      ],
      "execution_count": 101,
      "outputs": []
    },
    {
      "cell_type": "code",
      "metadata": {
        "id": "E8N24GQq8ZZx",
        "outputId": "a7846b8c-e249-4bbd-c908-b41d78e618b3",
        "colab": {
          "base_uri": "https://localhost:8080/",
          "height": 1000
        }
      },
      "source": [
        "# The following variables are the hyperparameters.\n",
        "learning_rate = 0.01\n",
        "epochs = 20\n",
        "batch_size = 1000\n",
        "# Specify the label\n",
        "label_name = \"median_house_value\"\n",
        "\n",
        "# Establish the model's topography.\n",
        "my_model = create_model(learning_rate, my_feature_layer)\n",
        "\n",
        "# Train the model on the normalized training set. We're passing the entire\n",
        "# normalized training set, but the model will only use the features\n",
        "# defined by the feature_layer.\n",
        "epochs, mse  = train_model(my_model, train_df_norm, epochs, \n",
        "                          label_name, batch_size)\n",
        "plot_the_loss_curve(epochs, mse)\n",
        "\n",
        "# After building a model against the training set, test that model\n",
        "# against the test set.\n",
        "test_features = {name:np.array(value) for name, value in test_df_norm.items()}\n",
        "test_label = np.array(test_features.pop(label_name)) # isolate the label\n",
        "print(\"\\n Evaluate the new model against the test set:\")\n",
        "op_L1_nn_mse = my_model.evaluate(x = test_features, y = test_label, batch_size=batch_size)\n",
        "print(\"linear mse:\" ,linear_mse)\n",
        "print(\"neural net mse:\", nn_mse)\n",
        "print(\"Optimize neural net mse:\", op_nn_mse)\n",
        "print(\"L2:Optimize neural net mse:\", op_L2_nn_mse)\n",
        "print(\"L1:Optimize neural net mse:\", op_L1_nn_mse)"
      ],
      "execution_count": 102,
      "outputs": [
        {
          "output_type": "stream",
          "text": [
            "Epoch 1/20\n",
            "WARNING:tensorflow:Layers in a Sequential model should only have a single input tensor, but we receive a <class 'dict'> input: {'longitude': <tf.Tensor 'ExpandDims_3:0' shape=(1000, 1) dtype=float32>, 'latitude': <tf.Tensor 'ExpandDims_2:0' shape=(1000, 1) dtype=float32>, 'housing_median_age': <tf.Tensor 'ExpandDims_1:0' shape=(1000, 1) dtype=float32>, 'total_rooms': <tf.Tensor 'ExpandDims_7:0' shape=(1000, 1) dtype=float32>, 'total_bedrooms': <tf.Tensor 'ExpandDims_6:0' shape=(1000, 1) dtype=float32>, 'population': <tf.Tensor 'ExpandDims_5:0' shape=(1000, 1) dtype=float32>, 'households': <tf.Tensor 'ExpandDims:0' shape=(1000, 1) dtype=float32>, 'median_income': <tf.Tensor 'ExpandDims_4:0' shape=(1000, 1) dtype=float32>}\n",
            "Consider rewriting this model with the Functional API.\n",
            "WARNING:tensorflow:Layers in a Sequential model should only have a single input tensor, but we receive a <class 'dict'> input: {'longitude': <tf.Tensor 'ExpandDims_3:0' shape=(1000, 1) dtype=float32>, 'latitude': <tf.Tensor 'ExpandDims_2:0' shape=(1000, 1) dtype=float32>, 'housing_median_age': <tf.Tensor 'ExpandDims_1:0' shape=(1000, 1) dtype=float32>, 'total_rooms': <tf.Tensor 'ExpandDims_7:0' shape=(1000, 1) dtype=float32>, 'total_bedrooms': <tf.Tensor 'ExpandDims_6:0' shape=(1000, 1) dtype=float32>, 'population': <tf.Tensor 'ExpandDims_5:0' shape=(1000, 1) dtype=float32>, 'households': <tf.Tensor 'ExpandDims:0' shape=(1000, 1) dtype=float32>, 'median_income': <tf.Tensor 'ExpandDims_4:0' shape=(1000, 1) dtype=float32>}\n",
            "Consider rewriting this model with the Functional API.\n",
            "17/17 [==============================] - 0s 3ms/step - loss: 0.5718 - mean_squared_error: 0.5718\n",
            "Epoch 2/20\n",
            "17/17 [==============================] - 0s 3ms/step - loss: 0.3707 - mean_squared_error: 0.3707\n",
            "Epoch 3/20\n",
            "17/17 [==============================] - 0s 4ms/step - loss: 0.3441 - mean_squared_error: 0.3441\n",
            "Epoch 4/20\n",
            "17/17 [==============================] - 0s 3ms/step - loss: 0.3376 - mean_squared_error: 0.3376\n",
            "Epoch 5/20\n",
            "17/17 [==============================] - 0s 3ms/step - loss: 0.3336 - mean_squared_error: 0.3336\n",
            "Epoch 6/20\n",
            "17/17 [==============================] - 0s 3ms/step - loss: 0.3307 - mean_squared_error: 0.3307\n",
            "Epoch 7/20\n",
            "17/17 [==============================] - 0s 3ms/step - loss: 0.3295 - mean_squared_error: 0.3295\n",
            "Epoch 8/20\n",
            "17/17 [==============================] - 0s 3ms/step - loss: 0.3262 - mean_squared_error: 0.3262\n",
            "Epoch 9/20\n",
            "17/17 [==============================] - 0s 3ms/step - loss: 0.3263 - mean_squared_error: 0.3263\n",
            "Epoch 10/20\n",
            "17/17 [==============================] - 0s 3ms/step - loss: 0.3250 - mean_squared_error: 0.3250\n",
            "Epoch 11/20\n",
            "17/17 [==============================] - 0s 3ms/step - loss: 0.3245 - mean_squared_error: 0.3245\n",
            "Epoch 12/20\n",
            "17/17 [==============================] - 0s 3ms/step - loss: 0.3230 - mean_squared_error: 0.3230\n",
            "Epoch 13/20\n",
            "17/17 [==============================] - 0s 3ms/step - loss: 0.3234 - mean_squared_error: 0.3234\n",
            "Epoch 14/20\n",
            "17/17 [==============================] - 0s 3ms/step - loss: 0.3229 - mean_squared_error: 0.3229\n",
            "Epoch 15/20\n",
            "17/17 [==============================] - 0s 3ms/step - loss: 0.3243 - mean_squared_error: 0.3243\n",
            "Epoch 16/20\n",
            "17/17 [==============================] - 0s 3ms/step - loss: 0.3252 - mean_squared_error: 0.3252\n",
            "Epoch 17/20\n",
            "17/17 [==============================] - 0s 3ms/step - loss: 0.3229 - mean_squared_error: 0.3229\n",
            "Epoch 18/20\n",
            "17/17 [==============================] - 0s 3ms/step - loss: 0.3223 - mean_squared_error: 0.3223\n",
            "Epoch 19/20\n",
            "17/17 [==============================] - 0s 3ms/step - loss: 0.3209 - mean_squared_error: 0.3209\n",
            "Epoch 20/20\n",
            "17/17 [==============================] - 0s 4ms/step - loss: 0.3224 - mean_squared_error: 0.3224\n"
          ],
          "name": "stdout"
        },
        {
          "output_type": "display_data",
          "data": {
            "image/png": "[encoded data removed]",
            "text/plain": [
              "<Figure size 432x288 with 1 Axes>"
            ]
          },
          "metadata": {
            "tags": [],
            "needs_background": "light"
          }
        },
        {
          "output_type": "stream",
          "text": [
            "\n",
            " Evaluate the new model against the test set:\n",
            "WARNING:tensorflow:Layers in a Sequential model should only have a single input tensor, but we receive a <class 'dict'> input: {'longitude': <tf.Tensor 'ExpandDims_3:0' shape=(1000, 1) dtype=float32>, 'latitude': <tf.Tensor 'ExpandDims_2:0' shape=(1000, 1) dtype=float32>, 'housing_median_age': <tf.Tensor 'ExpandDims_1:0' shape=(1000, 1) dtype=float32>, 'total_rooms': <tf.Tensor 'ExpandDims_7:0' shape=(1000, 1) dtype=float32>, 'total_bedrooms': <tf.Tensor 'ExpandDims_6:0' shape=(1000, 1) dtype=float32>, 'population': <tf.Tensor 'ExpandDims_5:0' shape=(1000, 1) dtype=float32>, 'households': <tf.Tensor 'ExpandDims:0' shape=(1000, 1) dtype=float32>, 'median_income': <tf.Tensor 'ExpandDims_4:0' shape=(1000, 1) dtype=float32>}\n",
            "Consider rewriting this model with the Functional API.\n",
            "WARNING:tensorflow:5 out of the last 13 calls to <function Model.make_test_function.<locals>.test_function at 0x7f3f3d857ea0> triggered tf.function retracing. Tracing is expensive and the excessive number of tracings could be due to (1) creating @tf.function repeatedly in a loop, (2) passing tensors with different shapes, (3) passing Python objects instead of tensors. For (1), please define your @tf.function outside of the loop. For (2), @tf.function has experimental_relax_shapes=True option that relaxes argument shapes that can avoid unnecessary retracing. For (3), please refer to https://www.tensorflow.org/tutorials/customization/performance#python_or_tensor_args and https://www.tensorflow.org/api_docs/python/tf/function for  more details.\n",
            "3/3 [==============================] - 0s 3ms/step - loss: 0.3640 - mean_squared_error: 0.3640\n",
            "linear mse: [0.39549970626831055, 0.39549970626831055]\n",
            "neural net mse: [0.36623239517211914, 0.36623239517211914]\n",
            "Optimize neural net mse: [0.36585304141044617, 0.36585304141044617]\n",
            "L2:Optimize neural net mse: [0.3768382966518402, 0.36966273188591003]\n",
            "L1:Optimize neural net mse: [0.3639865219593048, 0.3639865219593048]\n"
          ],
          "name": "stdout"
        }
      ]
    }
  ]
}
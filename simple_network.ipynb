{
  "nbformat": 4,
  "nbformat_minor": 0,
  "metadata": {
    "colab": {
      "name": "simple_network.ipynb",
      "provenance": [],
      "collapsed_sections": [],
      "authorship_tag": "ABX9TyN+A0dwh6kAhp+m9MoIQ8hn",
      "include_colab_link": true
    },
    "kernelspec": {
      "name": "python3",
      "display_name": "Python 3"
    }
  },
  "cells": [
    {
      "cell_type": "markdown",
      "metadata": {
        "id": "view-in-github",
        "colab_type": "text"
      },
      "source": [
        "<a href=\"https://colab.research.google.com/github/kjcoursera/TensorFlow/blob/main/simple_network.ipynb\" target=\"_parent\"><img src=\"https://colab.research.google.com/assets/colab-badge.svg\" alt=\"Open In Colab\"/></a>"
      ]
    },
    {
      "cell_type": "code",
      "metadata": {
        "id": "2X9r7Y96QnX-"
      },
      "source": [
        "import matplotlib.pyplot as plt\n",
        "import numpy as np\n",
        "import pandas as pd\n",
        "import seaborn as sns\n",
        "\n",
        "\n",
        "# Make numpy printouts easier to read.\n",
        "np.set_printoptions(precision=3, suppress=True)"
      ],
      "execution_count": 1,
      "outputs": []
    },
    {
      "cell_type": "code",
      "metadata": {
        "id": "UGwE2pyfQu_h",
        "outputId": "2dd2de4a-6ae4-4811-da2e-52489a0186bc",
        "colab": {
          "base_uri": "https://localhost:8080/"
        }
      },
      "source": [
        "import tensorflow as tf\n",
        "\n",
        "from tensorflow import keras\n",
        "from tensorflow.keras import layers\n",
        "from tensorflow.keras.layers.experimental import preprocessing\n",
        "\n",
        "print(tf.__version__)"
      ],
      "execution_count": 2,
      "outputs": [
        {
          "output_type": "stream",
          "text": [
            "2.3.0\n"
          ],
          "name": "stdout"
        }
      ]
    },
    {
      "cell_type": "code",
      "metadata": {
        "id": "wtQZIMd9Q2kY"
      },
      "source": [
        "xs = np.array([-1, 0,1,2,3,4], dtype=float)\n",
        "ys = np.array([-3,-1,1,3,5,7], dtype=float)"
      ],
      "execution_count": 3,
      "outputs": []
    },
    {
      "cell_type": "code",
      "metadata": {
        "id": "DQ4mBWiiLbXn"
      },
      "source": [
        "model = tf.keras.Sequential()\n",
        "model.add(tf.keras.layers.Dense(units = 1, input_shape=[1]))\n",
        "model.compile(optimizer='sgd', loss='mean_squared_error')\n",
        "xs = np.array([-1, 0,1,2,3,4], dtype=float)\n",
        "ys = np.array([-3,-1,1,3,5,7], dtype=float)\n",
        "model.fit(xs,ys, epochs = 50)"
      ],
      "execution_count": null,
      "outputs": []
    },
    {
      "cell_type": "code",
      "metadata": {
        "id": "1R3pguUV5mSO",
        "outputId": "900bd981-c2d0-47ab-894f-b9737ceeecca",
        "colab": {
          "base_uri": "https://localhost:8080/"
        }
      },
      "source": [
        "print(model.predict([10.0]))"
      ],
      "execution_count": 7,
      "outputs": [
        {
          "output_type": "stream",
          "text": [
            "[[17.029]]\n"
          ],
          "name": "stdout"
        }
      ]
    },
    {
      "cell_type": "code",
      "metadata": {
        "id": "vhDk1mHn5sEo",
        "outputId": "1f485f07-47dc-4660-c583-fb479713d692",
        "colab": {
          "base_uri": "https://localhost:8080/"
        }
      },
      "source": [
        "print(model.predict([20.0]))"
      ],
      "execution_count": 8,
      "outputs": [
        {
          "output_type": "stream",
          "text": [
            "[[34.189]]\n"
          ],
          "name": "stdout"
        }
      ]
    },
    {
      "cell_type": "code",
      "metadata": {
        "id": "gNc7mb7l5Qea"
      },
      "source": [
        "def house_model(y_new):\n",
        "    xs = np.array([1.0,2.0, 3.0, 4.0], dtype = float)# Your Code Here#\n",
        "    ys = np.array([1.0,1.5,2.0,2.5], dtype = float)# Your Code Here#\n",
        "    model = keras.Sequential([keras.layers.Dense(units = 1, input_shape=[1])])# Your Code Here#\n",
        "    model.compile(optimizer = 'sgd', loss = 'mean_squared_error')\n",
        "    model.fit(xs,ys, epochs = 50)\n",
        "    return model.predict(y_new)[0]"
      ],
      "execution_count": 16,
      "outputs": []
    },
    {
      "cell_type": "code",
      "metadata": {
        "id": "Lp6CrrsX5TJE",
        "outputId": "e70f0ce1-e38d-4fb1-9ac7-453ed4ca2f8e",
        "colab": {
          "base_uri": "https://localhost:8080/"
        }
      },
      "source": [
        "prediction = house_model([7.0])\n",
        "print(prediction)"
      ],
      "execution_count": 15,
      "outputs": [
        {
          "output_type": "stream",
          "text": [
            "Epoch 1/50\n",
            "1/1 [==============================] - 0s 1ms/step - loss: 14.1254\n",
            "Epoch 2/50\n",
            "1/1 [==============================] - 0s 1ms/step - loss: 9.8016\n",
            "Epoch 3/50\n",
            "1/1 [==============================] - 0s 2ms/step - loss: 6.8015\n",
            "Epoch 4/50\n",
            "1/1 [==============================] - 0s 1ms/step - loss: 4.7197\n",
            "Epoch 5/50\n",
            "1/1 [==============================] - 0s 1ms/step - loss: 3.2752\n",
            "Epoch 6/50\n",
            "1/1 [==============================] - 0s 2ms/step - loss: 2.2729\n",
            "Epoch 7/50\n",
            "1/1 [==============================] - 0s 2ms/step - loss: 1.5775\n",
            "Epoch 8/50\n",
            "1/1 [==============================] - 0s 838us/step - loss: 1.0949\n",
            "Epoch 9/50\n",
            "1/1 [==============================] - 0s 1ms/step - loss: 0.7600\n",
            "Epoch 10/50\n",
            "1/1 [==============================] - 0s 2ms/step - loss: 0.5277\n",
            "Epoch 11/50\n",
            "1/1 [==============================] - 0s 962us/step - loss: 0.3665\n",
            "Epoch 12/50\n",
            "1/1 [==============================] - 0s 1ms/step - loss: 0.2546\n",
            "Epoch 13/50\n",
            "1/1 [==============================] - 0s 1ms/step - loss: 0.1770\n",
            "Epoch 14/50\n",
            "1/1 [==============================] - 0s 819us/step - loss: 0.1231\n",
            "Epoch 15/50\n",
            "1/1 [==============================] - 0s 1ms/step - loss: 0.0857\n",
            "Epoch 16/50\n",
            "1/1 [==============================] - 0s 1ms/step - loss: 0.0598\n",
            "Epoch 17/50\n",
            "1/1 [==============================] - 0s 983us/step - loss: 0.0418\n",
            "Epoch 18/50\n",
            "1/1 [==============================] - 0s 871us/step - loss: 0.0293\n",
            "Epoch 19/50\n",
            "1/1 [==============================] - 0s 1ms/step - loss: 0.0206\n",
            "Epoch 20/50\n",
            "1/1 [==============================] - 0s 1ms/step - loss: 0.0146\n",
            "Epoch 21/50\n",
            "1/1 [==============================] - 0s 1ms/step - loss: 0.0104\n",
            "Epoch 22/50\n",
            "1/1 [==============================] - 0s 954us/step - loss: 0.0075\n",
            "Epoch 23/50\n",
            "1/1 [==============================] - 0s 1ms/step - loss: 0.0055\n",
            "Epoch 24/50\n",
            "1/1 [==============================] - 0s 1ms/step - loss: 0.0041\n",
            "Epoch 25/50\n",
            "1/1 [==============================] - 0s 1ms/step - loss: 0.0031\n",
            "Epoch 26/50\n",
            "1/1 [==============================] - 0s 1ms/step - loss: 0.0025\n",
            "Epoch 27/50\n",
            "1/1 [==============================] - 0s 943us/step - loss: 0.0020\n",
            "Epoch 28/50\n",
            "1/1 [==============================] - 0s 1ms/step - loss: 0.0017\n",
            "Epoch 29/50\n",
            "1/1 [==============================] - 0s 1ms/step - loss: 0.0014\n",
            "Epoch 30/50\n",
            "1/1 [==============================] - 0s 835us/step - loss: 0.0013\n",
            "Epoch 31/50\n",
            "1/1 [==============================] - 0s 1ms/step - loss: 0.0012\n",
            "Epoch 32/50\n",
            "1/1 [==============================] - 0s 1ms/step - loss: 0.0011\n",
            "Epoch 33/50\n",
            "1/1 [==============================] - 0s 847us/step - loss: 0.0010\n",
            "Epoch 34/50\n",
            "1/1 [==============================] - 0s 1ms/step - loss: 9.8542e-04\n",
            "Epoch 35/50\n",
            "1/1 [==============================] - 0s 1ms/step - loss: 9.5501e-04\n",
            "Epoch 36/50\n",
            "1/1 [==============================] - 0s 944us/step - loss: 9.3228e-04\n",
            "Epoch 37/50\n",
            "1/1 [==============================] - 0s 806us/step - loss: 9.1490e-04\n",
            "Epoch 38/50\n",
            "1/1 [==============================] - 0s 1ms/step - loss: 9.0123e-04\n",
            "Epoch 39/50\n",
            "1/1 [==============================] - 0s 2ms/step - loss: 8.9016e-04\n",
            "Epoch 40/50\n",
            "1/1 [==============================] - 0s 2ms/step - loss: 8.8089e-04\n",
            "Epoch 41/50\n",
            "1/1 [==============================] - 0s 2ms/step - loss: 8.7289e-04\n",
            "Epoch 42/50\n",
            "1/1 [==============================] - 0s 1ms/step - loss: 8.6577e-04\n",
            "Epoch 43/50\n",
            "1/1 [==============================] - 0s 769us/step - loss: 8.5927e-04\n",
            "Epoch 44/50\n",
            "1/1 [==============================] - 0s 1ms/step - loss: 8.5322e-04\n",
            "Epoch 45/50\n",
            "1/1 [==============================] - 0s 1ms/step - loss: 8.4749e-04\n",
            "Epoch 46/50\n",
            "1/1 [==============================] - 0s 1ms/step - loss: 8.4198e-04\n",
            "Epoch 47/50\n",
            "1/1 [==============================] - 0s 1ms/step - loss: 8.3664e-04\n",
            "Epoch 48/50\n",
            "1/1 [==============================] - 0s 1ms/step - loss: 8.3142e-04\n",
            "Epoch 49/50\n",
            "1/1 [==============================] - 0s 795us/step - loss: 8.2631e-04\n",
            "Epoch 50/50\n",
            "1/1 [==============================] - 0s 1ms/step - loss: 8.2126e-04\n",
            "[4.096]\n"
          ],
          "name": "stdout"
        }
      ]
    },
    {
      "cell_type": "code",
      "metadata": {
        "id": "7n5eATdtwraW"
      },
      "source": [
        ""
      ],
      "execution_count": null,
      "outputs": []
    }
  ]
}
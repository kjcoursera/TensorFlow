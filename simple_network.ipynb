{
  "nbformat": 4,
  "nbformat_minor": 0,
  "metadata": {
    "colab": {
      "name": "simple_network.ipynb",
      "provenance": [],
      "collapsed_sections": [],
      "authorship_tag": "ABX9TyO/QzxQ82mWZjTPGNjOzc8g",
      "include_colab_link": true
    },
    "kernelspec": {
      "name": "python3",
      "display_name": "Python 3"
    }
  },
  "cells": [
    {
      "cell_type": "markdown",
      "metadata": {
        "id": "view-in-github",
        "colab_type": "text"
      },
      "source": [
        "<a href=\"https://colab.research.google.com/github/kjcoursera/TensorFlow/blob/main/simple_network.ipynb\" target=\"_parent\"><img src=\"https://colab.research.google.com/assets/colab-badge.svg\" alt=\"Open In Colab\"/></a>"
      ]
    },
    {
      "cell_type": "code",
      "metadata": {
        "id": "2X9r7Y96QnX-"
      },
      "source": [
        "import matplotlib.pyplot as plt\n",
        "import numpy as np\n",
        "import pandas as pd\n",
        "import seaborn as sns\n",
        "\n",
        "\n",
        "# Make numpy printouts easier to read.\n",
        "np.set_printoptions(precision=3, suppress=True)"
      ],
      "execution_count": 1,
      "outputs": []
    },
    {
      "cell_type": "code",
      "metadata": {
        "id": "UGwE2pyfQu_h",
        "outputId": "2dd2de4a-6ae4-4811-da2e-52489a0186bc",
        "colab": {
          "base_uri": "https://localhost:8080/"
        }
      },
      "source": [
        "import tensorflow as tf\n",
        "\n",
        "from tensorflow import keras\n",
        "from tensorflow.keras import layers\n",
        "from tensorflow.keras.layers.experimental import preprocessing\n",
        "\n",
        "print(tf.__version__)"
      ],
      "execution_count": 2,
      "outputs": [
        {
          "output_type": "stream",
          "text": [
            "2.3.0\n"
          ],
          "name": "stdout"
        }
      ]
    },
    {
      "cell_type": "code",
      "metadata": {
        "id": "2cZb4AMlLqvc"
      },
      "source": [
        "def plot_the_data(x, y):\n",
        "  plt.figure()\n",
        "  plt.xlabel(\"x\")\n",
        "  plt.ylabel(\"y\")\n",
        "  plt.plot(x,y)\n",
        "  plt.show()\n",
        "  return\n"
      ],
      "execution_count": 11,
      "outputs": []
    },
    {
      "cell_type": "code",
      "metadata": {
        "id": "wtQZIMd9Q2kY",
        "outputId": "8c6cd7c4-48f6-487d-921c-c107413cc36c",
        "colab": {
          "base_uri": "https://localhost:8080/",
          "height": 279
        }
      },
      "source": [
        "xs = np.array([-1, 0,1,2,3,4], dtype=float)\n",
        "ys = np.array([-3,-1,1,3,5,7], dtype=float)\n",
        "plot_the_data(xs,ys)"
      ],
      "execution_count": 12,
      "outputs": [
        {
          "output_type": "display_data",
          "data": {
            "image/png": "[encoded data removed]",
            "text/plain": [
              "<Figure size 432x288 with 1 Axes>"
            ]
          },
          "metadata": {
            "tags": [],
            "needs_background": "light"
          }
        }
      ]
    },
    {
      "cell_type": "code",
      "metadata": {
        "id": "DQ4mBWiiLbXn",
        "cellView": "code",
        "outputId": "5bb148cc-ad1c-45f2-a133-820a3096c8dd",
        "colab": {
          "base_uri": "https://localhost:8080/"
        }
      },
      "source": [
        "#@title Default title text\n",
        "model = tf.keras.Sequential()\n",
        "model.add(tf.keras.layers.Dense(units = 1, input_shape=[1]))\n",
        "model.compile(optimizer='sgd', loss='mean_squared_error')\n",
        "model.fit(xs,ys, epochs = 50)"
      ],
      "execution_count": 13,
      "outputs": [
        {
          "output_type": "stream",
          "text": [
            "Epoch 1/50\n",
            "1/1 [==============================] - 0s 1ms/step - loss: 45.2394\n",
            "Epoch 2/50\n",
            "1/1 [==============================] - 0s 2ms/step - loss: 35.9679\n",
            "Epoch 3/50\n",
            "1/1 [==============================] - 0s 1ms/step - loss: 28.6658\n",
            "Epoch 4/50\n",
            "1/1 [==============================] - 0s 2ms/step - loss: 22.9133\n",
            "Epoch 5/50\n",
            "1/1 [==============================] - 0s 2ms/step - loss: 18.3801\n",
            "Epoch 6/50\n",
            "1/1 [==============================] - 0s 2ms/step - loss: 14.8064\n",
            "Epoch 7/50\n",
            "1/1 [==============================] - 0s 2ms/step - loss: 11.9877\n",
            "Epoch 8/50\n",
            "1/1 [==============================] - 0s 1ms/step - loss: 9.7630\n",
            "Epoch 9/50\n",
            "1/1 [==============================] - 0s 1ms/step - loss: 8.0060\n",
            "Epoch 10/50\n",
            "1/1 [==============================] - 0s 954us/step - loss: 6.6170\n",
            "Epoch 11/50\n",
            "1/1 [==============================] - 0s 958us/step - loss: 5.5176\n",
            "Epoch 12/50\n",
            "1/1 [==============================] - 0s 913us/step - loss: 4.6463\n",
            "Epoch 13/50\n",
            "1/1 [==============================] - 0s 929us/step - loss: 3.9545\n",
            "Epoch 14/50\n",
            "1/1 [==============================] - 0s 932us/step - loss: 3.4041\n",
            "Epoch 15/50\n",
            "1/1 [==============================] - 0s 983us/step - loss: 2.9651\n",
            "Epoch 16/50\n",
            "1/1 [==============================] - 0s 1ms/step - loss: 2.6138\n",
            "Epoch 17/50\n",
            "1/1 [==============================] - 0s 946us/step - loss: 2.3316\n",
            "Epoch 18/50\n",
            "1/1 [==============================] - 0s 991us/step - loss: 2.1039\n",
            "Epoch 19/50\n",
            "1/1 [==============================] - 0s 957us/step - loss: 1.9193\n",
            "Epoch 20/50\n",
            "1/1 [==============================] - 0s 934us/step - loss: 1.7686\n",
            "Epoch 21/50\n",
            "1/1 [==============================] - 0s 951us/step - loss: 1.6448\n",
            "Epoch 22/50\n",
            "1/1 [==============================] - 0s 934us/step - loss: 1.5421\n",
            "Epoch 23/50\n",
            "1/1 [==============================] - 0s 947us/step - loss: 1.4562\n",
            "Epoch 24/50\n",
            "1/1 [==============================] - 0s 927us/step - loss: 1.3837\n",
            "Epoch 25/50\n",
            "1/1 [==============================] - 0s 1ms/step - loss: 1.3217\n",
            "Epoch 26/50\n",
            "1/1 [==============================] - 0s 973us/step - loss: 1.2682\n",
            "Epoch 27/50\n",
            "1/1 [==============================] - 0s 1ms/step - loss: 1.2214\n",
            "Epoch 28/50\n",
            "1/1 [==============================] - 0s 938us/step - loss: 1.1800\n",
            "Epoch 29/50\n",
            "1/1 [==============================] - 0s 1ms/step - loss: 1.1429\n",
            "Epoch 30/50\n",
            "1/1 [==============================] - 0s 966us/step - loss: 1.1093\n",
            "Epoch 31/50\n",
            "1/1 [==============================] - 0s 1ms/step - loss: 1.0786\n",
            "Epoch 32/50\n",
            "1/1 [==============================] - 0s 1ms/step - loss: 1.0501\n",
            "Epoch 33/50\n",
            "1/1 [==============================] - 0s 965us/step - loss: 1.0236\n",
            "Epoch 34/50\n",
            "1/1 [==============================] - 0s 1ms/step - loss: 0.9987\n",
            "Epoch 35/50\n",
            "1/1 [==============================] - 0s 1ms/step - loss: 0.9752\n",
            "Epoch 36/50\n",
            "1/1 [==============================] - 0s 1ms/step - loss: 0.9528\n",
            "Epoch 37/50\n",
            "1/1 [==============================] - 0s 1ms/step - loss: 0.9313\n",
            "Epoch 38/50\n",
            "1/1 [==============================] - 0s 1ms/step - loss: 0.9107\n",
            "Epoch 39/50\n",
            "1/1 [==============================] - 0s 778us/step - loss: 0.8908\n",
            "Epoch 40/50\n",
            "1/1 [==============================] - 0s 1ms/step - loss: 0.8716\n",
            "Epoch 41/50\n",
            "1/1 [==============================] - 0s 1ms/step - loss: 0.8530\n",
            "Epoch 42/50\n",
            "1/1 [==============================] - 0s 832us/step - loss: 0.8349\n",
            "Epoch 43/50\n",
            "1/1 [==============================] - 0s 1ms/step - loss: 0.8173\n",
            "Epoch 44/50\n",
            "1/1 [==============================] - 0s 1ms/step - loss: 0.8001\n",
            "Epoch 45/50\n",
            "1/1 [==============================] - 0s 1ms/step - loss: 0.7834\n",
            "Epoch 46/50\n",
            "1/1 [==============================] - 0s 1ms/step - loss: 0.7671\n",
            "Epoch 47/50\n",
            "1/1 [==============================] - 0s 1ms/step - loss: 0.7512\n",
            "Epoch 48/50\n",
            "1/1 [==============================] - 0s 1ms/step - loss: 0.7356\n",
            "Epoch 49/50\n",
            "1/1 [==============================] - 0s 1ms/step - loss: 0.7204\n",
            "Epoch 50/50\n",
            "1/1 [==============================] - 0s 871us/step - loss: 0.7055\n"
          ],
          "name": "stdout"
        },
        {
          "output_type": "execute_result",
          "data": {
            "text/plain": [
              "<tensorflow.python.keras.callbacks.History at 0x7f3becc42ef0>"
            ]
          },
          "metadata": {
            "tags": []
          },
          "execution_count": 13
        }
      ]
    },
    {
      "cell_type": "code",
      "metadata": {
        "id": "1R3pguUV5mSO",
        "outputId": "d480767d-857b-4a12-e0db-395d495319d8",
        "colab": {
          "base_uri": "https://localhost:8080/"
        }
      },
      "source": [
        "print(model.predict([10.0]))"
      ],
      "execution_count": 6,
      "outputs": [
        {
          "output_type": "stream",
          "text": [
            "[[17.179]]\n"
          ],
          "name": "stdout"
        }
      ]
    },
    {
      "cell_type": "code",
      "metadata": {
        "id": "vhDk1mHn5sEo",
        "outputId": "e65407fa-4221-4f60-db5e-8beab0508804",
        "colab": {
          "base_uri": "https://localhost:8080/"
        }
      },
      "source": [
        "print(model.predict([20.0]))"
      ],
      "execution_count": 7,
      "outputs": [
        {
          "output_type": "stream",
          "text": [
            "[[34.553]]\n"
          ],
          "name": "stdout"
        }
      ]
    },
    {
      "cell_type": "code",
      "metadata": {
        "id": "gNc7mb7l5Qea"
      },
      "source": [
        "def house_model(y_new):\n",
        "    xs = np.array([1.0,2.0, 3.0, 4.0], dtype = float)# Your Code Here#\n",
        "    ys = np.array([1.0,1.5,2.0,2.5], dtype = float)# Your Code Here#\n",
        "    plot_the_data(xs,ys)\n",
        "    model = keras.Sequential([keras.layers.Dense(units = 1, input_shape=[1])])# Your Code Here#\n",
        "    model.compile(optimizer = 'sgd', loss = 'mean_squared_error')\n",
        "    model.fit(xs,ys, epochs = 50)\n",
        "    return model.predict(y_new)[0]"
      ],
      "execution_count": 14,
      "outputs": []
    },
    {
      "cell_type": "code",
      "metadata": {
        "id": "Lp6CrrsX5TJE",
        "outputId": "aaebf423-16b2-46d1-a0aa-7ca8c219b385",
        "colab": {
          "base_uri": "https://localhost:8080/",
          "height": 1000
        }
      },
      "source": [
        "prediction = house_model([7.0])\n",
        "print(prediction)"
      ],
      "execution_count": 15,
      "outputs": [
        {
          "output_type": "display_data",
          "data": {
            "image/png": "[encoded data removed]",
            "text/plain": [
              "<Figure size 432x288 with 1 Axes>"
            ]
          },
          "metadata": {
            "tags": [],
            "needs_background": "light"
          }
        },
        {
          "output_type": "stream",
          "text": [
            "Epoch 1/50\n",
            "1/1 [==============================] - 0s 1ms/step - loss: 39.6098\n",
            "Epoch 2/50\n",
            "1/1 [==============================] - 0s 2ms/step - loss: 27.4864\n",
            "Epoch 3/50\n",
            "1/1 [==============================] - 0s 1ms/step - loss: 19.0743\n",
            "Epoch 4/50\n",
            "1/1 [==============================] - 0s 4ms/step - loss: 13.2372\n",
            "Epoch 5/50\n",
            "1/1 [==============================] - 0s 5ms/step - loss: 9.1870\n",
            "Epoch 6/50\n",
            "1/1 [==============================] - 0s 2ms/step - loss: 6.3767\n",
            "Epoch 7/50\n",
            "1/1 [==============================] - 0s 1ms/step - loss: 4.4266\n",
            "Epoch 8/50\n",
            "1/1 [==============================] - 0s 1ms/step - loss: 3.0735\n",
            "Epoch 9/50\n",
            "1/1 [==============================] - 0s 2ms/step - loss: 2.1346\n",
            "Epoch 10/50\n",
            "1/1 [==============================] - 0s 5ms/step - loss: 1.4831\n",
            "Epoch 11/50\n",
            "1/1 [==============================] - 0s 3ms/step - loss: 1.0310\n",
            "Epoch 12/50\n",
            "1/1 [==============================] - 0s 1ms/step - loss: 0.7173\n",
            "Epoch 13/50\n",
            "1/1 [==============================] - 0s 1ms/step - loss: 0.4996\n",
            "Epoch 14/50\n",
            "1/1 [==============================] - 0s 1ms/step - loss: 0.3486\n",
            "Epoch 15/50\n",
            "1/1 [==============================] - 0s 1ms/step - loss: 0.2437\n",
            "Epoch 16/50\n",
            "1/1 [==============================] - 0s 1ms/step - loss: 0.1710\n",
            "Epoch 17/50\n",
            "1/1 [==============================] - 0s 3ms/step - loss: 0.1205\n",
            "Epoch 18/50\n",
            "1/1 [==============================] - 0s 2ms/step - loss: 0.0855\n",
            "Epoch 19/50\n",
            "1/1 [==============================] - 0s 3ms/step - loss: 0.0611\n",
            "Epoch 20/50\n",
            "1/1 [==============================] - 0s 3ms/step - loss: 0.0442\n",
            "Epoch 21/50\n",
            "1/1 [==============================] - 0s 3ms/step - loss: 0.0325\n",
            "Epoch 22/50\n",
            "1/1 [==============================] - 0s 1ms/step - loss: 0.0244\n",
            "Epoch 23/50\n",
            "1/1 [==============================] - 0s 2ms/step - loss: 0.0187\n",
            "Epoch 24/50\n",
            "1/1 [==============================] - 0s 4ms/step - loss: 0.0147\n",
            "Epoch 25/50\n",
            "1/1 [==============================] - 0s 2ms/step - loss: 0.0120\n",
            "Epoch 26/50\n",
            "1/1 [==============================] - 0s 2ms/step - loss: 0.0101\n",
            "Epoch 27/50\n",
            "1/1 [==============================] - 0s 2ms/step - loss: 0.0087\n",
            "Epoch 28/50\n",
            "1/1 [==============================] - 0s 4ms/step - loss: 0.0078\n",
            "Epoch 29/50\n",
            "1/1 [==============================] - 0s 966us/step - loss: 0.0071\n",
            "Epoch 30/50\n",
            "1/1 [==============================] - 0s 1ms/step - loss: 0.0067\n",
            "Epoch 31/50\n",
            "1/1 [==============================] - 0s 882us/step - loss: 0.0063\n",
            "Epoch 32/50\n",
            "1/1 [==============================] - 0s 2ms/step - loss: 0.0061\n",
            "Epoch 33/50\n",
            "1/1 [==============================] - 0s 2ms/step - loss: 0.0059\n",
            "Epoch 34/50\n",
            "1/1 [==============================] - 0s 924us/step - loss: 0.0058\n",
            "Epoch 35/50\n",
            "1/1 [==============================] - 0s 1ms/step - loss: 0.0057\n",
            "Epoch 36/50\n",
            "1/1 [==============================] - 0s 2ms/step - loss: 0.0056\n",
            "Epoch 37/50\n",
            "1/1 [==============================] - 0s 1ms/step - loss: 0.0055\n",
            "Epoch 38/50\n",
            "1/1 [==============================] - 0s 3ms/step - loss: 0.0055\n",
            "Epoch 39/50\n",
            "1/1 [==============================] - 0s 2ms/step - loss: 0.0054\n",
            "Epoch 40/50\n",
            "1/1 [==============================] - 0s 2ms/step - loss: 0.0054\n",
            "Epoch 41/50\n",
            "1/1 [==============================] - 0s 957us/step - loss: 0.0053\n",
            "Epoch 42/50\n",
            "1/1 [==============================] - 0s 840us/step - loss: 0.0053\n",
            "Epoch 43/50\n",
            "1/1 [==============================] - 0s 799us/step - loss: 0.0053\n",
            "Epoch 44/50\n",
            "1/1 [==============================] - 0s 1ms/step - loss: 0.0052\n",
            "Epoch 45/50\n",
            "1/1 [==============================] - 0s 6ms/step - loss: 0.0052\n",
            "Epoch 46/50\n",
            "1/1 [==============================] - 0s 6ms/step - loss: 0.0052\n",
            "Epoch 47/50\n",
            "1/1 [==============================] - 0s 4ms/step - loss: 0.0051\n",
            "Epoch 48/50\n",
            "1/1 [==============================] - 0s 1ms/step - loss: 0.0051\n",
            "Epoch 49/50\n",
            "1/1 [==============================] - 0s 2ms/step - loss: 0.0051\n",
            "Epoch 50/50\n",
            "1/1 [==============================] - 0s 3ms/step - loss: 0.0050\n",
            "[3.759]\n"
          ],
          "name": "stdout"
        }
      ]
    }
  ]
}
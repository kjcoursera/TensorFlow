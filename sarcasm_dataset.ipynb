{
  "nbformat": 4,
  "nbformat_minor": 0,
  "metadata": {
    "colab": {
      "name": "sarcasm_dataset.ipynb",
      "provenance": [],
      "collapsed_sections": [],
      "authorship_tag": "ABX9TyNRvRVkzmcNy0lSNvHAF23u",
      "include_colab_link": true
    },
    "kernelspec": {
      "name": "python3",
      "display_name": "Python 3"
    }
  },
  "cells": [
    {
      "cell_type": "markdown",
      "metadata": {
        "id": "view-in-github",
        "colab_type": "text"
      },
      "source": [
        "<a href=\"https://colab.research.google.com/github/kjcoursera/TensorFlow/blob/main/sarcasm_dataset.ipynb\" target=\"_parent\"><img src=\"https://colab.research.google.com/assets/colab-badge.svg\" alt=\"Open In Colab\"/></a>"
      ]
    },
    {
      "cell_type": "code",
      "metadata": {
        "id": "8ZJ9OlHo-ml4",
        "outputId": "41cb6ffe-ff3e-4cbf-cc77-0b0d866bb567",
        "colab": {
          "base_uri": "https://localhost:8080/"
        }
      },
      "source": [
        "import tensorflow as tf\n",
        "print(tf.__version__)"
      ],
      "execution_count": 1,
      "outputs": [
        {
          "output_type": "stream",
          "text": [
            "2.3.0\n"
          ],
          "name": "stdout"
        }
      ]
    },
    {
      "cell_type": "code",
      "metadata": {
        "id": "_rsyAF9CUDvB"
      },
      "source": [
        "import json\n",
        "import tensorflow as tf\n",
        "\n",
        "from tensorflow.keras.preprocessing.text import Tokenizer\n",
        "from tensorflow.keras.preprocessing.sequence import pad_sequences"
      ],
      "execution_count": 3,
      "outputs": []
    },
    {
      "cell_type": "code",
      "metadata": {
        "id": "hApLhB52Vbk5"
      },
      "source": [
        "vocab_size = 10000\n",
        "embedding_dim = 16\n",
        "max_length = 100\n",
        "trunc_type='post'\n",
        "padding_type='post'\n",
        "oov_tok = \"<OOV>\"\n",
        "training_size = 20000"
      ],
      "execution_count": 4,
      "outputs": []
    },
    {
      "cell_type": "code",
      "metadata": {
        "id": "8rCXal_HVh07",
        "outputId": "c87a300e-d32e-405e-f272-accb43e92ba2",
        "colab": {
          "base_uri": "https://localhost:8080/"
        }
      },
      "source": [
        "!wget --no-check-certificate \\\n",
        "    https://storage.googleapis.com/laurencemoroney-blog.appspot.com/sarcasm.json \\\n",
        "    -O /tmp/sarcasm.json"
      ],
      "execution_count": 5,
      "outputs": [
        {
          "output_type": "stream",
          "text": [
            "--2020-11-16 09:15:10--  https://storage.googleapis.com/laurencemoroney-blog.appspot.com/sarcasm.json\n",
            "Resolving storage.googleapis.com (storage.googleapis.com)... 173.194.216.128, 173.194.217.128, 108.177.11.128, ...\n",
            "Connecting to storage.googleapis.com (storage.googleapis.com)|173.194.216.128|:443... connected.\n",
            "HTTP request sent, awaiting response... 200 OK\n",
            "Length: 5643545 (5.4M) [application/json]\n",
            "Saving to: ‘/tmp/sarcasm.json’\n",
            "\n",
            "\r/tmp/sarcasm.json     0%[                    ]       0  --.-KB/s               \r/tmp/sarcasm.json   100%[===================>]   5.38M  --.-KB/s    in 0.03s   \n",
            "\n",
            "2020-11-16 09:15:10 (179 MB/s) - ‘/tmp/sarcasm.json’ saved [5643545/5643545]\n",
            "\n"
          ],
          "name": "stdout"
        }
      ]
    },
    {
      "cell_type": "code",
      "metadata": {
        "id": "5tJAyJ1cWenf"
      },
      "source": [
        "with open(\"/tmp/sarcasm.json\",'r') as f:\n",
        "  datastore = json.load(f)\n",
        "\n",
        "sentences = []\n",
        "labels = []\n",
        "\n",
        "for item in datastore:\n",
        "  sentences.append(item['headline'])\n",
        "  labels.append(item['is_sarcastic'])"
      ],
      "execution_count": 7,
      "outputs": []
    },
    {
      "cell_type": "code",
      "metadata": {
        "id": "Cp3FTwWHWhXW"
      },
      "source": [
        "training_sentences =  sentences[0:training_size]\n",
        "testing_sentences =  sentences[ training_size:]\n",
        "training_labels =  labels[0:training_size]\n",
        "testing_labels = labels[training_size:]"
      ],
      "execution_count": 10,
      "outputs": []
    },
    {
      "cell_type": "code",
      "metadata": {
        "id": "ncq4ITmycP7m"
      },
      "source": [
        "tokenizer = Tokenizer(num_words=vocab_size, oov_token=oov_tok)\n",
        "tokenizer.fit_on_texts(training_sentences)\n",
        "\n",
        "word_index = tokenizer.word_index\n",
        "\n",
        "training_sequences = tokenizer.texts_to_sequences(training_sentences)\n",
        "training_padded = pad_sequences(training_sequences, maxlen=max_length, padding=padding_type, truncating=trunc_type)\n",
        "\n",
        "testing_sequences = tokenizer.texts_to_sequences(testing_sentences)\n",
        "testing_padded = pad_sequences(testing_sequences, maxlen=max_length, padding=padding_type, truncating=trunc_type)"
      ],
      "execution_count": 11,
      "outputs": []
    },
    {
      "cell_type": "code",
      "metadata": {
        "id": "AwOi5od-cPtE"
      },
      "source": [
        "# Need this block to get it to work with TensorFlow 2.x\n",
        "import numpy as np\n",
        "training_padded = np.array(training_padded)\n",
        "training_labels = np.array(training_labels)\n",
        "testing_padded = np.array(testing_padded)\n",
        "testing_labels = np.array(testing_labels)"
      ],
      "execution_count": 13,
      "outputs": []
    },
    {
      "cell_type": "code",
      "metadata": {
        "id": "QM6grzwFctOK"
      },
      "source": [
        "model = tf.keras.Sequential([\n",
        "    tf.keras.layers.Embedding(vocab_size, embedding_dim, input_length=max_length),\n",
        "    tf.keras.layers.GlobalAveragePooling1D(),\n",
        "    tf.keras.layers.Dense(24, activation='relu'),\n",
        "    tf.keras.layers.Dense(1, activation='sigmoid')\n",
        "])\n",
        "model.compile(loss='binary_crossentropy',optimizer='adam',metrics=['accuracy'])"
      ],
      "execution_count": 15,
      "outputs": []
    },
    {
      "cell_type": "code",
      "metadata": {
        "id": "fpFohVSPcuqj",
        "outputId": "1a64394b-4bac-43c9-e2d2-fe8cc383f0ca",
        "colab": {
          "base_uri": "https://localhost:8080/"
        }
      },
      "source": [
        "model.summary()"
      ],
      "execution_count": 16,
      "outputs": [
        {
          "output_type": "stream",
          "text": [
            "Model: \"sequential_1\"\n",
            "_________________________________________________________________\n",
            "Layer (type)                 Output Shape              Param #   \n",
            "=================================================================\n",
            "embedding_1 (Embedding)      (None, 100, 16)           160000    \n",
            "_________________________________________________________________\n",
            "global_average_pooling1d_1 ( (None, 16)                0         \n",
            "_________________________________________________________________\n",
            "dense_2 (Dense)              (None, 24)                408       \n",
            "_________________________________________________________________\n",
            "dense_3 (Dense)              (None, 1)                 25        \n",
            "=================================================================\n",
            "Total params: 160,433\n",
            "Trainable params: 160,433\n",
            "Non-trainable params: 0\n",
            "_________________________________________________________________\n"
          ],
          "name": "stdout"
        }
      ]
    },
    {
      "cell_type": "code",
      "metadata": {
        "id": "fgHcgUqzeekH",
        "outputId": "abdb275b-bbd8-4162-c8fa-909963f5db3f",
        "colab": {
          "base_uri": "https://localhost:8080/"
        }
      },
      "source": [
        "num_epochs = 30\n",
        "history = model.fit(training_padded, training_labels, epochs=num_epochs, validation_data=(testing_padded, testing_labels), verbose=2)"
      ],
      "execution_count": 17,
      "outputs": [
        {
          "output_type": "stream",
          "text": [
            "Epoch 1/30\n",
            "625/625 - 2s - loss: 0.6720 - accuracy: 0.5651 - val_loss: 0.6166 - val_accuracy: 0.6321\n",
            "Epoch 2/30\n",
            "625/625 - 2s - loss: 0.4572 - accuracy: 0.8142 - val_loss: 0.3897 - val_accuracy: 0.8408\n",
            "Epoch 3/30\n",
            "625/625 - 2s - loss: 0.3144 - accuracy: 0.8755 - val_loss: 0.3563 - val_accuracy: 0.8526\n",
            "Epoch 4/30\n",
            "625/625 - 2s - loss: 0.2613 - accuracy: 0.8990 - val_loss: 0.3516 - val_accuracy: 0.8504\n",
            "Epoch 5/30\n",
            "625/625 - 2s - loss: 0.2257 - accuracy: 0.9133 - val_loss: 0.3468 - val_accuracy: 0.8538\n",
            "Epoch 6/30\n",
            "625/625 - 2s - loss: 0.1966 - accuracy: 0.9262 - val_loss: 0.3524 - val_accuracy: 0.8553\n",
            "Epoch 7/30\n",
            "625/625 - 2s - loss: 0.1756 - accuracy: 0.9348 - val_loss: 0.3634 - val_accuracy: 0.8550\n",
            "Epoch 8/30\n",
            "625/625 - 2s - loss: 0.1570 - accuracy: 0.9427 - val_loss: 0.3766 - val_accuracy: 0.8554\n",
            "Epoch 9/30\n",
            "625/625 - 2s - loss: 0.1403 - accuracy: 0.9505 - val_loss: 0.3941 - val_accuracy: 0.8526\n",
            "Epoch 10/30\n",
            "625/625 - 2s - loss: 0.1275 - accuracy: 0.9546 - val_loss: 0.4169 - val_accuracy: 0.8502\n",
            "Epoch 11/30\n",
            "625/625 - 2s - loss: 0.1155 - accuracy: 0.9599 - val_loss: 0.4379 - val_accuracy: 0.8475\n",
            "Epoch 12/30\n",
            "625/625 - 2s - loss: 0.1051 - accuracy: 0.9646 - val_loss: 0.4602 - val_accuracy: 0.8448\n",
            "Epoch 13/30\n",
            "625/625 - 2s - loss: 0.0966 - accuracy: 0.9678 - val_loss: 0.4923 - val_accuracy: 0.8405\n",
            "Epoch 14/30\n",
            "625/625 - 2s - loss: 0.0877 - accuracy: 0.9717 - val_loss: 0.5201 - val_accuracy: 0.8399\n",
            "Epoch 15/30\n",
            "625/625 - 2s - loss: 0.0820 - accuracy: 0.9733 - val_loss: 0.5433 - val_accuracy: 0.8422\n",
            "Epoch 16/30\n",
            "625/625 - 2s - loss: 0.0755 - accuracy: 0.9755 - val_loss: 0.5748 - val_accuracy: 0.8338\n",
            "Epoch 17/30\n",
            "625/625 - 2s - loss: 0.0689 - accuracy: 0.9787 - val_loss: 0.6116 - val_accuracy: 0.8350\n",
            "Epoch 18/30\n",
            "625/625 - 2s - loss: 0.0645 - accuracy: 0.9790 - val_loss: 0.6294 - val_accuracy: 0.8329\n",
            "Epoch 19/30\n",
            "625/625 - 2s - loss: 0.0585 - accuracy: 0.9825 - val_loss: 0.6690 - val_accuracy: 0.8287\n",
            "Epoch 20/30\n",
            "625/625 - 2s - loss: 0.0549 - accuracy: 0.9834 - val_loss: 0.7086 - val_accuracy: 0.8268\n",
            "Epoch 21/30\n",
            "625/625 - 2s - loss: 0.0506 - accuracy: 0.9845 - val_loss: 0.7424 - val_accuracy: 0.8250\n",
            "Epoch 22/30\n",
            "625/625 - 2s - loss: 0.0456 - accuracy: 0.9867 - val_loss: 0.7632 - val_accuracy: 0.8252\n",
            "Epoch 23/30\n",
            "625/625 - 2s - loss: 0.0421 - accuracy: 0.9879 - val_loss: 0.7983 - val_accuracy: 0.8226\n",
            "Epoch 24/30\n",
            "625/625 - 2s - loss: 0.0394 - accuracy: 0.9884 - val_loss: 0.8581 - val_accuracy: 0.8192\n",
            "Epoch 25/30\n",
            "625/625 - 2s - loss: 0.0347 - accuracy: 0.9906 - val_loss: 0.8782 - val_accuracy: 0.8198\n",
            "Epoch 26/30\n",
            "625/625 - 2s - loss: 0.0339 - accuracy: 0.9905 - val_loss: 1.0088 - val_accuracy: 0.8144\n",
            "Epoch 27/30\n",
            "625/625 - 2s - loss: 0.0303 - accuracy: 0.9916 - val_loss: 0.9621 - val_accuracy: 0.8180\n",
            "Epoch 28/30\n",
            "625/625 - 2s - loss: 0.0281 - accuracy: 0.9923 - val_loss: 1.0044 - val_accuracy: 0.8152\n",
            "Epoch 29/30\n",
            "625/625 - 2s - loss: 0.0286 - accuracy: 0.9913 - val_loss: 1.0232 - val_accuracy: 0.8141\n",
            "Epoch 30/30\n",
            "625/625 - 2s - loss: 0.0247 - accuracy: 0.9931 - val_loss: 1.0937 - val_accuracy: 0.8137\n"
          ],
          "name": "stdout"
        }
      ]
    },
    {
      "cell_type": "code",
      "metadata": {
        "id": "gw-wfworehma",
        "outputId": "773bfc06-2e64-4d39-9b61-8cd99ad5b2d5",
        "colab": {
          "base_uri": "https://localhost:8080/",
          "height": 541
        }
      },
      "source": [
        "import matplotlib.pyplot as plt\n",
        "\n",
        "\n",
        "def plot_graphs(history, string):\n",
        "  plt.plot(history.history[string])\n",
        "  plt.plot(history.history['val_'+string])\n",
        "  plt.xlabel(\"Epochs\")\n",
        "  plt.ylabel(string)\n",
        "  plt.legend([string, 'val_'+string])\n",
        "  plt.show()\n",
        "  \n",
        "plot_graphs(history, \"accuracy\")\n",
        "plot_graphs(history, \"loss\")"
      ],
      "execution_count": 18,
      "outputs": [
        {
          "output_type": "display_data",
          "data": {
            "image/png": "[encoded data removed]",
            "text/plain": [
              "<Figure size 432x288 with 1 Axes>"
            ]
          },
          "metadata": {
            "tags": [],
            "needs_background": "light"
          }
        },
        {
          "output_type": "display_data",
          "data": {
            "image/png": "[encoded data removed]",
            "text/plain": [
              "<Figure size 432x288 with 1 Axes>"
            ]
          },
          "metadata": {
            "tags": [],
            "needs_background": "light"
          }
        }
      ]
    },
    {
      "cell_type": "code",
      "metadata": {
        "id": "oujHnlDPeowH",
        "outputId": "1d0490d8-26ca-4da2-e4fb-05b3444426a0",
        "colab": {
          "base_uri": "https://localhost:8080/"
        }
      },
      "source": [
        "reverse_word_index = dict([(value, key) for (key, value) in word_index.items()])\n",
        "\n",
        "def decode_sentence(text):\n",
        "    return ' '.join([reverse_word_index.get(i, '?') for i in text])\n",
        "\n",
        "print(decode_sentence(training_padded[0]))\n",
        "print(training_sentences[2])\n",
        "print(labels[2])"
      ],
      "execution_count": 19,
      "outputs": [
        {
          "output_type": "stream",
          "text": [
            "former <OOV> store clerk sues over secret 'black <OOV> for minority shoppers ? ? ? ? ? ? ? ? ? ? ? ? ? ? ? ? ? ? ? ? ? ? ? ? ? ? ? ? ? ? ? ? ? ? ? ? ? ? ? ? ? ? ? ? ? ? ? ? ? ? ? ? ? ? ? ? ? ? ? ? ? ? ? ? ? ? ? ? ? ? ? ? ? ? ? ? ? ? ? ? ? ? ? ? ? ? ? ?\n",
            "mom starting to fear son's web series closest thing she will have to grandchild\n",
            "1\n"
          ],
          "name": "stdout"
        }
      ]
    },
    {
      "cell_type": "code",
      "metadata": {
        "id": "O6T3w6LAesJJ",
        "outputId": "43e6e011-c80d-4c47-eb1a-cfd1ea89f90a",
        "colab": {
          "base_uri": "https://localhost:8080/"
        }
      },
      "source": [
        "e = model.layers[0]\n",
        "weights = e.get_weights()[0]\n",
        "print(weights.shape) # shape: (vocab_size, embedding_dim)"
      ],
      "execution_count": 20,
      "outputs": [
        {
          "output_type": "stream",
          "text": [
            "(10000, 16)\n"
          ],
          "name": "stdout"
        }
      ]
    },
    {
      "cell_type": "code",
      "metadata": {
        "id": "TJIlrEeaeufV"
      },
      "source": [
        "import io\n",
        "\n",
        "out_v = io.open('vecs.tsv', 'w', encoding='utf-8')\n",
        "out_m = io.open('meta.tsv', 'w', encoding='utf-8')\n",
        "for word_num in range(1, vocab_size):\n",
        "  word = reverse_word_index[word_num]\n",
        "  embeddings = weights[word_num]\n",
        "  out_m.write(word + \"\\n\")\n",
        "  out_v.write('\\t'.join([str(x) for x in embeddings]) + \"\\n\")\n",
        "out_v.close()\n",
        "out_m.close()"
      ],
      "execution_count": 21,
      "outputs": []
    },
    {
      "cell_type": "code",
      "metadata": {
        "id": "oTWd1U87exIA",
        "outputId": "c01e2966-509d-48f7-fa82-dbd291ef64e3",
        "colab": {
          "base_uri": "https://localhost:8080/",
          "height": 17
        }
      },
      "source": [
        "try:\n",
        "  from google.colab import files\n",
        "except ImportError:\n",
        "  pass\n",
        "else:\n",
        "  files.download('vecs.tsv')\n",
        "  files.download('meta.tsv')"
      ],
      "execution_count": 22,
      "outputs": [
        {
          "output_type": "display_data",
          "data": {
            "application/javascript": [
              "\n",
              "    async function download(id, filename, size) {\n",
              "      if (!google.colab.kernel.accessAllowed) {\n",
              "        return;\n",
              "      }\n",
              "      const div = document.createElement('div');\n",
              "      const label = document.createElement('label');\n",
              "      label.textContent = `Downloading \"${filename}\": `;\n",
              "      div.appendChild(label);\n",
              "      const progress = document.createElement('progress');\n",
              "      progress.max = size;\n",
              "      div.appendChild(progress);\n",
              "      document.body.appendChild(div);\n",
              "\n",
              "      const buffers = [];\n",
              "      let downloaded = 0;\n",
              "\n",
              "      const channel = await google.colab.kernel.comms.open(id);\n",
              "      // Send a message to notify the kernel that we're ready.\n",
              "      channel.send({})\n",
              "\n",
              "      for await (const message of channel.messages) {\n",
              "        // Send a message to notify the kernel that we're ready.\n",
              "        channel.send({})\n",
              "        if (message.buffers) {\n",
              "          for (const buffer of message.buffers) {\n",
              "            buffers.push(buffer);\n",
              "            downloaded += buffer.byteLength;\n",
              "            progress.value = downloaded;\n",
              "          }\n",
              "        }\n",
              "      }\n",
              "      const blob = new Blob(buffers, {type: 'application/binary'});\n",
              "      const a = document.createElement('a');\n",
              "      a.href = window.URL.createObjectURL(blob);\n",
              "      a.download = filename;\n",
              "      div.appendChild(a);\n",
              "      a.click();\n",
              "      div.remove();\n",
              "    }\n",
              "  "
            ],
            "text/plain": [
              "<IPython.core.display.Javascript object>"
            ]
          },
          "metadata": {
            "tags": []
          }
        },
        {
          "output_type": "display_data",
          "data": {
            "application/javascript": [
              "download(\"download_b0859d15-70fb-4213-b75f-9e2e297a9a88\", \"vecs.tsv\", 1812186)"
            ],
            "text/plain": [
              "<IPython.core.display.Javascript object>"
            ]
          },
          "metadata": {
            "tags": []
          }
        },
        {
          "output_type": "display_data",
          "data": {
            "application/javascript": [
              "\n",
              "    async function download(id, filename, size) {\n",
              "      if (!google.colab.kernel.accessAllowed) {\n",
              "        return;\n",
              "      }\n",
              "      const div = document.createElement('div');\n",
              "      const label = document.createElement('label');\n",
              "      label.textContent = `Downloading \"${filename}\": `;\n",
              "      div.appendChild(label);\n",
              "      const progress = document.createElement('progress');\n",
              "      progress.max = size;\n",
              "      div.appendChild(progress);\n",
              "      document.body.appendChild(div);\n",
              "\n",
              "      const buffers = [];\n",
              "      let downloaded = 0;\n",
              "\n",
              "      const channel = await google.colab.kernel.comms.open(id);\n",
              "      // Send a message to notify the kernel that we're ready.\n",
              "      channel.send({})\n",
              "\n",
              "      for await (const message of channel.messages) {\n",
              "        // Send a message to notify the kernel that we're ready.\n",
              "        channel.send({})\n",
              "        if (message.buffers) {\n",
              "          for (const buffer of message.buffers) {\n",
              "            buffers.push(buffer);\n",
              "            downloaded += buffer.byteLength;\n",
              "            progress.value = downloaded;\n",
              "          }\n",
              "        }\n",
              "      }\n",
              "      const blob = new Blob(buffers, {type: 'application/binary'});\n",
              "      const a = document.createElement('a');\n",
              "      a.href = window.URL.createObjectURL(blob);\n",
              "      a.download = filename;\n",
              "      div.appendChild(a);\n",
              "      a.click();\n",
              "      div.remove();\n",
              "    }\n",
              "  "
            ],
            "text/plain": [
              "<IPython.core.display.Javascript object>"
            ]
          },
          "metadata": {
            "tags": []
          }
        },
        {
          "output_type": "display_data",
          "data": {
            "application/javascript": [
              "download(\"download_a6f31498-5585-404f-bf34-fc3147a360a4\", \"meta.tsv\", 75974)"
            ],
            "text/plain": [
              "<IPython.core.display.Javascript object>"
            ]
          },
          "metadata": {
            "tags": []
          }
        }
      ]
    },
    {
      "cell_type": "code",
      "metadata": {
        "id": "WGlvoEFnez64",
        "outputId": "40281f9a-d13c-4a7e-d942-e9d6f9952993",
        "colab": {
          "base_uri": "https://localhost:8080/"
        }
      },
      "source": [
        "sentence = [\"granny starting to fear spiders in the garden might be real\", \"game of thrones season finale showing this sunday night\"]\n",
        "sequences = tokenizer.texts_to_sequences(sentence)\n",
        "padded = pad_sequences(sequences, maxlen=max_length, padding=padding_type, truncating=trunc_type)\n",
        "print(model.predict(padded))"
      ],
      "execution_count": 23,
      "outputs": [
        {
          "output_type": "stream",
          "text": [
            "[[8.2088190e-01]\n",
            " [1.0568265e-05]]\n"
          ],
          "name": "stdout"
        }
      ]
    }
  ]
}
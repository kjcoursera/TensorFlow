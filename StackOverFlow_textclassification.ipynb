{
  "nbformat": 4,
  "nbformat_minor": 0,
  "metadata": {
    "colab": {
      "name": "StackOverFlow_textclassification.ipynb",
      "provenance": [],
      "collapsed_sections": [],
      "authorship_tag": "ABX9TyOQL5ermw4iuRlGAeQnWUQb",
      "include_colab_link": true
    },
    "kernelspec": {
      "name": "python3",
      "display_name": "Python 3"
    }
  },
  "cells": [
    {
      "cell_type": "markdown",
      "metadata": {
        "id": "view-in-github",
        "colab_type": "text"
      },
      "source": [
        "<a href=\"https://colab.research.google.com/github/kjcoursera/TensorFlow/blob/main/StackOverFlow_textclassification.ipynb\" target=\"_parent\"><img src=\"https://colab.research.google.com/assets/colab-badge.svg\" alt=\"Open In Colab\"/></a>"
      ]
    },
    {
      "cell_type": "code",
      "metadata": {
        "id": "-QCPUG9_-XMX",
        "outputId": "942e60ba-a6f7-47f5-a826-441070c601b8",
        "colab": {
          "base_uri": "https://localhost:8080/",
          "height": 34
        }
      },
      "source": [
        "# TensorFlow and tf.keras\n",
        "import tensorflow as tf\n",
        "\n",
        "# Helper libraries\n",
        "import numpy as np\n",
        "import pandas as pd\n",
        "import matplotlib.pyplot as plt\n",
        "\n",
        "print(tf.__version__)"
      ],
      "execution_count": null,
      "outputs": [
        {
          "output_type": "stream",
          "text": [
            "2.3.0\n"
          ],
          "name": "stdout"
        }
      ]
    },
    {
      "cell_type": "code",
      "metadata": {
        "id": "mf-VBFQIA2kL"
      },
      "source": [
        "import os\n",
        "import re\n",
        "import shutil\n",
        "import string\n",
        "\n",
        "from tensorflow.keras import layers\n",
        "from tensorflow.keras import losses\n",
        "from tensorflow.keras import preprocessing\n",
        "from tensorflow.keras.layers.experimental.preprocessing import TextVectorization"
      ],
      "execution_count": null,
      "outputs": []
    },
    {
      "cell_type": "code",
      "metadata": {
        "id": "JHMSgN5HA56h",
        "outputId": "19a0bc60-cf84-4897-bc7b-aea2eaeacac1",
        "colab": {
          "base_uri": "https://localhost:8080/",
          "height": 52
        }
      },
      "source": [
        "url = \"http://storage.googleapis.com/download.tensorflow.org/data/stack_overflow_16k.tar.gz\"\n",
        "\n",
        "dataset = tf.keras.utils.get_file(\"stack_overflow_16k.tar.gz\", url,\n",
        "                                    untar=True, cache_dir='.',\n",
        "                                    cache_subdir='')"
      ],
      "execution_count": null,
      "outputs": [
        {
          "output_type": "stream",
          "text": [
            "Downloading data from http://storage.googleapis.com/download.tensorflow.org/data/stack_overflow_16k.tar.gz\n",
            "6053888/6053168 [==============================] - 0s 0us/step\n"
          ],
          "name": "stdout"
        }
      ]
    },
    {
      "cell_type": "code",
      "metadata": {
        "id": "THCzVXguBVQk",
        "outputId": "fd9d64a4-8ae2-44a4-f90b-69f379ebb4ec",
        "colab": {
          "base_uri": "https://localhost:8080/",
          "height": 34
        }
      },
      "source": [
        "print(dataset)\n",
        "dataset_dir = os.path.join(os.path.dirname(dataset), 'stack_overflow_16k')"
      ],
      "execution_count": null,
      "outputs": [
        {
          "output_type": "stream",
          "text": [
            "./stack_overflow_16k.tar.gz\n"
          ],
          "name": "stdout"
        }
      ]
    },
    {
      "cell_type": "code",
      "metadata": {
        "id": "ppOg4JjWBo79",
        "outputId": "450716c7-33e6-4cb9-a629-513a469d7055",
        "colab": {
          "base_uri": "https://localhost:8080/",
          "height": 34
        }
      },
      "source": [
        "print(dataset_dir)"
      ],
      "execution_count": null,
      "outputs": [
        {
          "output_type": "stream",
          "text": [
            "./stack_overflow_16k\n"
          ],
          "name": "stdout"
        }
      ]
    },
    {
      "cell_type": "code",
      "metadata": {
        "id": "9Fn8Isg4VGeR",
        "outputId": "62812875-3796-4541-81ff-940145c9e34a",
        "colab": {
          "base_uri": "https://localhost:8080/",
          "height": 34
        }
      },
      "source": [
        "train_dir = os.path.join('.', 'train')\n",
        "os.listdir(train_dir)"
      ],
      "execution_count": null,
      "outputs": [
        {
          "output_type": "execute_result",
          "data": {
            "text/plain": [
              "['csharp', 'javascript', 'java', 'python']"
            ]
          },
          "metadata": {
            "tags": []
          },
          "execution_count": 7
        }
      ]
    },
    {
      "cell_type": "code",
      "metadata": {
        "id": "UePyocPzVP52",
        "outputId": "9efa29f5-7b68-461b-eb76-251c7fbd65eb",
        "colab": {
          "base_uri": "https://localhost:8080/",
          "height": 72
        }
      },
      "source": [
        "sample_file = os.path.join(train_dir, 'python/1000.txt')\n",
        "with open(sample_file) as f:\n",
        "  print(f.read())"
      ],
      "execution_count": null,
      "outputs": [
        {
          "output_type": "stream",
          "text": [
            "\"why is calling randint inside a class giving each instance of that class the same values? here is my code : ..population_size = 100.individuals = [].size = 10..def get_random_pos(a, b):.    return random.randint(a, b)..def generate_population():.    for i in range(population_size):.def get_random_col(c, d):.    return random.randint(c, d)..class particle:.    color = (get_random_col(0, 255), get_random_col(0, 255), get_random_col(0, 255)).    id = 0..    def __init__(self, rect):.        particle.id += 1.        self.color = self.color.        self.id = particle.id.        self.rect = rect...for each individual i want a random but what i get is a same random color for every individuals. i would like to understand why this is : ..color = (get_random_col(0, 255), get_random_col(0, 255), get_random_col(0, 255)).    id = 0..    def __init__(self, rect):.        particle.id += 1.        self.color = self.color.        self.id = particle.id.        self.rect = rect...isn't working as i want. thank you to help me ! bye !\"\n",
            "\n"
          ],
          "name": "stdout"
        }
      ]
    },
    {
      "cell_type": "code",
      "metadata": {
        "id": "os5-cuKph6KA",
        "outputId": "b532ebcd-5ace-4d56-b1ca-e2c367f2a33f",
        "colab": {
          "base_uri": "https://localhost:8080/",
          "height": 104
        }
      },
      "source": [
        "batch_size = 32\n",
        "seed = 42\n",
        "\n",
        "raw_train_ds = tf.keras.preprocessing.text_dataset_from_directory(\n",
        "    'train', \n",
        "    batch_size=batch_size, \n",
        "    validation_split=0.2, \n",
        "    subset='training', \n",
        "    seed=seed)\n",
        "raw_val_ds = tf.keras.preprocessing.text_dataset_from_directory(\n",
        "    'train', \n",
        "    batch_size=batch_size, \n",
        "    validation_split=0.2, \n",
        "    subset='validation', \n",
        "    seed=seed)\n",
        "raw_test_ds = tf.keras.preprocessing.text_dataset_from_directory(\n",
        "    'test', batch_size=batch_size)"
      ],
      "execution_count": null,
      "outputs": [
        {
          "output_type": "stream",
          "text": [
            "Found 8000 files belonging to 4 classes.\n",
            "Using 6400 files for training.\n",
            "Found 8000 files belonging to 4 classes.\n",
            "Using 1600 files for validation.\n",
            "Found 8000 files belonging to 4 classes.\n"
          ],
          "name": "stdout"
        }
      ]
    },
    {
      "cell_type": "code",
      "metadata": {
        "id": "Ikc5ijF6i1zJ",
        "outputId": "fb79257e-c933-4d40-c5c6-95107fe55689",
        "colab": {
          "base_uri": "https://localhost:8080/",
          "height": 34
        }
      },
      "source": [
        "print(raw_train_ds.class_names)"
      ],
      "execution_count": null,
      "outputs": [
        {
          "output_type": "stream",
          "text": [
            "['csharp', 'java', 'javascript', 'python']\n"
          ],
          "name": "stdout"
        }
      ]
    },
    {
      "cell_type": "code",
      "metadata": {
        "id": "RO8pyfHtmDZl",
        "outputId": "aef31c77-d994-4b14-ce05-51e1854be06e",
        "colab": {
          "base_uri": "https://localhost:8080/",
          "height": 141
        }
      },
      "source": [
        "for text_batch, label_batch in raw_train_ds.take(1):\n",
        "  for i in range(3):\n",
        "    print(\"Review\", text_batch.numpy()[i])\n",
        "    print(\"Label\", label_batch.numpy()[i])"
      ],
      "execution_count": null,
      "outputs": [
        {
          "output_type": "stream",
          "text": [
            "Review b'\"my tester is going to the wrong constructor i am new to programming so if i ask a question that can be easily fixed, please forgive me. my program has a tester class with a main. when i send that to my regularpolygon class, it sends it to the wrong constructor. i have two constructors. 1 without perameters..public regularpolygon().    {.       mynumsides = 5;.       mysidelength = 30;.    }//end default constructor...and my second, with perameters. ..public regularpolygon(int numsides, double sidelength).    {.        mynumsides = numsides;.        mysidelength = sidelength;.    }// end constructor...in my tester class i have these two lines:..regularpolygon shape = new regularpolygon(numsides, sidelength);.        shape.menu();...numsides and sidelength were declared and initialized earlier in the testing class...so what i want to happen, is the tester class sends numsides and sidelength to the second constructor and use it in that class. but it only uses the default constructor, which therefor ruins the whole rest of the program. can somebody help me?..for those of you who want to see more of my code: here you go..public double vertexangle().    {.        system.out.println(\"\"the vertex angle method: \"\" + mynumsides);// prints out 5.        system.out.println(\"\"the vertex angle method: \"\" + mysidelength); // prints out 30..        double vertexangle;.        vertexangle = ((mynumsides - 2.0) / mynumsides) * 180.0;.        return vertexangle;.    }//end method vertexangle..public void menu().{.    system.out.println(mynumsides); // prints out what the user puts in.    system.out.println(mysidelength); // prints out what the user puts in.    gotographic();.    calcr(mynumsides, mysidelength);.    calcr(mynumsides, mysidelength);.    print(); .}// end menu...this is my entire tester class:..public static void main(string[] arg).{.    int numsides;.    double sidelength;.    scanner keyboard = new scanner(system.in);..    system.out.println(\"\"welcome to the regular polygon program!\"\");.    system.out.println();..    system.out.print(\"\"enter the number of sides of the polygon ==&gt; \"\");.    numsides = keyboard.nextint();.    system.out.println();..    system.out.print(\"\"enter the side length of each side ==&gt; \"\");.    sidelength = keyboard.nextdouble();.    system.out.println();..    regularpolygon shape = new regularpolygon(numsides, sidelength);.    shape.menu();.}//end main...for testing it i sent it numsides 4 and sidelength 100.\"\\n'\n",
            "Label 1\n",
            "Review b'\"blank code slow skin detection this code changes the color space to lab and using a threshold finds the skin area of an image. but it\\'s ridiculously slow. i don\\'t know how to make it faster ?    ..from colormath.color_objects import *..def skindetection(img, treshold=80, color=[255,20,147]):..    print img.shape.    res=img.copy().    for x in range(img.shape[0]):.        for y in range(img.shape[1]):.            rgbimg=rgbcolor(img[x,y,0],img[x,y,1],img[x,y,2]).            labimg=rgbimg.convert_to(\\'lab\\', debug=false).            if (labimg.lab_l &gt; treshold):.                res[x,y,:]=color.            else: .                res[x,y,:]=img[x,y,:]..    return res\"\\n'\n",
            "Label 3\n",
            "Review b'\"option and validation in blank i want to add a new option on my system where i want to add two text files, both rental.txt and customer.txt. inside each text are id numbers of the customer, the videotape they need and the price...i want to place it as an option on my code. right now i have:...add customer.rent return.view list.search.exit...i want to add this as my sixth option. say for example i ordered a video, it would display the price and would let me confirm the price and if i am going to buy it or not...here is my current code:..  import blank.io.*;.    import blank.util.arraylist;.    import static blank.lang.system.out;..    public class rentalsystem{.    static bufferedreader input = new bufferedreader(new inputstreamreader(system.in));.    static file file = new file(\"\"file.txt\"\");.    static arraylist&lt;string&gt; list = new arraylist&lt;string&gt;();.    static int rows;..    public static void main(string[] args) throws exception{.        introduction();.        system.out.print(\"\"nn\"\");.        login();.        system.out.print(\"\"nnnnnnnnnnnnnnnnnnnnnn\"\");.        introduction();.        string repeat;.        do{.            loadfile();.            system.out.print(\"\"nwhat do you want to do?nn\"\");.            system.out.print(\"\"n                    - - - - - - - - - - - - - - - - - - - - - - -\"\");.            system.out.print(\"\"nn                    |     1. add customer    |   2. rent return |n\"\");.            system.out.print(\"\"n                    - - - - - - - - - - - - - - - - - - - - - - -\"\");.            system.out.print(\"\"nn                    |     3. view list       |   4. search      |n\"\");.            system.out.print(\"\"n                    - - - - - - - - - - - - - - - - - - - - - - -\"\");.            system.out.print(\"\"nn                                             |   5. exit        |n\"\");.            system.out.print(\"\"n                                              - - - - - - - - - -\"\");.            system.out.print(\"\"nnchoice:\"\");.            int choice = integer.parseint(input.readline());.            switch(choice){.                case 1:.                    writedata();.                    break;.                case 2:.                    rentdata();.                    break;.                case 3:.                    viewlist();.                    break;.                case 4:.                    search();.                    break;.                case 5:.                    system.out.println(\"\"goodbye!\"\");.                    system.exit(0);.                default:.                    system.out.print(\"\"invalid choice: \"\");.                    break;.            }.            system.out.print(\"\"ndo another task? [y/n] \"\");.            repeat = input.readline();.        }while(repeat.equals(\"\"y\"\"));..        if(repeat!=\"\"y\"\") system.out.println(\"\"ngoodbye!\"\");..    }..    public static void writedata() throws exception{.        system.out.print(\"\"nname: \"\");.        string cname = input.readline();.        system.out.print(\"\"address: \"\");.        string add = input.readline();.        system.out.print(\"\"phone no.: \"\");.        string pno = input.readline();.        system.out.print(\"\"rental amount: \"\");.        string ramount = input.readline();.        system.out.print(\"\"tapenumber: \"\");.        string tno = input.readline();.        system.out.print(\"\"title: \"\");.        string title = input.readline();.        system.out.print(\"\"date borrowed: \"\");.        string dborrowed = input.readline();.        system.out.print(\"\"due date: \"\");.        string ddate = input.readline();.        createline(cname, add, pno, ramount,tno, title, dborrowed, ddate);.        rentdata();.    }..    public static void createline(string name, string address, string phone , string rental, string tapenumber, string title, string borrowed, string due) throws exception{.        filewriter fw = new filewriter(file, true);.        fw.write(\"\"nname: \"\"+name + \"\"naddress: \"\" + address +\"\"nphone no.: \"\"+ phone+\"\"nrentalamount: \"\"+rental+\"\"ntape no.: \"\"+ tapenumber+\"\"ntitle: \"\"+ title+\"\"ndate borrowed: \"\"+borrowed +\"\"ndue date: \"\"+ due+\"\":rn\"\");.        fw.close();.    }..    public static void loadfile() throws exception{.        try{.            list.clear();.            fileinputstream fstream = new fileinputstream(file);.            bufferedreader br = new bufferedreader(new inputstreamreader(fstream));.            rows = 0;.            while( br.ready()).            {.                list.add(br.readline());.                rows++;.            }.            br.close();.        } catch(exception e){.            system.out.println(\"\"list not yet loaded.\"\");.        }.    }..    public static void viewlist(){.        system.out.print(\"\"n~ ~ ~ ~ ~ ~ ~ ~ ~ ~ ~\"\");.        system.out.print(\"\" |list of all costumers|\"\");.        system.out.print(\"\"~ ~ ~ ~ ~ ~ ~ ~ ~ ~ ~\"\");.        for(int i = 0; i &lt;rows; i++){.            system.out.println(list.get(i));.        }.    }.        public static void rentdata()throws exception.    {   system.out.print(\"\"n~ ~ ~ ~ ~ ~ ~ ~ ~ ~ ~\"\");.        system.out.print(\"\" |rent data list|\"\");.        system.out.print(\"\"~ ~ ~ ~ ~ ~ ~ ~ ~ ~ ~\"\");.        system.out.print(\"\"nenter customer name: \"\");.        string cname = input.readline();.        system.out.print(\"\"date borrowed: \"\");.        string dborrowed = input.readline();.        system.out.print(\"\"due date: \"\");.        string ddate = input.readline();.        system.out.print(\"\"return date: \"\");.        string rdate = input.readline();.        system.out.print(\"\"rent amount: \"\");.        string ramount = input.readline();..        system.out.print(\"\"you pay:\"\"+ramount);...    }.    public static void search()throws exception.    {   system.out.print(\"\"n~ ~ ~ ~ ~ ~ ~ ~ ~ ~ ~\"\");.        system.out.print(\"\" |search costumers|\"\");.        system.out.print(\"\"~ ~ ~ ~ ~ ~ ~ ~ ~ ~ ~\"\");.        system.out.print(\"\"nenter costumer name: \"\");.        string cname = input.readline();.        boolean found = false;..        for(int i=0; i &lt; rows; i++){.            string temp[] = list.get(i).split(\"\",\"\");..            if(cname.equals(temp[0])){.            system.out.println(\"\"search result:nyou are \"\" + temp[0] + \"\" from \"\" + temp[1] + \"\".\"\"+ temp[2] + \"\".\"\"+ temp[3] + \"\".\"\"+ temp[4] + \"\".\"\"+ temp[5] + \"\" is \"\" + temp[6] + \"\".\"\"+ temp[7] + \"\" is \"\" + temp[8] + \"\".\"\");.                found = true;.            }.        }..        if(!found){.            system.out.print(\"\"no results.\"\");.        }..    }..        public static boolean evaluate(string uname, string pass){.        if (uname.equals(\"\"admin\"\")&amp;&amp;pass.equals(\"\"12345\"\")) return true;.        else return false;.    }..    public static string login()throws exception{.        bufferedreader input=new bufferedreader(new inputstreamreader(system.in));.        int counter=0;.        do{.            system.out.print(\"\"username:\"\");.            string uname =input.readline();.            system.out.print(\"\"password:\"\");.            string pass =input.readline();..            boolean accept= evaluate(uname,pass);..            if(accept){.                break;.                }else{.                    system.out.println(\"\"incorrect username or password!\"\");.                    counter ++;.                    }.        }while(counter&lt;3);..            if(counter !=3) return \"\"login successful\"\";.            else return \"\"login failed\"\";.            }.        public static void introduction() throws exception{..        system.out.println(\"\"                  - - - - - - - - - - - - - - - - - - - - - - - - -\"\");.        system.out.println(\"\"                  !                  r e n t a l                  !\"\");.        system.out.println(\"\"                   ! ~ ~ ~ ~ ~ !  =================  ! ~ ~ ~ ~ ~ !\"\");.        system.out.println(\"\"                  !                  s y s t e m                  !\"\");.        system.out.println(\"\"                  - - - - - - - - - - - - - - - - - - - - - - - - -\"\");.        }..}\"\\n'\n",
            "Label 1\n"
          ],
          "name": "stdout"
        }
      ]
    },
    {
      "cell_type": "code",
      "metadata": {
        "id": "-Vdqc4T6mITZ",
        "outputId": "3a542bb0-5881-47c8-b3c4-882c0d65920c",
        "colab": {
          "base_uri": "https://localhost:8080/",
          "height": 86
        }
      },
      "source": [
        "print(\"Label 0 corresponds to\", raw_train_ds.class_names[0])\n",
        "print(\"Label 1 corresponds to\", raw_train_ds.class_names[1])\n",
        "print(\"Label 2 corresponds to\", raw_train_ds.class_names[2])\n",
        "print(\"Label 3 corresponds to\", raw_train_ds.class_names[3])"
      ],
      "execution_count": null,
      "outputs": [
        {
          "output_type": "stream",
          "text": [
            "Label 0 corresponds to csharp\n",
            "Label 1 corresponds to java\n",
            "Label 2 corresponds to javascript\n",
            "Label 3 corresponds to python\n"
          ],
          "name": "stdout"
        }
      ]
    },
    {
      "cell_type": "code",
      "metadata": {
        "id": "mcNIt1LOmyXm"
      },
      "source": [
        "def custom_standardization(input_data):\n",
        "  lowercase = tf.strings.lower(input_data)\n",
        "  stripped_html = tf.strings.regex_replace(lowercase, '<br />', ' ')\n",
        "  return tf.strings.regex_replace(stripped_html,\n",
        "                                  '[%s]' % re.escape(string.punctuation),\n",
        "                                  '')"
      ],
      "execution_count": null,
      "outputs": []
    },
    {
      "cell_type": "code",
      "metadata": {
        "id": "a3P3qoPpm6M-"
      },
      "source": [
        "max_features = 10000\n",
        "sequence_length = 250\n",
        "\n",
        "vectorize_layer = TextVectorization(\n",
        "    standardize=custom_standardization,\n",
        "    max_tokens=max_features,\n",
        "    output_mode='int',\n",
        "    output_sequence_length=sequence_length)"
      ],
      "execution_count": null,
      "outputs": []
    },
    {
      "cell_type": "code",
      "metadata": {
        "id": "ytL5xLLGm7kG"
      },
      "source": [
        "# Make a text-only dataset (without labels), then call adapt\n",
        "train_text = raw_train_ds.map(lambda x, y: x)\n",
        "vectorize_layer.adapt(train_text)"
      ],
      "execution_count": null,
      "outputs": []
    },
    {
      "cell_type": "code",
      "metadata": {
        "id": "2P2kv__SnBUp"
      },
      "source": [
        "def vectorize_text(text, label):\n",
        "  text = tf.expand_dims(text, -1)\n",
        "  return vectorize_layer(text), label"
      ],
      "execution_count": null,
      "outputs": []
    },
    {
      "cell_type": "code",
      "metadata": {
        "id": "z23H3QJXnEx8",
        "outputId": "4dee8f43-f738-4d9f-ac8c-37a4d1a5fea0",
        "colab": {
          "base_uri": "https://localhost:8080/",
          "height": 489
        }
      },
      "source": [
        "# retrieve a batch (of 32 reviews and labels) from the dataset\n",
        "text_batch, label_batch = next(iter(raw_train_ds))\n",
        "first_review, first_label = text_batch[0], label_batch[0]\n",
        "print(\"Review\", first_review)\n",
        "print(\"Label\", raw_train_ds.class_names[first_label])\n",
        "print(\"Vectorized review\", vectorize_text(first_review, first_label))"
      ],
      "execution_count": null,
      "outputs": [
        {
          "output_type": "stream",
          "text": [
            "Review tf.Tensor(b'\"unit testing of setters and getters teacher wanted us to do a comprehensive unit test. for me, this will be the first time that i use junit. i am confused about testing set and get methods. do you think should i test them? if the answer is yes; is this code enough for testing?..  public void testsetandget(){.    int a = 10;.    class firstclass = new class();.    firstclass.setvalue(10);.    int value = firstclass.getvalue();.    assert.asserttrue(\"\"error\"\", value==a);.  }...in my code, i think if there is an error, we can\\'t know that the error is deriving because of setter or getter.\"\\n', shape=(), dtype=string)\n",
            "Label java\n",
            "Vectorized review (<tf.Tensor: shape=(1, 250), dtype=int64, numpy=\n",
            "array([[1011,  773,    9, 2456,    8, 1863, 2362,  690, 1267,    4,   40,\n",
            "           5,    1, 1011,  196,   12,   74,   13,   72,   33,    2,   98,\n",
            "         105,   14,    3,   70, 9611,    3,   34,  888,  202,  773,  107,\n",
            "           8,   41,  242,   40,   58,  291,   90,    3,  196,  191,   10,\n",
            "           2,  182,    6,  668,    6,   13,   30, 1187,   12,  773,   22,\n",
            "          42,    1,   28,    5,  140,   29, 5213,   15,   29,    1,   28,\n",
            "          51,    1,    1,    1,    7,   23,   30,    3,  291,   10,   67,\n",
            "           6,   32,   65,  185,  166,  102,   14,    2,   65,    6,    1,\n",
            "         193,    9, 2784,   45, 2410,    0,    0,    0,    0,    0,    0,\n",
            "           0,    0,    0,    0,    0,    0,    0,    0,    0,    0,    0,\n",
            "           0,    0,    0,    0,    0,    0,    0,    0,    0,    0,    0,\n",
            "           0,    0,    0,    0,    0,    0,    0,    0,    0,    0,    0,\n",
            "           0,    0,    0,    0,    0,    0,    0,    0,    0,    0,    0,\n",
            "           0,    0,    0,    0,    0,    0,    0,    0,    0,    0,    0,\n",
            "           0,    0,    0,    0,    0,    0,    0,    0,    0,    0,    0,\n",
            "           0,    0,    0,    0,    0,    0,    0,    0,    0,    0,    0,\n",
            "           0,    0,    0,    0,    0,    0,    0,    0,    0,    0,    0,\n",
            "           0,    0,    0,    0,    0,    0,    0,    0,    0,    0,    0,\n",
            "           0,    0,    0,    0,    0,    0,    0,    0,    0,    0,    0,\n",
            "           0,    0,    0,    0,    0,    0,    0,    0,    0,    0,    0,\n",
            "           0,    0,    0,    0,    0,    0,    0,    0,    0,    0,    0,\n",
            "           0,    0,    0,    0,    0,    0,    0,    0,    0,    0,    0,\n",
            "           0,    0,    0,    0,    0,    0,    0,    0]])>, <tf.Tensor: shape=(), dtype=int32, numpy=1>)\n"
          ],
          "name": "stdout"
        }
      ]
    },
    {
      "cell_type": "code",
      "metadata": {
        "id": "GlM2GN8RnGNr",
        "outputId": "9cc371d7-48d7-4cd6-9f05-60729da76c02",
        "colab": {
          "base_uri": "https://localhost:8080/",
          "height": 69
        }
      },
      "source": [
        "print(\"1287 ---> \",vectorize_layer.get_vocabulary()[1287])\n",
        "print(\" 313 ---> \",vectorize_layer.get_vocabulary()[313])\n",
        "print('Vocabulary size: {}'.format(len(vectorize_layer.get_vocabulary())))"
      ],
      "execution_count": null,
      "outputs": [
        {
          "output_type": "stream",
          "text": [
            "1287 --->  scissors\n",
            " 313 --->  source\n",
            "Vocabulary size: 10000\n"
          ],
          "name": "stdout"
        }
      ]
    },
    {
      "cell_type": "code",
      "metadata": {
        "id": "DjVRzpm3nMtF"
      },
      "source": [
        "train_ds = raw_train_ds.map(vectorize_text)\n",
        "val_ds = raw_val_ds.map(vectorize_text)\n",
        "test_ds = raw_test_ds.map(vectorize_text)"
      ],
      "execution_count": null,
      "outputs": []
    },
    {
      "cell_type": "code",
      "metadata": {
        "id": "8c8LD47UnNy2"
      },
      "source": [
        "AUTOTUNE = tf.data.experimental.AUTOTUNE\n",
        "\n",
        "train_ds = train_ds.cache().prefetch(buffer_size=AUTOTUNE)\n",
        "val_ds = val_ds.cache().prefetch(buffer_size=AUTOTUNE)\n",
        "test_ds = test_ds.cache().prefetch(buffer_size=AUTOTUNE)"
      ],
      "execution_count": null,
      "outputs": []
    },
    {
      "cell_type": "code",
      "metadata": {
        "id": "jtW7Bv82nR14",
        "outputId": "74a47172-886c-4e96-d157-1e30a67a34ee",
        "colab": {
          "base_uri": "https://localhost:8080/",
          "height": 330
        }
      },
      "source": [
        "embedding_dim = 16\n",
        "\n",
        "model = tf.keras.Sequential([\n",
        "  layers.Embedding(max_features + 1, embedding_dim),\n",
        "  layers.Dropout(0.2),\n",
        "  layers.GlobalAveragePooling1D(),\n",
        "  layers.Dropout(0.2),\n",
        "  layers.Dense(1)])\n",
        "\n",
        "model.summary()"
      ],
      "execution_count": null,
      "outputs": [
        {
          "output_type": "stream",
          "text": [
            "Model: \"sequential\"\n",
            "_________________________________________________________________\n",
            "Layer (type)                 Output Shape              Param #   \n",
            "=================================================================\n",
            "embedding (Embedding)        (None, None, 16)          160016    \n",
            "_________________________________________________________________\n",
            "dropout (Dropout)            (None, None, 16)          0         \n",
            "_________________________________________________________________\n",
            "global_average_pooling1d (Gl (None, 16)                0         \n",
            "_________________________________________________________________\n",
            "dropout_1 (Dropout)          (None, 16)                0         \n",
            "_________________________________________________________________\n",
            "dense (Dense)                (None, 1)                 17        \n",
            "=================================================================\n",
            "Total params: 160,033\n",
            "Trainable params: 160,033\n",
            "Non-trainable params: 0\n",
            "_________________________________________________________________\n"
          ],
          "name": "stdout"
        }
      ]
    },
    {
      "cell_type": "code",
      "metadata": {
        "id": "SuBM315xnUD1",
        "outputId": "bab2a8e0-51e3-43dc-dfb0-f68ed34e1668",
        "colab": {
          "base_uri": "https://localhost:8080/",
          "height": 1000
        }
      },
      "source": [
        "model.compile(loss=losses.BinaryCrossentropy(from_logits=True),\n",
        "              optimizer='adam',\n",
        "              metrics=tf.metrics.BinaryAccuracy(threshold=0.0))\n",
        "epochs = 50\n",
        "history = model.fit(\n",
        "    train_ds,\n",
        "    validation_data=val_ds,\n",
        "    epochs=epochs)"
      ],
      "execution_count": null,
      "outputs": [
        {
          "output_type": "stream",
          "text": [
            "Epoch 1/50\n",
            "200/200 [==============================] - 1s 7ms/step - loss: -54.1355 - binary_accuracy: 0.2478 - val_loss: -61.4801 - val_binary_accuracy: 0.2587\n",
            "Epoch 2/50\n",
            "200/200 [==============================] - 1s 6ms/step - loss: -61.9939 - binary_accuracy: 0.2478 - val_loss: -69.8247 - val_binary_accuracy: 0.2587\n",
            "Epoch 3/50\n",
            "200/200 [==============================] - 1s 6ms/step - loss: -69.7943 - binary_accuracy: 0.2478 - val_loss: -78.8443 - val_binary_accuracy: 0.2587\n",
            "Epoch 4/50\n",
            "200/200 [==============================] - 1s 6ms/step - loss: -78.7497 - binary_accuracy: 0.2478 - val_loss: -88.6231 - val_binary_accuracy: 0.2587\n",
            "Epoch 5/50\n",
            "200/200 [==============================] - 1s 7ms/step - loss: -88.5409 - binary_accuracy: 0.2478 - val_loss: -99.1738 - val_binary_accuracy: 0.2587\n",
            "Epoch 6/50\n",
            "200/200 [==============================] - 1s 6ms/step - loss: -99.0011 - binary_accuracy: 0.2478 - val_loss: -110.4907 - val_binary_accuracy: 0.2587\n",
            "Epoch 7/50\n",
            "200/200 [==============================] - 1s 6ms/step - loss: -109.6036 - binary_accuracy: 0.2478 - val_loss: -122.4909 - val_binary_accuracy: 0.2587\n",
            "Epoch 8/50\n",
            "200/200 [==============================] - 1s 6ms/step - loss: -121.3528 - binary_accuracy: 0.2478 - val_loss: -135.2476 - val_binary_accuracy: 0.2587\n",
            "Epoch 9/50\n",
            "200/200 [==============================] - 1s 6ms/step - loss: -134.4196 - binary_accuracy: 0.2478 - val_loss: -148.7737 - val_binary_accuracy: 0.2587\n",
            "Epoch 10/50\n",
            "200/200 [==============================] - 1s 6ms/step - loss: -147.6944 - binary_accuracy: 0.2478 - val_loss: -162.9982 - val_binary_accuracy: 0.2587\n",
            "Epoch 11/50\n",
            "200/200 [==============================] - 1s 6ms/step - loss: -160.9730 - binary_accuracy: 0.2478 - val_loss: -177.8673 - val_binary_accuracy: 0.2587\n",
            "Epoch 12/50\n",
            "200/200 [==============================] - 1s 6ms/step - loss: -175.8922 - binary_accuracy: 0.2478 - val_loss: -193.4481 - val_binary_accuracy: 0.2587\n",
            "Epoch 13/50\n",
            "200/200 [==============================] - 1s 6ms/step - loss: -190.7634 - binary_accuracy: 0.2478 - val_loss: -209.6400 - val_binary_accuracy: 0.2587\n",
            "Epoch 14/50\n",
            "200/200 [==============================] - 1s 6ms/step - loss: -206.0574 - binary_accuracy: 0.2478 - val_loss: -226.4851 - val_binary_accuracy: 0.2587\n",
            "Epoch 15/50\n",
            "200/200 [==============================] - 1s 6ms/step - loss: -223.0843 - binary_accuracy: 0.2478 - val_loss: -243.9693 - val_binary_accuracy: 0.2587\n",
            "Epoch 16/50\n",
            "200/200 [==============================] - 1s 6ms/step - loss: -238.2823 - binary_accuracy: 0.2478 - val_loss: -261.9888 - val_binary_accuracy: 0.2587\n",
            "Epoch 17/50\n",
            "200/200 [==============================] - 1s 6ms/step - loss: -256.0652 - binary_accuracy: 0.2478 - val_loss: -280.6572 - val_binary_accuracy: 0.2587\n",
            "Epoch 18/50\n",
            "200/200 [==============================] - 1s 6ms/step - loss: -275.6894 - binary_accuracy: 0.2478 - val_loss: -300.0184 - val_binary_accuracy: 0.2587\n",
            "Epoch 19/50\n",
            "200/200 [==============================] - 1s 6ms/step - loss: -294.4737 - binary_accuracy: 0.2478 - val_loss: -319.9666 - val_binary_accuracy: 0.2587\n",
            "Epoch 20/50\n",
            "200/200 [==============================] - 1s 6ms/step - loss: -312.4213 - binary_accuracy: 0.2478 - val_loss: -340.3941 - val_binary_accuracy: 0.2587\n",
            "Epoch 21/50\n",
            "200/200 [==============================] - 1s 6ms/step - loss: -330.5495 - binary_accuracy: 0.2478 - val_loss: -361.3107 - val_binary_accuracy: 0.2587\n",
            "Epoch 22/50\n",
            "200/200 [==============================] - 1s 6ms/step - loss: -354.0856 - binary_accuracy: 0.2478 - val_loss: -382.9983 - val_binary_accuracy: 0.2587\n",
            "Epoch 23/50\n",
            "200/200 [==============================] - 1s 6ms/step - loss: -373.0639 - binary_accuracy: 0.2478 - val_loss: -405.1454 - val_binary_accuracy: 0.2587\n",
            "Epoch 24/50\n",
            "200/200 [==============================] - 1s 6ms/step - loss: -394.0563 - binary_accuracy: 0.2478 - val_loss: -427.8172 - val_binary_accuracy: 0.2587\n",
            "Epoch 25/50\n",
            "200/200 [==============================] - 1s 6ms/step - loss: -416.0520 - binary_accuracy: 0.2478 - val_loss: -451.0378 - val_binary_accuracy: 0.2587\n",
            "Epoch 26/50\n",
            "200/200 [==============================] - 1s 6ms/step - loss: -437.8647 - binary_accuracy: 0.2478 - val_loss: -474.7998 - val_binary_accuracy: 0.2587\n",
            "Epoch 27/50\n",
            "200/200 [==============================] - 1s 6ms/step - loss: -461.2869 - binary_accuracy: 0.2478 - val_loss: -499.1671 - val_binary_accuracy: 0.2587\n",
            "Epoch 28/50\n",
            "200/200 [==============================] - 1s 6ms/step - loss: -483.9445 - binary_accuracy: 0.2478 - val_loss: -523.9874 - val_binary_accuracy: 0.2587\n",
            "Epoch 29/50\n",
            "200/200 [==============================] - 1s 6ms/step - loss: -507.4998 - binary_accuracy: 0.2478 - val_loss: -549.3231 - val_binary_accuracy: 0.2587\n",
            "Epoch 30/50\n",
            "200/200 [==============================] - 1s 7ms/step - loss: -529.9092 - binary_accuracy: 0.2478 - val_loss: -575.1582 - val_binary_accuracy: 0.2587\n",
            "Epoch 31/50\n",
            "200/200 [==============================] - 1s 7ms/step - loss: -559.7877 - binary_accuracy: 0.2478 - val_loss: -601.7115 - val_binary_accuracy: 0.2587\n",
            "Epoch 32/50\n",
            "200/200 [==============================] - 1s 7ms/step - loss: -581.7778 - binary_accuracy: 0.2478 - val_loss: -628.6042 - val_binary_accuracy: 0.2587\n",
            "Epoch 33/50\n",
            "200/200 [==============================] - 1s 7ms/step - loss: -608.1626 - binary_accuracy: 0.2478 - val_loss: -656.1054 - val_binary_accuracy: 0.2587\n",
            "Epoch 34/50\n",
            "200/200 [==============================] - 1s 7ms/step - loss: -635.8350 - binary_accuracy: 0.2478 - val_loss: -684.1509 - val_binary_accuracy: 0.2587\n",
            "Epoch 35/50\n",
            "200/200 [==============================] - 1s 7ms/step - loss: -662.9581 - binary_accuracy: 0.2478 - val_loss: -712.7115 - val_binary_accuracy: 0.2587\n",
            "Epoch 36/50\n",
            "200/200 [==============================] - 1s 7ms/step - loss: -685.8495 - binary_accuracy: 0.2478 - val_loss: -741.5914 - val_binary_accuracy: 0.2587\n",
            "Epoch 37/50\n",
            "200/200 [==============================] - 1s 6ms/step - loss: -715.1827 - binary_accuracy: 0.2478 - val_loss: -771.1687 - val_binary_accuracy: 0.2587\n",
            "Epoch 38/50\n",
            "200/200 [==============================] - 1s 7ms/step - loss: -739.5310 - binary_accuracy: 0.2478 - val_loss: -801.0576 - val_binary_accuracy: 0.2587\n",
            "Epoch 39/50\n",
            "200/200 [==============================] - 1s 7ms/step - loss: -772.8817 - binary_accuracy: 0.2478 - val_loss: -831.6439 - val_binary_accuracy: 0.2587\n",
            "Epoch 40/50\n",
            "200/200 [==============================] - 1s 7ms/step - loss: -801.2567 - binary_accuracy: 0.2478 - val_loss: -862.7531 - val_binary_accuracy: 0.2587\n",
            "Epoch 41/50\n",
            "200/200 [==============================] - 1s 6ms/step - loss: -828.4142 - binary_accuracy: 0.2478 - val_loss: -894.3005 - val_binary_accuracy: 0.2587\n",
            "Epoch 42/50\n",
            "200/200 [==============================] - 1s 6ms/step - loss: -860.6603 - binary_accuracy: 0.2478 - val_loss: -926.4207 - val_binary_accuracy: 0.2587\n",
            "Epoch 43/50\n",
            "200/200 [==============================] - 1s 6ms/step - loss: -896.1846 - binary_accuracy: 0.2478 - val_loss: -959.2045 - val_binary_accuracy: 0.2587\n",
            "Epoch 44/50\n",
            "200/200 [==============================] - 1s 7ms/step - loss: -924.3914 - binary_accuracy: 0.2478 - val_loss: -992.3596 - val_binary_accuracy: 0.2587\n",
            "Epoch 45/50\n",
            "200/200 [==============================] - 1s 6ms/step - loss: -955.7277 - binary_accuracy: 0.2478 - val_loss: -1026.0083 - val_binary_accuracy: 0.2587\n",
            "Epoch 46/50\n",
            "200/200 [==============================] - 1s 6ms/step - loss: -990.5858 - binary_accuracy: 0.2478 - val_loss: -1060.2874 - val_binary_accuracy: 0.2587\n",
            "Epoch 47/50\n",
            "200/200 [==============================] - 1s 6ms/step - loss: -1021.1459 - binary_accuracy: 0.2478 - val_loss: -1094.9520 - val_binary_accuracy: 0.2587\n",
            "Epoch 48/50\n",
            "200/200 [==============================] - 1s 6ms/step - loss: -1055.5507 - binary_accuracy: 0.2478 - val_loss: -1130.1370 - val_binary_accuracy: 0.2587\n",
            "Epoch 49/50\n",
            "200/200 [==============================] - 1s 6ms/step - loss: -1081.3796 - binary_accuracy: 0.2478 - val_loss: -1165.6630 - val_binary_accuracy: 0.2587\n",
            "Epoch 50/50\n",
            "200/200 [==============================] - 1s 6ms/step - loss: -1121.8246 - binary_accuracy: 0.2478 - val_loss: -1201.8824 - val_binary_accuracy: 0.2587\n"
          ],
          "name": "stdout"
        }
      ]
    },
    {
      "cell_type": "code",
      "metadata": {
        "id": "1L8Fri9_nc08",
        "outputId": "40b2d12a-45c6-4124-9846-0acd418102b7",
        "colab": {
          "base_uri": "https://localhost:8080/",
          "height": 69
        }
      },
      "source": [
        "loss, accuracy = model.evaluate(test_ds)\n",
        "\n",
        "print(\"Loss: \", loss)\n",
        "print(\"Accuracy: \", accuracy)"
      ],
      "execution_count": null,
      "outputs": [
        {
          "output_type": "stream",
          "text": [
            "250/250 [==============================] - 3s 12ms/step - loss: -51.6457 - binary_accuracy: 0.2500\n",
            "Loss:  -51.64566421508789\n",
            "Accuracy:  0.25\n"
          ],
          "name": "stdout"
        }
      ]
    },
    {
      "cell_type": "code",
      "metadata": {
        "id": "_B0jIrxgnmZZ",
        "outputId": "fc6873b0-26c4-4976-9320-e9ee1e5d0ba6",
        "colab": {
          "base_uri": "https://localhost:8080/",
          "height": 34
        }
      },
      "source": [
        "history_dict = history.history\n",
        "history_dict.keys()"
      ],
      "execution_count": null,
      "outputs": [
        {
          "output_type": "execute_result",
          "data": {
            "text/plain": [
              "dict_keys(['loss', 'binary_accuracy', 'val_loss', 'val_binary_accuracy'])"
            ]
          },
          "metadata": {
            "tags": []
          },
          "execution_count": 24
        }
      ]
    },
    {
      "cell_type": "code",
      "metadata": {
        "id": "scwv6ZJonng5",
        "outputId": "c58203ed-f09e-4863-a83e-cd378b4c85c2",
        "colab": {
          "base_uri": "https://localhost:8080/",
          "height": 295
        }
      },
      "source": [
        "acc = history_dict['binary_accuracy']\n",
        "val_acc = history_dict['val_binary_accuracy']\n",
        "loss = history_dict['loss']\n",
        "val_loss = history_dict['val_loss']\n",
        "\n",
        "epochs = range(1, len(acc) + 1)\n",
        "\n",
        "# \"bo\" is for \"blue dot\"\n",
        "plt.plot(epochs, loss, 'bo', label='Training loss')\n",
        "# b is for \"solid blue line\"\n",
        "plt.plot(epochs, val_loss, 'b', label='Validation loss')\n",
        "plt.title('Training and validation loss')\n",
        "plt.xlabel('Epochs')\n",
        "plt.ylabel('Loss')\n",
        "plt.legend()\n",
        "\n",
        "plt.show()"
      ],
      "execution_count": null,
      "outputs": [
        {
          "output_type": "display_data",
          "data": {
            "image/png": "[encoded data removed]",
            "text/plain": [
              "<Figure size 432x288 with 1 Axes>"
            ]
          },
          "metadata": {
            "tags": [],
            "needs_background": "light"
          }
        }
      ]
    },
    {
      "cell_type": "code",
      "metadata": {
        "id": "cDJX0DVkny2L",
        "outputId": "9a9f3f51-17db-4a1b-fd16-5fd93d50bfb4",
        "colab": {
          "base_uri": "https://localhost:8080/",
          "height": 295
        }
      },
      "source": [
        "plt.plot(epochs, acc, 'bo', label='Training acc')\n",
        "plt.plot(epochs, val_acc, 'b', label='Validation acc')\n",
        "plt.title('Training and validation accuracy')\n",
        "plt.xlabel('Epochs')\n",
        "plt.ylabel('Accuracy')\n",
        "plt.legend(loc='lower right')\n",
        "\n",
        "plt.show()\n"
      ],
      "execution_count": null,
      "outputs": [
        {
          "output_type": "display_data",
          "data": {
            "image/png": "[encoded data removed]",
            "text/plain": [
              "<Figure size 432x288 with 1 Axes>"
            ]
          },
          "metadata": {
            "tags": [],
            "needs_background": "light"
          }
        }
      ]
    }
  ]
}
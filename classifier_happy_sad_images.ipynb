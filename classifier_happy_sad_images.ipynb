{
  "nbformat": 4,
  "nbformat_minor": 0,
  "metadata": {
    "colab": {
      "name": "classifier_happy_sad_images.ipynb",
      "provenance": [],
      "authorship_tag": "ABX9TyPHOcWEk9FQ5NKDDhtftJeb",
      "include_colab_link": true
    },
    "kernelspec": {
      "name": "python3",
      "display_name": "Python 3"
    }
  },
  "cells": [
    {
      "cell_type": "markdown",
      "metadata": {
        "id": "view-in-github",
        "colab_type": "text"
      },
      "source": [
        "<a href=\"https://colab.research.google.com/github/kjcoursera/TensorFlow/blob/main/classifier_happy_sad_images.ipynb\" target=\"_parent\"><img src=\"https://colab.research.google.com/assets/colab-badge.svg\" alt=\"Open In Colab\"/></a>"
      ]
    },
    {
      "cell_type": "code",
      "metadata": {
        "id": "V_OuPsT5hOAj"
      },
      "source": [
        "import tensorflow as tf"
      ],
      "execution_count": 1,
      "outputs": []
    },
    {
      "cell_type": "code",
      "metadata": {
        "id": "Klx6CSaHf1w2"
      },
      "source": [
        "from google.colab import drive\n",
        "#drive.mount('/content/gdrive')\n",
        "root_path = '/content/gdrive/My Drive/Colab Notebooks/'"
      ],
      "execution_count": 6,
      "outputs": []
    },
    {
      "cell_type": "code",
      "metadata": {
        "id": "42H2IZ30tpgN",
        "outputId": "e7e873ef-8f19-4c01-b1fe-3610d728fda2",
        "colab": {
          "base_uri": "https://localhost:8080/"
        }
      },
      "source": [
        "!ls \"/content/gdrive/My Drive/Colab Notebooks\""
      ],
      "execution_count": 15,
      "outputs": [
        {
          "output_type": "stream",
          "text": [
            " Bacsic_Regression_with_Keras.ipynb\n",
            " Basic_text_classification.ipynb\n",
            " classifier_happy_sad_images.ipynb\n",
            " Classify_images_of_clothing\n",
            " Convolution_and_MaxPooling.ipynb\n",
            "'Copy of Linear Regression with Synthetic Data.ipynb'\n",
            " Epochs_callbacks.ipynb\n",
            "'Fashion_MNIST_with CNN.ipynb'\n",
            " happy-or-sad\n",
            " Human_vs_Horse_classifier.ipynb\n",
            " Intro_neural_nets_CA_housing.ipynb\n",
            " Intro_to_Fairness_in_ML\n",
            " Movie_reviews_positive_negative.ipynb\n",
            " MultiClas_Classification_Using_SoftMax_MINSTdata.ipynb\n",
            " simple_network.ipynb\n",
            " StackOverFlow_textclassification.ipynb\n"
          ],
          "name": "stdout"
        }
      ]
    },
    {
      "cell_type": "code",
      "metadata": {
        "id": "RQv2oIL7hXrV"
      },
      "source": [
        "def train_happy_sad_model():\n",
        "    # Please write your code only where you are indicated.\n",
        "    # please do not remove # model fitting inline comments.\n",
        "\n",
        "    DESIRED_ACCURACY = 0.999\n",
        "\n",
        "    class myCallback(tf.keras.callbacks.Callback):# your code):\n",
        "         # Your Code\n",
        "        def on_epoch_end(self, epoch, logs = {}):\n",
        "            if(logs.get('accuracy')> DESIRED_ACCURACY):\n",
        "                #print(\"\\nReached 99% accuracy so cancelling training!\")\n",
        "                self.model.stop_training = True\n",
        "        \n",
        "\n",
        "    callbacks = myCallback()\n",
        "    \n",
        "    # This Code Block should Define and Compile the Model. Please assume the images are 150 X 150 in your implementation.\n",
        "    model = tf.keras.models.Sequential([\n",
        "        # Your Code Here\n",
        "        tf.keras.layers.Conv2D(16, (3,3), activation='relu', input_shape=(150, 150, 3)),\n",
        "        tf.keras.layers.MaxPooling2D(2, 2),\n",
        "        tf.keras.layers.Conv2D(32, (3,3), activation='relu'),\n",
        "        tf.keras.layers.MaxPooling2D(2, 2),\n",
        "        tf.keras.layers.Conv2D(64, (3,3), activation='relu'),\n",
        "        tf.keras.layers.MaxPooling2D(2, 2),\n",
        "        tf.keras.layers.Flatten(),\n",
        "        tf.keras.layers.Dense(512, activation='relu'),\n",
        "        # Only 1 output neuron. It will contain a value from 0-1 where 0 for 1 class ('happy') and 1 for the other ('sad')\n",
        "        tf.keras.layers.Dense(1, activation='sigmoid')\n",
        "  \n",
        "    ])\n",
        "\n",
        "    from tensorflow.keras.optimizers import RMSprop\n",
        "\n",
        "    model.compile(# Your Code Here #\n",
        "            loss='binary_crossentropy',\n",
        "            optimizer=RMSprop(lr=0.001),\n",
        "            metrics=['accuracy'])\n",
        "        \n",
        "\n",
        "    # This code block should create an instance of an ImageDataGenerator called train_datagen \n",
        "    # And a train_generator by calling train_datagen.flow_from_directory\n",
        "\n",
        "    from tensorflow.keras.preprocessing.image import ImageDataGenerator\n",
        "\n",
        "    train_datagen = ImageDataGenerator(rescale=1/255)# Your Code Here\n",
        "\n",
        "    # Please use a target_size of 150 X 150.\n",
        "    train_generator = train_datagen.flow_from_directory(\n",
        "        # Your Code Here\n",
        "        '/content/gdrive/My Drive/Colab Notebooks/happy-or-sad/',  # This is the source directory for training images\n",
        "        target_size=(150, 150),  # All images will be resized to 150x150\n",
        "        batch_size=1,\n",
        "        # Since we use binary_crossentropy loss, we need binary labels\n",
        "        class_mode='binary'\n",
        "    )\n",
        "    # Expected output: 'Found 80 images belonging to 2 classes'\n",
        "\n",
        "    # This code block should call model.fit_generator and train for\n",
        "    # a number of epochs.\n",
        "    # model fitting\n",
        "    history = model.fit_generator(\n",
        "          # Your Code Here\n",
        "        train_generator,\n",
        "          steps_per_epoch=2,  \n",
        "          epochs=15,\n",
        "          verbose=1,callbacks = [callbacks]\n",
        "    )\n",
        "    # model fitting\n",
        "    return history.history['accuracy'][-1]"
      ],
      "execution_count": 28,
      "outputs": []
    },
    {
      "cell_type": "code",
      "metadata": {
        "id": "r80KKx2KhjFr",
        "outputId": "9c3f36c0-7126-4ae6-e75f-dbedbae18876",
        "colab": {
          "base_uri": "https://localhost:8080/"
        }
      },
      "source": [
        "train_happy_sad_model()"
      ],
      "execution_count": 29,
      "outputs": [
        {
          "output_type": "stream",
          "text": [
            "Found 80 images belonging to 2 classes.\n",
            "Epoch 1/15\n",
            "2/2 [==============================] - 0s 50ms/step - loss: 19.2848 - accuracy: 0.5000\n",
            "Epoch 2/15\n",
            "2/2 [==============================] - 0s 53ms/step - loss: 2.3935 - accuracy: 0.0000e+00\n",
            "Epoch 3/15\n",
            "2/2 [==============================] - 0s 56ms/step - loss: 1.4027 - accuracy: 0.5000\n",
            "Epoch 4/15\n",
            "2/2 [==============================] - 0s 61ms/step - loss: 0.5628 - accuracy: 0.5000\n",
            "Epoch 5/15\n",
            "2/2 [==============================] - 0s 74ms/step - loss: 1.0937 - accuracy: 0.5000\n",
            "Epoch 6/15\n",
            "2/2 [==============================] - 0s 63ms/step - loss: 0.3779 - accuracy: 1.0000\n"
          ],
          "name": "stdout"
        },
        {
          "output_type": "execute_result",
          "data": {
            "text/plain": [
              "1.0"
            ]
          },
          "metadata": {
            "tags": []
          },
          "execution_count": 29
        }
      ]
    },
    {
      "cell_type": "code",
      "metadata": {
        "id": "rMnqKk4Hhj3g"
      },
      "source": [
        ""
      ],
      "execution_count": null,
      "outputs": []
    }
  ]
}